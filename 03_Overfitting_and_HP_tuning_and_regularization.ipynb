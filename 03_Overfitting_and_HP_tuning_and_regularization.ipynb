{
  "nbformat": 4,
  "nbformat_minor": 0,
  "metadata": {
    "colab": {
      "name": "TCS 03 Overfitting and HP tuning and regularization.ipynb",
      "provenance": [],
      "authorship_tag": "ABX9TyN+zQgLjkg0ItxyM806aRVV"
    },
    "kernelspec": {
      "name": "python3",
      "display_name": "Python 3"
    },
    "language_info": {
      "name": "python"
    }
  },
  "cells": [
    {
      "cell_type": "code",
      "metadata": {
        "id": "PHGaJLlRPYxz"
      },
      "source": [
        ""
      ],
      "execution_count": null,
      "outputs": []
    },
    {
      "cell_type": "code",
      "metadata": {
        "colab": {
          "base_uri": "https://localhost:8080/"
        },
        "id": "mTzCtgYUO1Jn",
        "outputId": "140ab112-5414-4fa7-c36e-09f74dd4d45e"
      },
      "source": [
        "import tensorflow as tf\n",
        "from tensorflow import keras\n",
        "!pip install -q -U keras-tuner\n",
        "import kerastuner as kt"
      ],
      "execution_count": 2,
      "outputs": [
        {
          "output_type": "stream",
          "text": [
            "\u001b[?25l\r\u001b[K     |█████▏                          | 10kB 12.7MB/s eta 0:00:01\r\u001b[K     |██████████▍                     | 20kB 15.6MB/s eta 0:00:01\r\u001b[K     |███████████████▋                | 30kB 18.1MB/s eta 0:00:01\r\u001b[K     |████████████████████▉           | 40kB 19.8MB/s eta 0:00:01\r\u001b[K     |██████████████████████████      | 51kB 20.9MB/s eta 0:00:01\r\u001b[K     |███████████████████████████████▎| 61kB 21.8MB/s eta 0:00:01\r\u001b[K     |████████████████████████████████| 71kB 6.1MB/s \n",
            "\u001b[?25h  Building wheel for keras-tuner (setup.py) ... \u001b[?25l\u001b[?25hdone\n",
            "  Building wheel for terminaltables (setup.py) ... \u001b[?25l\u001b[?25hdone\n"
          ],
          "name": "stdout"
        }
      ]
    },
    {
      "cell_type": "code",
      "metadata": {
        "colab": {
          "base_uri": "https://localhost:8080/"
        },
        "id": "9LiT9lZYPODr",
        "outputId": "6cec4bfa-804f-4e93-d635-1eaf26623a0d"
      },
      "source": [
        "(trainx, trainy), (testx, testy) = keras.datasets.fashion_mnist.load_data()\n",
        "trainx = trainx / 255.0\n",
        "testx = testx/255.0"
      ],
      "execution_count": 3,
      "outputs": [
        {
          "output_type": "stream",
          "text": [
            "Downloading data from https://storage.googleapis.com/tensorflow/tf-keras-datasets/train-labels-idx1-ubyte.gz\n",
            "32768/29515 [=================================] - 0s 0us/step\n",
            "Downloading data from https://storage.googleapis.com/tensorflow/tf-keras-datasets/train-images-idx3-ubyte.gz\n",
            "26427392/26421880 [==============================] - 0s 0us/step\n",
            "Downloading data from https://storage.googleapis.com/tensorflow/tf-keras-datasets/t10k-labels-idx1-ubyte.gz\n",
            "8192/5148 [===============================================] - 0s 0us/step\n",
            "Downloading data from https://storage.googleapis.com/tensorflow/tf-keras-datasets/t10k-images-idx3-ubyte.gz\n",
            "4423680/4422102 [==============================] - 0s 0us/step\n"
          ],
          "name": "stdout"
        }
      ]
    },
    {
      "cell_type": "code",
      "metadata": {
        "id": "qGro1-skPnQ5"
      },
      "source": [
        "def build(hp):\n",
        "  model = keras.Sequential()\n",
        "  model.add(keras.layers.Flatten(input_shape=(28,28)))\n",
        "  #continous values controlled by steps\n",
        "  hp_units = hp.Int('units', min_value=32, max_value=512, step=32)\n",
        "  model.add(keras.layers.Dense(units=hp_units, activation='relu'))\n",
        "  model.add(keras.layers.Dense(10))\n",
        "  # continous or discrete parameters\n",
        "  # discrete-> choice\n",
        "  hp_lr = hp.Choice('lr', values=[1e-2, 1e-3, 1e-4])\n",
        "  model.compile(optimizer=keras.optimizers.RMSprop(learning_rate=hp_lr),\n",
        "                loss = keras.losses.SparseCategoricalCrossentropy(from_logits=True),\n",
        "                metrics=['accuracy'])\n",
        "  return model\n"
      ],
      "execution_count": 7,
      "outputs": []
    },
    {
      "cell_type": "code",
      "metadata": {
        "id": "OXes8w_VQ9cj"
      },
      "source": [
        "tuner = kt.Hyperband(build,\n",
        "                     objective='val_accuracy',\n",
        "                     max_epochs=10,\n",
        "                     factor=3,\n",
        "                     directory='hpdir',\n",
        "                     project_name='mnisttuning')"
      ],
      "execution_count": 8,
      "outputs": []
    },
    {
      "cell_type": "code",
      "metadata": {
        "id": "KRz29rYzRpgo"
      },
      "source": [
        "# Early Stopping\n",
        "# relieve algos that are wasting resources\n",
        "# patience=> how many iters to ignore before checking for performance for early stopping\n",
        "earlystop = tf.keras.callbacks.EarlyStopping(monitor='val_loss',patience=5)"
      ],
      "execution_count": 9,
      "outputs": []
    },
    {
      "cell_type": "code",
      "metadata": {
        "colab": {
          "base_uri": "https://localhost:8080/"
        },
        "id": "AsOmWO0rSIRY",
        "outputId": "7c8a16a9-a058-4728-e3e3-dda7681f4f4f"
      },
      "source": [
        "tuner.search(trainx, trainy, epochs=50, validation_split=0.2, callbacks=[earlystop])"
      ],
      "execution_count": null,
      "outputs": [
        {
          "output_type": "stream",
          "text": [
            "Trial 24 Complete [00h 00m 10s]\n",
            "val_accuracy: 0.846750020980835\n",
            "\n",
            "Best val_accuracy So Far: 0.8852499723434448\n",
            "Total elapsed time: 00h 05m 41s\n",
            "\n",
            "Search: Running Trial #25\n",
            "\n",
            "Hyperparameter    |Value             |Best Value So Far \n",
            "units             |256               |160               \n",
            "lr                |0.01              |0.001             \n",
            "tuner/epochs      |4                 |10                \n",
            "tuner/initial_e...|0                 |4                 \n",
            "tuner/bracket     |1                 |2                 \n",
            "tuner/round       |0                 |2                 \n",
            "\n",
            "Epoch 1/4\n",
            "1493/1500 [============================>.] - ETA: 0s - loss: 1.0668 - accuracy: 0.7269"
          ],
          "name": "stdout"
        }
      ]
    },
    {
      "cell_type": "code",
      "metadata": {
        "id": "nCmhuO1CSYmL"
      },
      "source": [
        ""
      ],
      "execution_count": null,
      "outputs": []
    }
  ]
}