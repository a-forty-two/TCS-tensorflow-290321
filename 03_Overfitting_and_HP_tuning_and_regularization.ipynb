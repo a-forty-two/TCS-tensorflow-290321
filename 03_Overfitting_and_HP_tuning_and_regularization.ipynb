{
  "nbformat": 4,
  "nbformat_minor": 0,
  "metadata": {
    "colab": {
      "name": "TCS 03 Overfitting and HP tuning and regularization.ipynb",
      "provenance": [],
      "authorship_tag": "ABX9TyOYCfjL8lSP+dbmI9tE8XYt"
    },
    "kernelspec": {
      "name": "python3",
      "display_name": "Python 3"
    },
    "language_info": {
      "name": "python"
    }
  },
  "cells": [
    {
      "cell_type": "code",
      "metadata": {
        "id": "PHGaJLlRPYxz"
      },
      "source": [
        ""
      ],
      "execution_count": null,
      "outputs": []
    },
    {
      "cell_type": "code",
      "metadata": {
        "colab": {
          "base_uri": "https://localhost:8080/"
        },
        "id": "mTzCtgYUO1Jn",
        "outputId": "140ab112-5414-4fa7-c36e-09f74dd4d45e"
      },
      "source": [
        "import tensorflow as tf\n",
        "from tensorflow import keras\n",
        "!pip install -q -U keras-tuner\n",
        "import kerastuner as kt"
      ],
      "execution_count": 2,
      "outputs": [
        {
          "output_type": "stream",
          "text": [
            "\u001b[?25l\r\u001b[K     |█████▏                          | 10kB 12.7MB/s eta 0:00:01\r\u001b[K     |██████████▍                     | 20kB 15.6MB/s eta 0:00:01\r\u001b[K     |███████████████▋                | 30kB 18.1MB/s eta 0:00:01\r\u001b[K     |████████████████████▉           | 40kB 19.8MB/s eta 0:00:01\r\u001b[K     |██████████████████████████      | 51kB 20.9MB/s eta 0:00:01\r\u001b[K     |███████████████████████████████▎| 61kB 21.8MB/s eta 0:00:01\r\u001b[K     |████████████████████████████████| 71kB 6.1MB/s \n",
            "\u001b[?25h  Building wheel for keras-tuner (setup.py) ... \u001b[?25l\u001b[?25hdone\n",
            "  Building wheel for terminaltables (setup.py) ... \u001b[?25l\u001b[?25hdone\n"
          ],
          "name": "stdout"
        }
      ]
    },
    {
      "cell_type": "code",
      "metadata": {
        "colab": {
          "base_uri": "https://localhost:8080/"
        },
        "id": "9LiT9lZYPODr",
        "outputId": "6cec4bfa-804f-4e93-d635-1eaf26623a0d"
      },
      "source": [
        "(trainx, trainy), (testx, testy) = keras.datasets.fashion_mnist.load_data()\n",
        "trainx = trainx / 255.0\n",
        "testx = testx/255.0"
      ],
      "execution_count": 3,
      "outputs": [
        {
          "output_type": "stream",
          "text": [
            "Downloading data from https://storage.googleapis.com/tensorflow/tf-keras-datasets/train-labels-idx1-ubyte.gz\n",
            "32768/29515 [=================================] - 0s 0us/step\n",
            "Downloading data from https://storage.googleapis.com/tensorflow/tf-keras-datasets/train-images-idx3-ubyte.gz\n",
            "26427392/26421880 [==============================] - 0s 0us/step\n",
            "Downloading data from https://storage.googleapis.com/tensorflow/tf-keras-datasets/t10k-labels-idx1-ubyte.gz\n",
            "8192/5148 [===============================================] - 0s 0us/step\n",
            "Downloading data from https://storage.googleapis.com/tensorflow/tf-keras-datasets/t10k-images-idx3-ubyte.gz\n",
            "4423680/4422102 [==============================] - 0s 0us/step\n"
          ],
          "name": "stdout"
        }
      ]
    },
    {
      "cell_type": "code",
      "metadata": {
        "id": "qGro1-skPnQ5"
      },
      "source": [
        "def build(hp):\n",
        "  model = keras.Sequential()\n",
        "  model.add(keras.layers.Flatten(input_shape=(28,28)))\n",
        "  #continous values controlled by steps\n",
        "  hp_units = hp.Int('units', min_value=32, max_value=512, step=32)\n",
        "  model.add(keras.layers.Dense(units=hp_units, activation='relu'))\n",
        "  model.add(keras.layers.Dense(10))\n",
        "  # continous or discrete parameters\n",
        "  # discrete-> choice\n",
        "  hp_lr = hp.Choice('lr', values=[1e-2, 1e-3, 1e-4])\n",
        "  model.compile(optimizer=keras.optimizers.RMSprop(learning_rate=hp_lr),\n",
        "                loss = keras.losses.SparseCategoricalCrossentropy(from_logits=True),\n",
        "                metrics=['accuracy'])\n",
        "  return model\n"
      ],
      "execution_count": 7,
      "outputs": []
    },
    {
      "cell_type": "code",
      "metadata": {
        "id": "OXes8w_VQ9cj"
      },
      "source": [
        "tuner = kt.Hyperband(build,\n",
        "                     objective='val_accuracy',\n",
        "                     max_epochs=10,\n",
        "                     factor=3,\n",
        "                     directory='hpdir',\n",
        "                     project_name='mnisttuning')"
      ],
      "execution_count": 8,
      "outputs": []
    },
    {
      "cell_type": "code",
      "metadata": {
        "id": "KRz29rYzRpgo"
      },
      "source": [
        "# Early Stopping\n",
        "# relieve algos that are wasting resources\n",
        "# patience=> how many iters to ignore before checking for performance for early stopping\n",
        "earlystop = tf.keras.callbacks.EarlyStopping(monitor='val_loss',patience=5)"
      ],
      "execution_count": 9,
      "outputs": []
    },
    {
      "cell_type": "code",
      "metadata": {
        "colab": {
          "base_uri": "https://localhost:8080/"
        },
        "id": "AsOmWO0rSIRY",
        "outputId": "7c8a16a9-a058-4728-e3e3-dda7681f4f4f"
      },
      "source": [
        "tuner.search(trainx, trainy, epochs=50, validation_split=0.2, callbacks=[earlystop])"
      ],
      "execution_count": 11,
      "outputs": [
        {
          "output_type": "stream",
          "text": [
            "Trial 31 Complete [00h 00m 21s]\n",
            "val_accuracy: 0.8757500052452087\n",
            "\n",
            "Best val_accuracy So Far: 0.8852499723434448\n",
            "Total elapsed time: 00h 10m 23s\n",
            "INFO:tensorflow:Oracle triggered exit\n"
          ],
          "name": "stdout"
        }
      ]
    },
    {
      "cell_type": "code",
      "metadata": {
        "colab": {
          "base_uri": "https://localhost:8080/"
        },
        "id": "nCmhuO1CSYmL",
        "outputId": "d994a7ff-f540-4b8c-d1a7-b2c990f1c2cf"
      },
      "source": [
        "besthp = tuner.get_best_hyperparameters(num_trials=1)[0]\n",
        "besthp.__dict__\n",
        "# observe values-> lr-> 0.001, units=160 was best option"
      ],
      "execution_count": 13,
      "outputs": [
        {
          "output_type": "execute_result",
          "data": {
            "text/plain": [
              "{'_conditions': [],\n",
              " '_hps': defaultdict(list,\n",
              "             {'lr': [Choice(name: \"lr\", values: [0.01, 0.001, 0.0001], ordered: True, default: 0.01)],\n",
              "              'units': [Int(name: \"units\", min_value: 32, max_value: 512, step: 32, sampling: None, default: 32)]}),\n",
              " '_name_scopes': [],\n",
              " '_space': [Int(name: \"units\", min_value: 32, max_value: 512, step: 32, sampling: None, default: 32),\n",
              "  Choice(name: \"lr\", values: [0.01, 0.001, 0.0001], ordered: True, default: 0.01)],\n",
              " 'values': {'lr': 0.001,\n",
              "  'tuner/bracket': 2,\n",
              "  'tuner/epochs': 10,\n",
              "  'tuner/initial_epoch': 4,\n",
              "  'tuner/round': 2,\n",
              "  'tuner/trial_id': '5f9c457ac6d6ed4f965170175cfd6f75',\n",
              "  'units': 160}}"
            ]
          },
          "metadata": {
            "tags": []
          },
          "execution_count": 13
        }
      ]
    },
    {
      "cell_type": "code",
      "metadata": {
        "colab": {
          "base_uri": "https://localhost:8080/"
        },
        "id": "NY-YKKxvW2Xi",
        "outputId": "0795dbf9-f771-4a22-cef4-d8a4235f2016"
      },
      "source": [
        "# building a model only with the HP options!!!\n",
        "\n",
        "model = tuner.hypermodel.build(besthp)\n",
        "history = model.fit(trainx, trainy, epochs=50, validation_split=0.2)"
      ],
      "execution_count": 14,
      "outputs": [
        {
          "output_type": "stream",
          "text": [
            "Epoch 1/50\n",
            "1500/1500 [==============================] - 5s 3ms/step - loss: 0.6500 - accuracy: 0.7691 - val_loss: 0.4681 - val_accuracy: 0.8292\n",
            "Epoch 2/50\n",
            "1500/1500 [==============================] - 4s 3ms/step - loss: 0.3838 - accuracy: 0.8617 - val_loss: 0.3571 - val_accuracy: 0.8735\n",
            "Epoch 3/50\n",
            "1500/1500 [==============================] - 4s 3ms/step - loss: 0.3524 - accuracy: 0.8742 - val_loss: 0.3745 - val_accuracy: 0.8678\n",
            "Epoch 4/50\n",
            "1500/1500 [==============================] - 4s 3ms/step - loss: 0.3276 - accuracy: 0.8832 - val_loss: 0.3858 - val_accuracy: 0.8699\n",
            "Epoch 5/50\n",
            "1500/1500 [==============================] - 4s 3ms/step - loss: 0.3157 - accuracy: 0.8862 - val_loss: 0.3531 - val_accuracy: 0.8820\n",
            "Epoch 6/50\n",
            "1500/1500 [==============================] - 4s 3ms/step - loss: 0.3064 - accuracy: 0.8909 - val_loss: 0.3858 - val_accuracy: 0.8777\n",
            "Epoch 7/50\n",
            "1500/1500 [==============================] - 4s 3ms/step - loss: 0.2954 - accuracy: 0.8962 - val_loss: 0.3605 - val_accuracy: 0.8802\n",
            "Epoch 8/50\n",
            "1500/1500 [==============================] - 4s 3ms/step - loss: 0.2830 - accuracy: 0.9027 - val_loss: 0.4008 - val_accuracy: 0.8705\n",
            "Epoch 9/50\n",
            "1500/1500 [==============================] - 4s 3ms/step - loss: 0.2780 - accuracy: 0.9023 - val_loss: 0.3852 - val_accuracy: 0.8814\n",
            "Epoch 10/50\n",
            "1500/1500 [==============================] - 4s 3ms/step - loss: 0.2692 - accuracy: 0.9049 - val_loss: 0.4076 - val_accuracy: 0.8806\n",
            "Epoch 11/50\n",
            "1500/1500 [==============================] - 4s 3ms/step - loss: 0.2654 - accuracy: 0.9100 - val_loss: 0.3793 - val_accuracy: 0.8842\n",
            "Epoch 12/50\n",
            "1500/1500 [==============================] - 4s 3ms/step - loss: 0.2607 - accuracy: 0.9096 - val_loss: 0.4220 - val_accuracy: 0.8773\n",
            "Epoch 13/50\n",
            "1500/1500 [==============================] - 4s 3ms/step - loss: 0.2574 - accuracy: 0.9129 - val_loss: 0.4570 - val_accuracy: 0.8778\n",
            "Epoch 14/50\n",
            "1500/1500 [==============================] - 4s 3ms/step - loss: 0.2512 - accuracy: 0.9141 - val_loss: 0.4275 - val_accuracy: 0.8832\n",
            "Epoch 15/50\n",
            "1500/1500 [==============================] - 4s 3ms/step - loss: 0.2412 - accuracy: 0.9192 - val_loss: 0.4235 - val_accuracy: 0.8810\n",
            "Epoch 16/50\n",
            "1500/1500 [==============================] - 4s 3ms/step - loss: 0.2355 - accuracy: 0.9194 - val_loss: 0.4767 - val_accuracy: 0.8791\n",
            "Epoch 17/50\n",
            "1500/1500 [==============================] - 4s 3ms/step - loss: 0.2390 - accuracy: 0.9194 - val_loss: 0.4452 - val_accuracy: 0.8849\n",
            "Epoch 18/50\n",
            "1500/1500 [==============================] - 4s 3ms/step - loss: 0.2363 - accuracy: 0.9206 - val_loss: 0.5203 - val_accuracy: 0.8707\n",
            "Epoch 19/50\n",
            "1500/1500 [==============================] - 4s 3ms/step - loss: 0.2198 - accuracy: 0.9259 - val_loss: 0.5221 - val_accuracy: 0.8739\n",
            "Epoch 20/50\n",
            "1500/1500 [==============================] - 4s 3ms/step - loss: 0.2209 - accuracy: 0.9259 - val_loss: 0.4429 - val_accuracy: 0.8878\n",
            "Epoch 21/50\n",
            "1500/1500 [==============================] - 4s 3ms/step - loss: 0.2097 - accuracy: 0.9258 - val_loss: 0.4926 - val_accuracy: 0.8839\n",
            "Epoch 22/50\n",
            "1500/1500 [==============================] - 4s 3ms/step - loss: 0.2151 - accuracy: 0.9295 - val_loss: 0.5069 - val_accuracy: 0.8758\n",
            "Epoch 23/50\n",
            "1500/1500 [==============================] - 4s 3ms/step - loss: 0.2109 - accuracy: 0.9308 - val_loss: 0.5111 - val_accuracy: 0.8773\n",
            "Epoch 24/50\n",
            "1500/1500 [==============================] - 4s 3ms/step - loss: 0.2162 - accuracy: 0.9279 - val_loss: 0.5201 - val_accuracy: 0.8850\n",
            "Epoch 25/50\n",
            "1500/1500 [==============================] - 4s 3ms/step - loss: 0.2110 - accuracy: 0.9319 - val_loss: 0.5431 - val_accuracy: 0.8831\n",
            "Epoch 26/50\n",
            "1500/1500 [==============================] - 4s 3ms/step - loss: 0.2086 - accuracy: 0.9320 - val_loss: 0.5632 - val_accuracy: 0.8649\n",
            "Epoch 27/50\n",
            "1500/1500 [==============================] - 4s 3ms/step - loss: 0.2009 - accuracy: 0.9361 - val_loss: 0.5510 - val_accuracy: 0.8855\n",
            "Epoch 28/50\n",
            "1500/1500 [==============================] - 4s 3ms/step - loss: 0.1939 - accuracy: 0.9374 - val_loss: 0.5417 - val_accuracy: 0.8879\n",
            "Epoch 29/50\n",
            "1500/1500 [==============================] - 4s 3ms/step - loss: 0.1847 - accuracy: 0.9388 - val_loss: 0.5922 - val_accuracy: 0.8836\n",
            "Epoch 30/50\n",
            "1500/1500 [==============================] - 4s 3ms/step - loss: 0.1852 - accuracy: 0.9388 - val_loss: 0.5784 - val_accuracy: 0.8800\n",
            "Epoch 31/50\n",
            "1500/1500 [==============================] - 4s 3ms/step - loss: 0.1814 - accuracy: 0.9409 - val_loss: 0.6065 - val_accuracy: 0.8836\n",
            "Epoch 32/50\n",
            "1500/1500 [==============================] - 4s 3ms/step - loss: 0.1896 - accuracy: 0.9404 - val_loss: 0.6212 - val_accuracy: 0.8833\n",
            "Epoch 33/50\n",
            "1500/1500 [==============================] - 4s 3ms/step - loss: 0.1802 - accuracy: 0.9414 - val_loss: 0.5718 - val_accuracy: 0.8883\n",
            "Epoch 34/50\n",
            "1500/1500 [==============================] - 4s 3ms/step - loss: 0.1746 - accuracy: 0.9450 - val_loss: 0.6158 - val_accuracy: 0.8850\n",
            "Epoch 35/50\n",
            "1500/1500 [==============================] - 4s 3ms/step - loss: 0.1754 - accuracy: 0.9442 - val_loss: 0.6112 - val_accuracy: 0.8834\n",
            "Epoch 36/50\n",
            "1500/1500 [==============================] - 4s 3ms/step - loss: 0.1700 - accuracy: 0.9434 - val_loss: 0.6266 - val_accuracy: 0.8868\n",
            "Epoch 37/50\n",
            "1500/1500 [==============================] - 4s 3ms/step - loss: 0.1774 - accuracy: 0.9429 - val_loss: 0.6592 - val_accuracy: 0.8852\n",
            "Epoch 38/50\n",
            "1500/1500 [==============================] - 4s 3ms/step - loss: 0.1739 - accuracy: 0.9457 - val_loss: 0.6646 - val_accuracy: 0.8866\n",
            "Epoch 39/50\n",
            "1500/1500 [==============================] - 4s 3ms/step - loss: 0.1696 - accuracy: 0.9478 - val_loss: 0.6489 - val_accuracy: 0.8848\n",
            "Epoch 40/50\n",
            "1500/1500 [==============================] - 4s 3ms/step - loss: 0.1598 - accuracy: 0.9464 - val_loss: 0.7284 - val_accuracy: 0.8756\n",
            "Epoch 41/50\n",
            "1500/1500 [==============================] - 4s 3ms/step - loss: 0.1585 - accuracy: 0.9480 - val_loss: 0.7411 - val_accuracy: 0.8805\n",
            "Epoch 42/50\n",
            "1500/1500 [==============================] - 4s 3ms/step - loss: 0.1603 - accuracy: 0.9519 - val_loss: 0.7320 - val_accuracy: 0.8806\n",
            "Epoch 43/50\n",
            "1500/1500 [==============================] - 4s 3ms/step - loss: 0.1632 - accuracy: 0.9494 - val_loss: 0.7092 - val_accuracy: 0.8823\n",
            "Epoch 44/50\n",
            "1500/1500 [==============================] - 4s 3ms/step - loss: 0.1575 - accuracy: 0.9511 - val_loss: 0.7257 - val_accuracy: 0.8867\n",
            "Epoch 45/50\n",
            "1500/1500 [==============================] - 4s 3ms/step - loss: 0.1547 - accuracy: 0.9521 - val_loss: 0.7832 - val_accuracy: 0.8783\n",
            "Epoch 46/50\n",
            "1500/1500 [==============================] - 4s 3ms/step - loss: 0.1486 - accuracy: 0.9535 - val_loss: 0.7459 - val_accuracy: 0.8831\n",
            "Epoch 47/50\n",
            "1500/1500 [==============================] - 4s 3ms/step - loss: 0.1466 - accuracy: 0.9549 - val_loss: 0.8206 - val_accuracy: 0.8758\n",
            "Epoch 48/50\n",
            "1500/1500 [==============================] - 4s 3ms/step - loss: 0.1493 - accuracy: 0.9534 - val_loss: 0.7907 - val_accuracy: 0.8776\n",
            "Epoch 49/50\n",
            "1500/1500 [==============================] - 4s 3ms/step - loss: 0.1463 - accuracy: 0.9538 - val_loss: 0.7953 - val_accuracy: 0.8823\n",
            "Epoch 50/50\n",
            "1500/1500 [==============================] - 4s 3ms/step - loss: 0.1405 - accuracy: 0.9545 - val_loss: 0.8339 - val_accuracy: 0.8874\n"
          ],
          "name": "stdout"
        }
      ]
    },
    {
      "cell_type": "code",
      "metadata": {
        "colab": {
          "base_uri": "https://localhost:8080/"
        },
        "id": "ohnp9pNoXeZW",
        "outputId": "836d3fc1-3806-406c-dd8f-619c4d71e950"
      },
      "source": [
        "valperepoch = history.history['val_accuracy']\n",
        "bestepoch = valperepoch.index(max(valperepoch)) +1 #because epochs start with 1, index starts at 0\n",
        "bestepoch"
      ],
      "execution_count": 15,
      "outputs": [
        {
          "output_type": "execute_result",
          "data": {
            "text/plain": [
              "33"
            ]
          },
          "metadata": {
            "tags": []
          },
          "execution_count": 15
        }
      ]
    },
    {
      "cell_type": "code",
      "metadata": {
        "colab": {
          "base_uri": "https://localhost:8080/"
        },
        "id": "TYhLfbI6X6Iz",
        "outputId": "855daed1-b615-47c1-a3e8-c6478526587e"
      },
      "source": [
        "# retrain the model ONLY till required epochs \n",
        "%%time\n",
        "hypermodel = tuner.hypermodel.build(besthp)\n",
        "history = hypermodel.fit(trainx, trainy, epochs=bestepoch, validation_split=0.2, verbose=0)\n",
        "evalresults = hypermodel.evaluate(testx, testy)\n"
      ],
      "execution_count": 17,
      "outputs": [
        {
          "output_type": "stream",
          "text": [
            "313/313 [==============================] - 1s 2ms/step - loss: 0.6880 - accuracy: 0.8756\n",
            "CPU times: user 2min 41s, sys: 15.4 s, total: 2min 56s\n",
            "Wall time: 1min 52s\n"
          ],
          "name": "stdout"
        }
      ]
    },
    {
      "cell_type": "code",
      "metadata": {
        "colab": {
          "base_uri": "https://localhost:8080/"
        },
        "id": "resgrUOzYiqp",
        "outputId": "f08209eb-65f3-4923-f735-7d760c839861"
      },
      "source": [
        "evalresults"
      ],
      "execution_count": 18,
      "outputs": [
        {
          "output_type": "execute_result",
          "data": {
            "text/plain": [
              "[0.6880115866661072, 0.8755999803543091]"
            ]
          },
          "metadata": {
            "tags": []
          },
          "execution_count": 18
        }
      ]
    },
    {
      "cell_type": "code",
      "metadata": {
        "id": "01n2eb1HZPOP"
      },
      "source": [
        ""
      ],
      "execution_count": null,
      "outputs": []
    }
  ]
}