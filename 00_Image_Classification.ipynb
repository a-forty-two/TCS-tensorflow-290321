{
  "nbformat": 4,
  "nbformat_minor": 0,
  "metadata": {
    "colab": {
      "name": "TCS 00 Image Classification.ipynb",
      "provenance": [],
      "authorship_tag": "ABX9TyNJEjxgKgBwVZ2+aX+LAYdo"
    },
    "kernelspec": {
      "name": "python3",
      "display_name": "Python 3"
    },
    "language_info": {
      "name": "python"
    }
  },
  "cells": [
    {
      "cell_type": "code",
      "metadata": {
        "id": "Lln7yRvxqSJ_"
      },
      "source": [
        "import tensorflow as tf\n",
        "import matplotlib.pyplot as plt\n",
        "import numpy as np\n"
      ],
      "execution_count": 1,
      "outputs": []
    },
    {
      "cell_type": "code",
      "metadata": {
        "colab": {
          "base_uri": "https://localhost:8080/"
        },
        "id": "fVXkHj1RqfMG",
        "outputId": "aa5025e7-300b-4153-cb4f-f6e855f757f9"
      },
      "source": [
        "dataset = tf.keras.datasets.fashion_mnist\n",
        "(xtrain, ytrain), (xtest, ytest) = dataset.load_data()"
      ],
      "execution_count": 2,
      "outputs": [
        {
          "output_type": "stream",
          "text": [
            "Downloading data from https://storage.googleapis.com/tensorflow/tf-keras-datasets/train-labels-idx1-ubyte.gz\n",
            "32768/29515 [=================================] - 0s 0us/step\n",
            "Downloading data from https://storage.googleapis.com/tensorflow/tf-keras-datasets/train-images-idx3-ubyte.gz\n",
            "26427392/26421880 [==============================] - 0s 0us/step\n",
            "Downloading data from https://storage.googleapis.com/tensorflow/tf-keras-datasets/t10k-labels-idx1-ubyte.gz\n",
            "8192/5148 [===============================================] - 0s 0us/step\n",
            "Downloading data from https://storage.googleapis.com/tensorflow/tf-keras-datasets/t10k-images-idx3-ubyte.gz\n",
            "4423680/4422102 [==============================] - 0s 0us/step\n"
          ],
          "name": "stdout"
        }
      ]
    },
    {
      "cell_type": "code",
      "metadata": {
        "id": "4Jx1CUAaqwyB"
      },
      "source": [
        "\n",
        "classes = {0: 'T-shirt/top',\n",
        "1: 'Trouser',\n",
        "2: 'Pullover',\n",
        "3: 'Dress',\n",
        "4: 'Coat',\n",
        "5: 'Sandal',\n",
        "6: 'Shirt',\n",
        "7: 'Sneaker',\n",
        "8: 'Bag',\n",
        "9: 'Ankle boot'}"
      ],
      "execution_count": 3,
      "outputs": []
    },
    {
      "cell_type": "code",
      "metadata": {
        "colab": {
          "base_uri": "https://localhost:8080/"
        },
        "id": "ec_zRqO_rJdB",
        "outputId": "2c874ca6-188d-4037-9401-a8537f99ea57"
      },
      "source": [
        "xtrain.shape"
      ],
      "execution_count": 4,
      "outputs": [
        {
          "output_type": "execute_result",
          "data": {
            "text/plain": [
              "(60000, 28, 28)"
            ]
          },
          "metadata": {
            "tags": []
          },
          "execution_count": 4
        }
      ]
    },
    {
      "cell_type": "code",
      "metadata": {
        "colab": {
          "base_uri": "https://localhost:8080/",
          "height": 265
        },
        "id": "9fRnkJbOrMxM",
        "outputId": "429a70a0-d5b0-4acb-b81a-0165a673a732"
      },
      "source": [
        "plt.figure()\n",
        "plt.imshow(xtrain[100])\n",
        "plt.show()"
      ],
      "execution_count": 6,
      "outputs": [
        {
          "output_type": "display_data",
          "data": {
            "image/png": "[encoded data removed]",
            "text/plain": [
              "<Figure size 432x288 with 1 Axes>"
            ]
          },
          "metadata": {
            "tags": [],
            "needs_background": "light"
          }
        }
      ]
    },
    {
      "cell_type": "code",
      "metadata": {
        "colab": {
          "base_uri": "https://localhost:8080/",
          "height": 265
        },
        "id": "HRGGsbR7rWzs",
        "outputId": "a0a80177-087d-489c-bf06-2717d6cc749b"
      },
      "source": [
        "# scale to 0 and 1\n",
        "# divide by 255-> 0/255->0,  255/255-> 1! else-> scales (0,1)   => (x-min)/ (max-min)\n",
        "xtrain_scaled = xtrain/255.0\n",
        "xtest_scaled = xtest/255.0\n",
        "plt.figure()\n",
        "plt.imshow(xtrain_scaled[100])\n",
        "plt.show()"
      ],
      "execution_count": 8,
      "outputs": [
        {
          "output_type": "display_data",
          "data": {
            "image/png": "[encoded data removed]",
            "text/plain": [
              "<Figure size 432x288 with 1 Axes>"
            ]
          },
          "metadata": {
            "tags": [],
            "needs_background": "light"
          }
        }
      ]
    },
    {
      "cell_type": "code",
      "metadata": {
        "id": "b2T1TGjsriqf"
      },
      "source": [
        "# Image classification\n",
        "\n",
        "# Deep Learning ->\n",
        "# ML-> generate trainable parameters\n",
        "# Dense Layer or Fully Connected Layer!!!\n",
        "# network-> 2 layers of Dense Layer!\n",
        "# Dense layers-> accepts 1 Dimension input\n",
        "\n",
        "# Flattening-> converts 2D image into 1-D sequence array\n",
        "# 2 Dense Layers-> generate trainable parameters for this array\n",
        "\n",
        "# NNL-> 3 layers-> Flatten -> Dense -> Dense \n",
        "\n",
        "from tensorflow import keras \n",
        "layer1 = keras.layers.Flatten(input_shape=(28,28))\n",
        "layer2 = keras.layers.Dense(64, activation='relu')\n",
        "layer3 = keras.layers.Dense(10)\n",
        "all_layers = [layer1,layer2,layer3]\n",
        "model = keras.Sequential(all_layers)"
      ],
      "execution_count": 10,
      "outputs": []
    },
    {
      "cell_type": "code",
      "metadata": {
        "id": "oR2YeEq-tz6E"
      },
      "source": [
        "model.compile(loss=tf.keras.losses.SparseCategoricalCrossentropy(from_logits=True), metrics=['accuracy'],\n",
        "              optimizer='adam')"
      ],
      "execution_count": 11,
      "outputs": []
    },
    {
      "cell_type": "code",
      "metadata": {
        "id": "xHhWm7ztuc4w"
      },
      "source": [
        "# SGD-> gradient descent\n",
        "# RmsProp-> Root Mean Squared Propagation [calculate magnitude of mistake and move in that direction]\n",
        "# RmsProp + Momentum -> adam optimizer [RmsProp with a momentum in the direction of correction]\n",
        "#     -> closer to answer-> reduce LR, far away from answer-> increase the learning rate "
      ],
      "execution_count": 12,
      "outputs": []
    },
    {
      "cell_type": "code",
      "metadata": {
        "colab": {
          "base_uri": "https://localhost:8080/"
        },
        "id": "9vh9ir_8vDbV",
        "outputId": "ea20a15a-151c-4dd7-c803-02bed2c12b57"
      },
      "source": [
        "model.fit(xtrain_scaled, ytrain, epochs=20)"
      ],
      "execution_count": 13,
      "outputs": [
        {
          "output_type": "stream",
          "text": [
            "Epoch 1/20\n",
            "1875/1875 [==============================] - 4s 2ms/step - loss: 0.6580 - accuracy: 0.7764\n",
            "Epoch 2/20\n",
            "1875/1875 [==============================] - 4s 2ms/step - loss: 0.3955 - accuracy: 0.8593\n",
            "Epoch 3/20\n",
            "1875/1875 [==============================] - 4s 2ms/step - loss: 0.3616 - accuracy: 0.8696\n",
            "Epoch 4/20\n",
            "1875/1875 [==============================] - 4s 2ms/step - loss: 0.3318 - accuracy: 0.8803\n",
            "Epoch 5/20\n",
            "1875/1875 [==============================] - 4s 2ms/step - loss: 0.3158 - accuracy: 0.8842\n",
            "Epoch 6/20\n",
            "1875/1875 [==============================] - 4s 2ms/step - loss: 0.2957 - accuracy: 0.8905\n",
            "Epoch 7/20\n",
            "1875/1875 [==============================] - 3s 2ms/step - loss: 0.2831 - accuracy: 0.8957\n",
            "Epoch 8/20\n",
            "1875/1875 [==============================] - 3s 2ms/step - loss: 0.2740 - accuracy: 0.8991\n",
            "Epoch 9/20\n",
            "1875/1875 [==============================] - 3s 2ms/step - loss: 0.2629 - accuracy: 0.9039\n",
            "Epoch 10/20\n",
            "1875/1875 [==============================] - 3s 2ms/step - loss: 0.2596 - accuracy: 0.9056\n",
            "Epoch 11/20\n",
            "1875/1875 [==============================] - 3s 2ms/step - loss: 0.2543 - accuracy: 0.9042\n",
            "Epoch 12/20\n",
            "1875/1875 [==============================] - 3s 2ms/step - loss: 0.2493 - accuracy: 0.9072\n",
            "Epoch 13/20\n",
            "1875/1875 [==============================] - 3s 2ms/step - loss: 0.2407 - accuracy: 0.9102\n",
            "Epoch 14/20\n",
            "1875/1875 [==============================] - 3s 2ms/step - loss: 0.2336 - accuracy: 0.9142\n",
            "Epoch 15/20\n",
            "1875/1875 [==============================] - 3s 2ms/step - loss: 0.2319 - accuracy: 0.9142\n",
            "Epoch 16/20\n",
            "1875/1875 [==============================] - 3s 2ms/step - loss: 0.2208 - accuracy: 0.9170\n",
            "Epoch 17/20\n",
            "1875/1875 [==============================] - 4s 2ms/step - loss: 0.2171 - accuracy: 0.9192\n",
            "Epoch 18/20\n",
            "1875/1875 [==============================] - 4s 2ms/step - loss: 0.2148 - accuracy: 0.9194\n",
            "Epoch 19/20\n",
            "1875/1875 [==============================] - 4s 2ms/step - loss: 0.2086 - accuracy: 0.9227\n",
            "Epoch 20/20\n",
            "1875/1875 [==============================] - 3s 2ms/step - loss: 0.2054 - accuracy: 0.9236\n"
          ],
          "name": "stdout"
        },
        {
          "output_type": "execute_result",
          "data": {
            "text/plain": [
              "<tensorflow.python.keras.callbacks.History at 0x7f4a18e47d10>"
            ]
          },
          "metadata": {
            "tags": []
          },
          "execution_count": 13
        }
      ]
    },
    {
      "cell_type": "code",
      "metadata": {
        "colab": {
          "base_uri": "https://localhost:8080/"
        },
        "id": "HEohPP8-vJks",
        "outputId": "28d55954-4e6c-4d54-cde6-4e125c01361e"
      },
      "source": [
        "test_loss,test_acc =model.evaluate(xtest_scaled, ytest, verbose=0)\n",
        "print(test_acc)\n",
        "print(test_loss)"
      ],
      "execution_count": 16,
      "outputs": [
        {
          "output_type": "stream",
          "text": [
            "0.8831999897956848\n",
            "0.3581996560096741\n"
          ],
          "name": "stdout"
        }
      ]
    },
    {
      "cell_type": "code",
      "metadata": {
        "colab": {
          "base_uri": "https://localhost:8080/"
        },
        "id": "4soDlOuyx5nT",
        "outputId": "805bc83c-ac86-413b-94d7-c8a331c85984"
      },
      "source": [
        "trials = [42, 100, 33]\n",
        "for trial in trials:\n",
        "  predictions = model.predict(xtest_scaled)\n",
        "  predictions[trial]\n",
        "  correct_prediction = np.argmax(predictions[trial])\n",
        "  print(correct_prediction)\n",
        "  print(classes[correct_prediction])\n",
        "  print('*******')"
      ],
      "execution_count": 26,
      "outputs": [
        {
          "output_type": "stream",
          "text": [
            "6\n",
            "Shirt\n",
            "*******\n",
            "3\n",
            "Dress\n",
            "*******\n",
            "3\n",
            "Dress\n",
            "*******\n"
          ],
          "name": "stdout"
        }
      ]
    },
    {
      "cell_type": "code",
      "metadata": {
        "colab": {
          "base_uri": "https://localhost:8080/",
          "height": 265
        },
        "id": "yEj0T_6NyJBL",
        "outputId": "fe26ad61-5ffb-429d-ae0e-15d1e79818e3"
      },
      "source": [
        "plt.figure()\n",
        "plt.imshow(xtest_scaled[33])\n",
        "plt.show()"
      ],
      "execution_count": 29,
      "outputs": [
        {
          "output_type": "display_data",
          "data": {
            "image/png": "[encoded data removed]",
            "text/plain": [
              "<Figure size 432x288 with 1 Axes>"
            ]
          },
          "metadata": {
            "tags": [],
            "needs_background": "light"
          }
        }
      ]
    },
    {
      "cell_type": "code",
      "metadata": {
        "id": "wj6m4cpEySTz"
      },
      "source": [
        ""
      ],
      "execution_count": null,
      "outputs": []
    }
  ]
}