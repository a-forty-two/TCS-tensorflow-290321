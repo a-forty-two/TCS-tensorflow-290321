{
  "nbformat": 4,
  "nbformat_minor": 0,
  "metadata": {
    "colab": {
      "name": "TCS 03 Regression in TF Price Prediction.ipynb",
      "provenance": [],
      "collapsed_sections": [],
      "authorship_tag": "ABX9TyMuqoHaf+eLhjgTL4CrgrrJ"
    },
    "kernelspec": {
      "name": "python3",
      "display_name": "Python 3"
    },
    "language_info": {
      "name": "python"
    }
  },
  "cells": [
    {
      "cell_type": "code",
      "metadata": {
        "id": "gJEc89bt95Qu"
      },
      "source": [
        "import matplotlib.pyplot as plt\n",
        "import numpy as np\n",
        "import pandas as pd\n",
        "import seaborn as sns\n",
        "import tensorflow as tf\n",
        "from tensorflow import keras\n",
        "from tensorflow.keras import layers\n",
        "from tensorflow.keras.layers.experimental import preprocessing"
      ],
      "execution_count": 1,
      "outputs": []
    },
    {
      "cell_type": "code",
      "metadata": {
        "id": "NUGwpIFv-RN9"
      },
      "source": [
        "# data source: https://archive.ics.uci.edu/ml/datasets/auto+mpg\n",
        "url = 'https://archive.ics.uci.edu/ml/machine-learning-databases/auto-mpg/auto-mpg.data'\n",
        "cols = [ 'mpg' , 'cylinders', 'displacement','hp','weight','acceleration','year','origin','carname']"
      ],
      "execution_count": 2,
      "outputs": []
    },
    {
      "cell_type": "code",
      "metadata": {
        "id": "JoMTJepT_aag"
      },
      "source": [
        "dataset = pd.read_csv(url, names=cols, na_values='?', comment='\\t', sep=' ', skipinitialspace=True)"
      ],
      "execution_count": 3,
      "outputs": []
    },
    {
      "cell_type": "code",
      "metadata": {
        "colab": {
          "base_uri": "https://localhost:8080/",
          "height": 138
        },
        "id": "VO2wGo08AeiS",
        "outputId": "464ca12e-385e-446e-aa56-a314775da960"
      },
      "source": [
        "dataset[:3]"
      ],
      "execution_count": 4,
      "outputs": [
        {
          "output_type": "execute_result",
          "data": {
            "text/html": [
              "<div>\n",
              "<style scoped>\n",
              "    .dataframe tbody tr th:only-of-type {\n",
              "        vertical-align: middle;\n",
              "    }\n",
              "\n",
              "    .dataframe tbody tr th {\n",
              "        vertical-align: top;\n",
              "    }\n",
              "\n",
              "    .dataframe thead th {\n",
              "        text-align: right;\n",
              "    }\n",
              "</style>\n",
              "<table border=\"1\" class=\"dataframe\">\n",
              "  <thead>\n",
              "    <tr style=\"text-align: right;\">\n",
              "      <th></th>\n",
              "      <th>mpg</th>\n",
              "      <th>cylinders</th>\n",
              "      <th>displacement</th>\n",
              "      <th>hp</th>\n",
              "      <th>weight</th>\n",
              "      <th>acceleration</th>\n",
              "      <th>year</th>\n",
              "      <th>origin</th>\n",
              "      <th>carname</th>\n",
              "    </tr>\n",
              "  </thead>\n",
              "  <tbody>\n",
              "    <tr>\n",
              "      <th>0</th>\n",
              "      <td>18.0</td>\n",
              "      <td>8</td>\n",
              "      <td>307.0</td>\n",
              "      <td>130.0</td>\n",
              "      <td>3504.0</td>\n",
              "      <td>12.0</td>\n",
              "      <td>70</td>\n",
              "      <td>1</td>\n",
              "      <td>NaN</td>\n",
              "    </tr>\n",
              "    <tr>\n",
              "      <th>1</th>\n",
              "      <td>15.0</td>\n",
              "      <td>8</td>\n",
              "      <td>350.0</td>\n",
              "      <td>165.0</td>\n",
              "      <td>3693.0</td>\n",
              "      <td>11.5</td>\n",
              "      <td>70</td>\n",
              "      <td>1</td>\n",
              "      <td>NaN</td>\n",
              "    </tr>\n",
              "    <tr>\n",
              "      <th>2</th>\n",
              "      <td>18.0</td>\n",
              "      <td>8</td>\n",
              "      <td>318.0</td>\n",
              "      <td>150.0</td>\n",
              "      <td>3436.0</td>\n",
              "      <td>11.0</td>\n",
              "      <td>70</td>\n",
              "      <td>1</td>\n",
              "      <td>NaN</td>\n",
              "    </tr>\n",
              "  </tbody>\n",
              "</table>\n",
              "</div>"
            ],
            "text/plain": [
              "    mpg  cylinders  displacement     hp  ...  acceleration  year  origin  carname\n",
              "0  18.0          8         307.0  130.0  ...          12.0    70       1      NaN\n",
              "1  15.0          8         350.0  165.0  ...          11.5    70       1      NaN\n",
              "2  18.0          8         318.0  150.0  ...          11.0    70       1      NaN\n",
              "\n",
              "[3 rows x 9 columns]"
            ]
          },
          "metadata": {
            "tags": []
          },
          "execution_count": 4
        }
      ]
    },
    {
      "cell_type": "code",
      "metadata": {
        "colab": {
          "base_uri": "https://localhost:8080/"
        },
        "id": "UW3o3kiIA5GD",
        "outputId": "ac64a61d-6e3c-47d9-c092-704f89d37f6a"
      },
      "source": [
        "dataset.isna().sum()"
      ],
      "execution_count": 5,
      "outputs": [
        {
          "output_type": "execute_result",
          "data": {
            "text/plain": [
              "mpg               0\n",
              "cylinders         0\n",
              "displacement      0\n",
              "hp                6\n",
              "weight            0\n",
              "acceleration      0\n",
              "year              0\n",
              "origin            0\n",
              "carname         398\n",
              "dtype: int64"
            ]
          },
          "metadata": {
            "tags": []
          },
          "execution_count": 5
        }
      ]
    },
    {
      "cell_type": "code",
      "metadata": {
        "id": "21dFdUBrBJXM"
      },
      "source": [
        "# missing values-> fix it, or drop it\n",
        "# drop-> row, column\n",
        "# fix-> replace-> MEAN, MEDIAN, MODE or a custom value\n",
        "# fix only if you have <0.5% missing values\n",
        "# 6 missing out of 398-> 1.5 % missing!\n",
        "\n",
        "# choose to drop instead\n",
        "dataset = dataset.iloc[:,:-1].dropna()"
      ],
      "execution_count": 6,
      "outputs": []
    },
    {
      "cell_type": "code",
      "metadata": {
        "colab": {
          "base_uri": "https://localhost:8080/",
          "height": 349
        },
        "id": "G8x0XiOoBzfQ",
        "outputId": "38a148ff-bd67-4fd3-86af-b9fc8d331f70"
      },
      "source": [
        "dataset.tail(10)"
      ],
      "execution_count": 7,
      "outputs": [
        {
          "output_type": "execute_result",
          "data": {
            "text/html": [
              "<div>\n",
              "<style scoped>\n",
              "    .dataframe tbody tr th:only-of-type {\n",
              "        vertical-align: middle;\n",
              "    }\n",
              "\n",
              "    .dataframe tbody tr th {\n",
              "        vertical-align: top;\n",
              "    }\n",
              "\n",
              "    .dataframe thead th {\n",
              "        text-align: right;\n",
              "    }\n",
              "</style>\n",
              "<table border=\"1\" class=\"dataframe\">\n",
              "  <thead>\n",
              "    <tr style=\"text-align: right;\">\n",
              "      <th></th>\n",
              "      <th>mpg</th>\n",
              "      <th>cylinders</th>\n",
              "      <th>displacement</th>\n",
              "      <th>hp</th>\n",
              "      <th>weight</th>\n",
              "      <th>acceleration</th>\n",
              "      <th>year</th>\n",
              "      <th>origin</th>\n",
              "    </tr>\n",
              "  </thead>\n",
              "  <tbody>\n",
              "    <tr>\n",
              "      <th>388</th>\n",
              "      <td>26.0</td>\n",
              "      <td>4</td>\n",
              "      <td>156.0</td>\n",
              "      <td>92.0</td>\n",
              "      <td>2585.0</td>\n",
              "      <td>14.5</td>\n",
              "      <td>82</td>\n",
              "      <td>1</td>\n",
              "    </tr>\n",
              "    <tr>\n",
              "      <th>389</th>\n",
              "      <td>22.0</td>\n",
              "      <td>6</td>\n",
              "      <td>232.0</td>\n",
              "      <td>112.0</td>\n",
              "      <td>2835.0</td>\n",
              "      <td>14.7</td>\n",
              "      <td>82</td>\n",
              "      <td>1</td>\n",
              "    </tr>\n",
              "    <tr>\n",
              "      <th>390</th>\n",
              "      <td>32.0</td>\n",
              "      <td>4</td>\n",
              "      <td>144.0</td>\n",
              "      <td>96.0</td>\n",
              "      <td>2665.0</td>\n",
              "      <td>13.9</td>\n",
              "      <td>82</td>\n",
              "      <td>3</td>\n",
              "    </tr>\n",
              "    <tr>\n",
              "      <th>391</th>\n",
              "      <td>36.0</td>\n",
              "      <td>4</td>\n",
              "      <td>135.0</td>\n",
              "      <td>84.0</td>\n",
              "      <td>2370.0</td>\n",
              "      <td>13.0</td>\n",
              "      <td>82</td>\n",
              "      <td>1</td>\n",
              "    </tr>\n",
              "    <tr>\n",
              "      <th>392</th>\n",
              "      <td>27.0</td>\n",
              "      <td>4</td>\n",
              "      <td>151.0</td>\n",
              "      <td>90.0</td>\n",
              "      <td>2950.0</td>\n",
              "      <td>17.3</td>\n",
              "      <td>82</td>\n",
              "      <td>1</td>\n",
              "    </tr>\n",
              "    <tr>\n",
              "      <th>393</th>\n",
              "      <td>27.0</td>\n",
              "      <td>4</td>\n",
              "      <td>140.0</td>\n",
              "      <td>86.0</td>\n",
              "      <td>2790.0</td>\n",
              "      <td>15.6</td>\n",
              "      <td>82</td>\n",
              "      <td>1</td>\n",
              "    </tr>\n",
              "    <tr>\n",
              "      <th>394</th>\n",
              "      <td>44.0</td>\n",
              "      <td>4</td>\n",
              "      <td>97.0</td>\n",
              "      <td>52.0</td>\n",
              "      <td>2130.0</td>\n",
              "      <td>24.6</td>\n",
              "      <td>82</td>\n",
              "      <td>2</td>\n",
              "    </tr>\n",
              "    <tr>\n",
              "      <th>395</th>\n",
              "      <td>32.0</td>\n",
              "      <td>4</td>\n",
              "      <td>135.0</td>\n",
              "      <td>84.0</td>\n",
              "      <td>2295.0</td>\n",
              "      <td>11.6</td>\n",
              "      <td>82</td>\n",
              "      <td>1</td>\n",
              "    </tr>\n",
              "    <tr>\n",
              "      <th>396</th>\n",
              "      <td>28.0</td>\n",
              "      <td>4</td>\n",
              "      <td>120.0</td>\n",
              "      <td>79.0</td>\n",
              "      <td>2625.0</td>\n",
              "      <td>18.6</td>\n",
              "      <td>82</td>\n",
              "      <td>1</td>\n",
              "    </tr>\n",
              "    <tr>\n",
              "      <th>397</th>\n",
              "      <td>31.0</td>\n",
              "      <td>4</td>\n",
              "      <td>119.0</td>\n",
              "      <td>82.0</td>\n",
              "      <td>2720.0</td>\n",
              "      <td>19.4</td>\n",
              "      <td>82</td>\n",
              "      <td>1</td>\n",
              "    </tr>\n",
              "  </tbody>\n",
              "</table>\n",
              "</div>"
            ],
            "text/plain": [
              "      mpg  cylinders  displacement     hp  weight  acceleration  year  origin\n",
              "388  26.0          4         156.0   92.0  2585.0          14.5    82       1\n",
              "389  22.0          6         232.0  112.0  2835.0          14.7    82       1\n",
              "390  32.0          4         144.0   96.0  2665.0          13.9    82       3\n",
              "391  36.0          4         135.0   84.0  2370.0          13.0    82       1\n",
              "392  27.0          4         151.0   90.0  2950.0          17.3    82       1\n",
              "393  27.0          4         140.0   86.0  2790.0          15.6    82       1\n",
              "394  44.0          4          97.0   52.0  2130.0          24.6    82       2\n",
              "395  32.0          4         135.0   84.0  2295.0          11.6    82       1\n",
              "396  28.0          4         120.0   79.0  2625.0          18.6    82       1\n",
              "397  31.0          4         119.0   82.0  2720.0          19.4    82       1"
            ]
          },
          "metadata": {
            "tags": []
          },
          "execution_count": 7
        }
      ]
    },
    {
      "cell_type": "code",
      "metadata": {
        "id": "8jshYjIPB2Hk"
      },
      "source": [
        "#Origin-> 1: Bengaluru, 2: Mumbai, 3: Cochin \n",
        "dataset.origin = dataset.origin.map({1:'Bengaluru', 2:'Mumbai', 3:'Cochin'})"
      ],
      "execution_count": 8,
      "outputs": []
    },
    {
      "cell_type": "code",
      "metadata": {
        "colab": {
          "base_uri": "https://localhost:8080/",
          "height": 349
        },
        "id": "o8m1N-JwCtAQ",
        "outputId": "d5e31024-88cb-4f20-b916-d422c2f89fbc"
      },
      "source": [
        "dataset.tail(10)"
      ],
      "execution_count": 9,
      "outputs": [
        {
          "output_type": "execute_result",
          "data": {
            "text/html": [
              "<div>\n",
              "<style scoped>\n",
              "    .dataframe tbody tr th:only-of-type {\n",
              "        vertical-align: middle;\n",
              "    }\n",
              "\n",
              "    .dataframe tbody tr th {\n",
              "        vertical-align: top;\n",
              "    }\n",
              "\n",
              "    .dataframe thead th {\n",
              "        text-align: right;\n",
              "    }\n",
              "</style>\n",
              "<table border=\"1\" class=\"dataframe\">\n",
              "  <thead>\n",
              "    <tr style=\"text-align: right;\">\n",
              "      <th></th>\n",
              "      <th>mpg</th>\n",
              "      <th>cylinders</th>\n",
              "      <th>displacement</th>\n",
              "      <th>hp</th>\n",
              "      <th>weight</th>\n",
              "      <th>acceleration</th>\n",
              "      <th>year</th>\n",
              "      <th>origin</th>\n",
              "    </tr>\n",
              "  </thead>\n",
              "  <tbody>\n",
              "    <tr>\n",
              "      <th>388</th>\n",
              "      <td>26.0</td>\n",
              "      <td>4</td>\n",
              "      <td>156.0</td>\n",
              "      <td>92.0</td>\n",
              "      <td>2585.0</td>\n",
              "      <td>14.5</td>\n",
              "      <td>82</td>\n",
              "      <td>Bengaluru</td>\n",
              "    </tr>\n",
              "    <tr>\n",
              "      <th>389</th>\n",
              "      <td>22.0</td>\n",
              "      <td>6</td>\n",
              "      <td>232.0</td>\n",
              "      <td>112.0</td>\n",
              "      <td>2835.0</td>\n",
              "      <td>14.7</td>\n",
              "      <td>82</td>\n",
              "      <td>Bengaluru</td>\n",
              "    </tr>\n",
              "    <tr>\n",
              "      <th>390</th>\n",
              "      <td>32.0</td>\n",
              "      <td>4</td>\n",
              "      <td>144.0</td>\n",
              "      <td>96.0</td>\n",
              "      <td>2665.0</td>\n",
              "      <td>13.9</td>\n",
              "      <td>82</td>\n",
              "      <td>Cochin</td>\n",
              "    </tr>\n",
              "    <tr>\n",
              "      <th>391</th>\n",
              "      <td>36.0</td>\n",
              "      <td>4</td>\n",
              "      <td>135.0</td>\n",
              "      <td>84.0</td>\n",
              "      <td>2370.0</td>\n",
              "      <td>13.0</td>\n",
              "      <td>82</td>\n",
              "      <td>Bengaluru</td>\n",
              "    </tr>\n",
              "    <tr>\n",
              "      <th>392</th>\n",
              "      <td>27.0</td>\n",
              "      <td>4</td>\n",
              "      <td>151.0</td>\n",
              "      <td>90.0</td>\n",
              "      <td>2950.0</td>\n",
              "      <td>17.3</td>\n",
              "      <td>82</td>\n",
              "      <td>Bengaluru</td>\n",
              "    </tr>\n",
              "    <tr>\n",
              "      <th>393</th>\n",
              "      <td>27.0</td>\n",
              "      <td>4</td>\n",
              "      <td>140.0</td>\n",
              "      <td>86.0</td>\n",
              "      <td>2790.0</td>\n",
              "      <td>15.6</td>\n",
              "      <td>82</td>\n",
              "      <td>Bengaluru</td>\n",
              "    </tr>\n",
              "    <tr>\n",
              "      <th>394</th>\n",
              "      <td>44.0</td>\n",
              "      <td>4</td>\n",
              "      <td>97.0</td>\n",
              "      <td>52.0</td>\n",
              "      <td>2130.0</td>\n",
              "      <td>24.6</td>\n",
              "      <td>82</td>\n",
              "      <td>Mumbai</td>\n",
              "    </tr>\n",
              "    <tr>\n",
              "      <th>395</th>\n",
              "      <td>32.0</td>\n",
              "      <td>4</td>\n",
              "      <td>135.0</td>\n",
              "      <td>84.0</td>\n",
              "      <td>2295.0</td>\n",
              "      <td>11.6</td>\n",
              "      <td>82</td>\n",
              "      <td>Bengaluru</td>\n",
              "    </tr>\n",
              "    <tr>\n",
              "      <th>396</th>\n",
              "      <td>28.0</td>\n",
              "      <td>4</td>\n",
              "      <td>120.0</td>\n",
              "      <td>79.0</td>\n",
              "      <td>2625.0</td>\n",
              "      <td>18.6</td>\n",
              "      <td>82</td>\n",
              "      <td>Bengaluru</td>\n",
              "    </tr>\n",
              "    <tr>\n",
              "      <th>397</th>\n",
              "      <td>31.0</td>\n",
              "      <td>4</td>\n",
              "      <td>119.0</td>\n",
              "      <td>82.0</td>\n",
              "      <td>2720.0</td>\n",
              "      <td>19.4</td>\n",
              "      <td>82</td>\n",
              "      <td>Bengaluru</td>\n",
              "    </tr>\n",
              "  </tbody>\n",
              "</table>\n",
              "</div>"
            ],
            "text/plain": [
              "      mpg  cylinders  displacement  ...  acceleration  year     origin\n",
              "388  26.0          4         156.0  ...          14.5    82  Bengaluru\n",
              "389  22.0          6         232.0  ...          14.7    82  Bengaluru\n",
              "390  32.0          4         144.0  ...          13.9    82     Cochin\n",
              "391  36.0          4         135.0  ...          13.0    82  Bengaluru\n",
              "392  27.0          4         151.0  ...          17.3    82  Bengaluru\n",
              "393  27.0          4         140.0  ...          15.6    82  Bengaluru\n",
              "394  44.0          4          97.0  ...          24.6    82     Mumbai\n",
              "395  32.0          4         135.0  ...          11.6    82  Bengaluru\n",
              "396  28.0          4         120.0  ...          18.6    82  Bengaluru\n",
              "397  31.0          4         119.0  ...          19.4    82  Bengaluru\n",
              "\n",
              "[10 rows x 8 columns]"
            ]
          },
          "metadata": {
            "tags": []
          },
          "execution_count": 9
        }
      ]
    },
    {
      "cell_type": "code",
      "metadata": {
        "colab": {
          "base_uri": "https://localhost:8080/",
          "height": 198
        },
        "id": "vh7_r3TyC48J",
        "outputId": "3aee4683-b9b0-4c59-dd07-4db323dca041"
      },
      "source": [
        "# Label Encoding-> [Hello, World, How] -> [0, 1, 2]\n",
        "# when the use could be filtering, or classification-> i prefer a 1-0 encoded mechanism\n",
        "\n",
        "# ONE HOT ENCODING-> new columns->\n",
        "# price = rest_of_the_factors*their_weights + w1*Mum + w2*Ben + w3*Coch + bias\n",
        "# Ben-> price = res..._weights + w1*0 + w2*1 + w3*0 + bias \n",
        "\n",
        "\n",
        "encodeddataset = pd.get_dummies(dataset, columns=['origin'], prefix='hot',prefix_sep='_' )\n",
        "encodeddataset.tail()"
      ],
      "execution_count": 10,
      "outputs": [
        {
          "output_type": "execute_result",
          "data": {
            "text/html": [
              "<div>\n",
              "<style scoped>\n",
              "    .dataframe tbody tr th:only-of-type {\n",
              "        vertical-align: middle;\n",
              "    }\n",
              "\n",
              "    .dataframe tbody tr th {\n",
              "        vertical-align: top;\n",
              "    }\n",
              "\n",
              "    .dataframe thead th {\n",
              "        text-align: right;\n",
              "    }\n",
              "</style>\n",
              "<table border=\"1\" class=\"dataframe\">\n",
              "  <thead>\n",
              "    <tr style=\"text-align: right;\">\n",
              "      <th></th>\n",
              "      <th>mpg</th>\n",
              "      <th>cylinders</th>\n",
              "      <th>displacement</th>\n",
              "      <th>hp</th>\n",
              "      <th>weight</th>\n",
              "      <th>acceleration</th>\n",
              "      <th>year</th>\n",
              "      <th>hot_Bengaluru</th>\n",
              "      <th>hot_Cochin</th>\n",
              "      <th>hot_Mumbai</th>\n",
              "    </tr>\n",
              "  </thead>\n",
              "  <tbody>\n",
              "    <tr>\n",
              "      <th>393</th>\n",
              "      <td>27.0</td>\n",
              "      <td>4</td>\n",
              "      <td>140.0</td>\n",
              "      <td>86.0</td>\n",
              "      <td>2790.0</td>\n",
              "      <td>15.6</td>\n",
              "      <td>82</td>\n",
              "      <td>1</td>\n",
              "      <td>0</td>\n",
              "      <td>0</td>\n",
              "    </tr>\n",
              "    <tr>\n",
              "      <th>394</th>\n",
              "      <td>44.0</td>\n",
              "      <td>4</td>\n",
              "      <td>97.0</td>\n",
              "      <td>52.0</td>\n",
              "      <td>2130.0</td>\n",
              "      <td>24.6</td>\n",
              "      <td>82</td>\n",
              "      <td>0</td>\n",
              "      <td>0</td>\n",
              "      <td>1</td>\n",
              "    </tr>\n",
              "    <tr>\n",
              "      <th>395</th>\n",
              "      <td>32.0</td>\n",
              "      <td>4</td>\n",
              "      <td>135.0</td>\n",
              "      <td>84.0</td>\n",
              "      <td>2295.0</td>\n",
              "      <td>11.6</td>\n",
              "      <td>82</td>\n",
              "      <td>1</td>\n",
              "      <td>0</td>\n",
              "      <td>0</td>\n",
              "    </tr>\n",
              "    <tr>\n",
              "      <th>396</th>\n",
              "      <td>28.0</td>\n",
              "      <td>4</td>\n",
              "      <td>120.0</td>\n",
              "      <td>79.0</td>\n",
              "      <td>2625.0</td>\n",
              "      <td>18.6</td>\n",
              "      <td>82</td>\n",
              "      <td>1</td>\n",
              "      <td>0</td>\n",
              "      <td>0</td>\n",
              "    </tr>\n",
              "    <tr>\n",
              "      <th>397</th>\n",
              "      <td>31.0</td>\n",
              "      <td>4</td>\n",
              "      <td>119.0</td>\n",
              "      <td>82.0</td>\n",
              "      <td>2720.0</td>\n",
              "      <td>19.4</td>\n",
              "      <td>82</td>\n",
              "      <td>1</td>\n",
              "      <td>0</td>\n",
              "      <td>0</td>\n",
              "    </tr>\n",
              "  </tbody>\n",
              "</table>\n",
              "</div>"
            ],
            "text/plain": [
              "      mpg  cylinders  displacement  ...  hot_Bengaluru  hot_Cochin  hot_Mumbai\n",
              "393  27.0          4         140.0  ...              1           0           0\n",
              "394  44.0          4          97.0  ...              0           0           1\n",
              "395  32.0          4         135.0  ...              1           0           0\n",
              "396  28.0          4         120.0  ...              1           0           0\n",
              "397  31.0          4         119.0  ...              1           0           0\n",
              "\n",
              "[5 rows x 10 columns]"
            ]
          },
          "metadata": {
            "tags": []
          },
          "execution_count": 10
        }
      ]
    },
    {
      "cell_type": "code",
      "metadata": {
        "id": "G-vxqWiPDpRU"
      },
      "source": [
        "trainx = encodeddataset.sample(frac=0.8, random_state=42)\n",
        "testx = encodeddataset.drop(trainx.index)\n"
      ],
      "execution_count": 11,
      "outputs": []
    },
    {
      "cell_type": "code",
      "metadata": {
        "colab": {
          "base_uri": "https://localhost:8080/",
          "height": 349
        },
        "id": "26uxcWkoqQ1W",
        "outputId": "1fe9822b-2dab-49c8-9812-f915acc37e47"
      },
      "source": [
        "trainx.describe().T"
      ],
      "execution_count": 13,
      "outputs": [
        {
          "output_type": "execute_result",
          "data": {
            "text/html": [
              "<div>\n",
              "<style scoped>\n",
              "    .dataframe tbody tr th:only-of-type {\n",
              "        vertical-align: middle;\n",
              "    }\n",
              "\n",
              "    .dataframe tbody tr th {\n",
              "        vertical-align: top;\n",
              "    }\n",
              "\n",
              "    .dataframe thead th {\n",
              "        text-align: right;\n",
              "    }\n",
              "</style>\n",
              "<table border=\"1\" class=\"dataframe\">\n",
              "  <thead>\n",
              "    <tr style=\"text-align: right;\">\n",
              "      <th></th>\n",
              "      <th>count</th>\n",
              "      <th>mean</th>\n",
              "      <th>std</th>\n",
              "      <th>min</th>\n",
              "      <th>25%</th>\n",
              "      <th>50%</th>\n",
              "      <th>75%</th>\n",
              "      <th>max</th>\n",
              "    </tr>\n",
              "  </thead>\n",
              "  <tbody>\n",
              "    <tr>\n",
              "      <th>mpg</th>\n",
              "      <td>314.0</td>\n",
              "      <td>23.153822</td>\n",
              "      <td>7.861854</td>\n",
              "      <td>9.0</td>\n",
              "      <td>17.000</td>\n",
              "      <td>22.0</td>\n",
              "      <td>28.075</td>\n",
              "      <td>46.6</td>\n",
              "    </tr>\n",
              "    <tr>\n",
              "      <th>cylinders</th>\n",
              "      <td>314.0</td>\n",
              "      <td>5.531847</td>\n",
              "      <td>1.729449</td>\n",
              "      <td>3.0</td>\n",
              "      <td>4.000</td>\n",
              "      <td>4.0</td>\n",
              "      <td>8.000</td>\n",
              "      <td>8.0</td>\n",
              "    </tr>\n",
              "    <tr>\n",
              "      <th>displacement</th>\n",
              "      <td>314.0</td>\n",
              "      <td>197.855096</td>\n",
              "      <td>106.501896</td>\n",
              "      <td>68.0</td>\n",
              "      <td>105.000</td>\n",
              "      <td>151.0</td>\n",
              "      <td>302.000</td>\n",
              "      <td>455.0</td>\n",
              "    </tr>\n",
              "    <tr>\n",
              "      <th>hp</th>\n",
              "      <td>314.0</td>\n",
              "      <td>105.971338</td>\n",
              "      <td>39.636557</td>\n",
              "      <td>46.0</td>\n",
              "      <td>76.000</td>\n",
              "      <td>95.0</td>\n",
              "      <td>130.000</td>\n",
              "      <td>230.0</td>\n",
              "    </tr>\n",
              "    <tr>\n",
              "      <th>weight</th>\n",
              "      <td>314.0</td>\n",
              "      <td>3005.745223</td>\n",
              "      <td>859.060925</td>\n",
              "      <td>1649.0</td>\n",
              "      <td>2231.000</td>\n",
              "      <td>2831.5</td>\n",
              "      <td>3641.750</td>\n",
              "      <td>4955.0</td>\n",
              "    </tr>\n",
              "    <tr>\n",
              "      <th>acceleration</th>\n",
              "      <td>314.0</td>\n",
              "      <td>15.510828</td>\n",
              "      <td>2.803560</td>\n",
              "      <td>8.0</td>\n",
              "      <td>13.625</td>\n",
              "      <td>15.5</td>\n",
              "      <td>17.000</td>\n",
              "      <td>24.8</td>\n",
              "    </tr>\n",
              "    <tr>\n",
              "      <th>year</th>\n",
              "      <td>314.0</td>\n",
              "      <td>75.910828</td>\n",
              "      <td>3.688989</td>\n",
              "      <td>70.0</td>\n",
              "      <td>73.000</td>\n",
              "      <td>76.0</td>\n",
              "      <td>79.000</td>\n",
              "      <td>82.0</td>\n",
              "    </tr>\n",
              "    <tr>\n",
              "      <th>hot_Bengaluru</th>\n",
              "      <td>314.0</td>\n",
              "      <td>0.624204</td>\n",
              "      <td>0.485101</td>\n",
              "      <td>0.0</td>\n",
              "      <td>0.000</td>\n",
              "      <td>1.0</td>\n",
              "      <td>1.000</td>\n",
              "      <td>1.0</td>\n",
              "    </tr>\n",
              "    <tr>\n",
              "      <th>hot_Cochin</th>\n",
              "      <td>314.0</td>\n",
              "      <td>0.203822</td>\n",
              "      <td>0.403481</td>\n",
              "      <td>0.0</td>\n",
              "      <td>0.000</td>\n",
              "      <td>0.0</td>\n",
              "      <td>0.000</td>\n",
              "      <td>1.0</td>\n",
              "    </tr>\n",
              "    <tr>\n",
              "      <th>hot_Mumbai</th>\n",
              "      <td>314.0</td>\n",
              "      <td>0.171975</td>\n",
              "      <td>0.377961</td>\n",
              "      <td>0.0</td>\n",
              "      <td>0.000</td>\n",
              "      <td>0.0</td>\n",
              "      <td>0.000</td>\n",
              "      <td>1.0</td>\n",
              "    </tr>\n",
              "  </tbody>\n",
              "</table>\n",
              "</div>"
            ],
            "text/plain": [
              "               count         mean         std  ...     50%       75%     max\n",
              "mpg            314.0    23.153822    7.861854  ...    22.0    28.075    46.6\n",
              "cylinders      314.0     5.531847    1.729449  ...     4.0     8.000     8.0\n",
              "displacement   314.0   197.855096  106.501896  ...   151.0   302.000   455.0\n",
              "hp             314.0   105.971338   39.636557  ...    95.0   130.000   230.0\n",
              "weight         314.0  3005.745223  859.060925  ...  2831.5  3641.750  4955.0\n",
              "acceleration   314.0    15.510828    2.803560  ...    15.5    17.000    24.8\n",
              "year           314.0    75.910828    3.688989  ...    76.0    79.000    82.0\n",
              "hot_Bengaluru  314.0     0.624204    0.485101  ...     1.0     1.000     1.0\n",
              "hot_Cochin     314.0     0.203822    0.403481  ...     0.0     0.000     1.0\n",
              "hot_Mumbai     314.0     0.171975    0.377961  ...     0.0     0.000     1.0\n",
              "\n",
              "[10 rows x 8 columns]"
            ]
          },
          "metadata": {
            "tags": []
          },
          "execution_count": 13
        }
      ]
    },
    {
      "cell_type": "code",
      "metadata": {
        "id": "sP02nJQ6qc-U"
      },
      "source": [
        "xtrain = trainx.copy()\n",
        "xtest = testx.copy()\n",
        "ytrain = xtrain.pop('mpg')\n",
        "ytest = xtest.pop('mpg')"
      ],
      "execution_count": 14,
      "outputs": []
    },
    {
      "cell_type": "code",
      "metadata": {
        "colab": {
          "base_uri": "https://localhost:8080/"
        },
        "id": "8soeeWPUq9Xv",
        "outputId": "bd8b61fc-1480-4e47-a935-4cad4e86283e"
      },
      "source": [
        "ytest"
      ],
      "execution_count": 15,
      "outputs": [
        {
          "output_type": "execute_result",
          "data": {
            "text/plain": [
              "1      15.0\n",
              "13     14.0\n",
              "20     25.0\n",
              "21     24.0\n",
              "35     17.0\n",
              "       ... \n",
              "381    36.0\n",
              "388    26.0\n",
              "391    36.0\n",
              "395    32.0\n",
              "397    31.0\n",
              "Name: mpg, Length: 78, dtype: float64"
            ]
          },
          "metadata": {
            "tags": []
          },
          "execution_count": 15
        }
      ]
    },
    {
      "cell_type": "code",
      "metadata": {
        "id": "MWDEprkbq-4d"
      },
      "source": [
        "normalizer = preprocessing.Normalization()\n",
        "normalizer.adapt(np.array(xtrain))"
      ],
      "execution_count": 16,
      "outputs": []
    },
    {
      "cell_type": "code",
      "metadata": {
        "colab": {
          "base_uri": "https://localhost:8080/"
        },
        "id": "SpbE4oYzrSfd",
        "outputId": "821d7d17-4888-49ad-a1b5-4dd4f0ba66be"
      },
      "source": [
        "x= np.array(xtrain[:100])\n",
        "\n",
        "with np.printoptions(precision=2, suppress=True):\n",
        "  print('Normalized = ' + str(normalizer(x).numpy()))"
      ],
      "execution_count": 22,
      "outputs": [
        {
          "output_type": "stream",
          "text": [
            "Normalized = [[-0.89 -0.96 -0.93 -0.95  0.89 -1.06 -1.29 -0.51  2.19]\n",
            " [-0.89 -0.72  0.23 -0.25  0.07  0.57 -1.29 -0.51  2.19]\n",
            " [-0.89 -1.   -1.16 -1.41  0.32  0.57 -1.29  1.98 -0.46]\n",
            " [-0.89 -1.   -0.91 -1.23  1.78 -1.33  0.78 -0.51 -0.46]\n",
            " [-0.89 -0.54 -0.5  -0.25  0.03  1.65  0.78 -0.51 -0.46]\n",
            " [-0.89 -0.95 -0.78 -0.99  0.32  0.02 -1.29  1.98 -0.46]\n",
            " [ 1.43  1.9   1.62  2.03 -1.25 -1.33  0.78 -0.51 -0.46]\n",
            " [-0.89 -0.95 -0.78 -0.86  0.96  0.3  -1.29  1.98 -0.46]\n",
            " [ 0.27  0.26 -0.28  0.3   0.17 -0.25  0.78 -0.51 -0.46]\n",
            " [-0.89 -1.22 -1.44 -1.33  1.43 -0.79 -1.29 -0.51  2.19]\n",
            " [ 1.43  1.81  2.12  0.98 -2.5  -1.6   0.78 -0.51 -0.46]\n",
            " [ 0.27 -0.39  0.05 -0.09 -0.    0.02 -1.29  1.98 -0.46]\n",
            " [ 1.43  1.43  1.24  1.58 -0.22  0.84  0.78 -0.51 -0.46]\n",
            " [-0.89 -0.95 -0.78 -0.97  0.17 -0.25 -1.29  1.98 -0.46]\n",
            " [ 0.27 -0.33  0.68  0.47  0.1   0.57 -1.29 -0.51  2.19]\n",
            " [-0.89 -0.81 -0.45 -0.47  1.46  1.65  0.78 -0.51 -0.46]\n",
            " [ 0.27  0.   -0.28  0.11  0.35 -0.52  0.78 -0.51 -0.46]\n",
            " [-0.89 -0.85 -0.78 -0.76  0.46  1.38 -1.29  1.98 -0.46]\n",
            " [-0.89 -0.72 -0.66 -0.39 -0.18  0.84  0.78 -0.51 -0.46]\n",
            " [-0.89 -0.71 -0.45 -0.59 -0.15  1.11 -1.29 -0.51  2.19]\n",
            " [ 0.27  0.   -0.28 -0.2  -0.   -1.6   0.78 -0.51 -0.46]\n",
            " [-0.89 -0.95 -1.36 -1.02  3.25  1.65 -1.29 -0.51  2.19]\n",
            " [-0.89 -1.   -0.96 -1.19  0.17  1.38 -1.29  1.98 -0.46]\n",
            " [ 1.43  1.03  0.61  0.58 -1.25 -1.6   0.78 -0.51 -0.46]\n",
            " [-0.89 -1.12 -0.98 -1.22 -0.   -0.52 -1.29 -0.51  2.19]\n",
            " [-0.89 -0.94 -0.4  -0.86 -0.   -0.79 -1.29 -0.51  2.19]\n",
            " [-0.89 -0.73 -0.48 -0.03  1.43 -1.06 -1.29 -0.51  2.19]\n",
            " [ 0.27  0.26 -0.02  0.51 -0.   -1.33  0.78 -0.51 -0.46]\n",
            " [-0.89 -0.95 -1.52 -1.23  1.96 -0.79 -1.29 -0.51  2.19]\n",
            " [-0.89 -0.72 -0.76 -0.58  0.89 -1.06 -1.29 -0.51  2.19]\n",
            " [ 1.43  1.43  0.99  1.67 -0.54 -0.25  0.78 -0.51 -0.46]\n",
            " [ 0.27  0.32 -0.4   0.24  0.6   0.57  0.78 -0.51 -0.46]\n",
            " [ 1.43  0.65  0.48  0.7  -0.18  0.84  0.78 -0.51 -0.46]\n",
            " [-0.89 -0.73 -0.81 -0.43  1.    1.38 -1.29  1.98 -0.46]\n",
            " [ 1.43  1.9   1.11  1.7  -1.25 -0.79  0.78 -0.51 -0.46]\n",
            " [-0.89 -1.   -0.98 -1.18  0.25  1.65 -1.29  1.98 -0.46]\n",
            " [ 1.43  0.98  0.86  1.9   0.17 -0.52  0.78 -0.51 -0.46]\n",
            " [-0.89 -0.94 -0.66 -1.03  0.53 -1.06  0.78 -0.51 -0.46]\n",
            " [ 1.43  0.98  0.86  1.5   0.17 -1.06  0.78 -0.51 -0.46]\n",
            " [ 1.43  1.52  2.76  1.88 -0.54 -1.6   0.78 -0.51 -0.46]\n",
            " [ 1.43  1.03  0.61  1.27 -0.54 -1.06  0.78 -0.51 -0.46]\n",
            " [-0.89 -1.01 -0.78 -1.05 -0.   -0.52 -1.29 -0.51  2.19]\n",
            " [-0.89 -0.87 -0.81 -1.2  -0.08  1.65 -1.29 -0.51  2.19]\n",
            " [-0.89 -0.95 -0.71 -0.82 -0.36 -0.52 -1.29 -0.51  2.19]\n",
            " [ 1.43  1.44  1.06  1.93 -0.72 -0.25  0.78 -0.51 -0.46]\n",
            " [ 1.43  2.28  2.76  2.02 -1.61 -0.79  0.78 -0.51 -0.46]\n",
            " [ 0.27  0.49 -0.15  0.32 -0.18 -1.33  0.78 -0.51 -0.46]\n",
            " [-0.89 -1.   -0.93 -1.02 -0.29  0.84 -1.29 -0.51  2.19]\n",
            " [-0.89 -0.54 -0.86 -0.71  1.43 -0.79  0.78 -0.51 -0.46]\n",
            " [-0.89 -1.01 -0.91 -1.25 -0.47  0.02 -1.29 -0.51  2.19]\n",
            " [ 1.43  1.44  1.19  1.34 -0.72 -1.33  0.78 -0.51 -0.46]\n",
            " [-0.89 -0.8  -0.28 -0.85 -0.   -1.06 -1.29  1.98 -0.46]\n",
            " [-0.89 -0.54 -0.4  -0.86 -0.   -1.33  0.78 -0.51 -0.46]\n",
            " [-0.89 -0.73 -0.45 -0.99 -0.36  1.65 -1.29  1.98 -0.46]\n",
            " [ 0.27  0.32  0.15 -0.2  -0.29  1.65  0.78 -0.51 -0.46]\n",
            " [ 0.27  0.57  0.1   0.73  0.89 -0.52  0.78 -0.51 -0.46]\n",
            " [ 1.43  0.6   0.1   0.25 -0.72 -0.25  0.78 -0.51 -0.46]\n",
            " [ 0.27  0.32 -0.15 -0.11  0.17 -0.25  0.78 -0.51 -0.46]\n",
            " [-0.89 -0.88 -0.28 -0.74  0.71 -1.6  -1.29 -0.51  2.19]\n",
            " [-0.89 -0.8  -0.28 -0.91 -0.54 -1.33 -1.29  1.98 -0.46]\n",
            " [ 1.43  2.42  3.01  2.27 -1.61 -0.79  0.78 -0.51 -0.46]\n",
            " [ 0.27  0.32 -0.4   0.09  0.75  0.02  0.78 -0.51 -0.46]\n",
            " [ 0.27 -0.23  0.23 -0.36 -0.93  0.84  0.78 -0.51 -0.46]\n",
            " [-0.89 -0.73 -0.45 -0.06  0.53 -0.25 -1.29 -0.51  2.19]\n",
            " [-0.89 -0.6  -0.28 -0.57 -0.25  0.57 -1.29  1.98 -0.46]\n",
            " [-0.89 -0.77 -0.63 -0.92  0.5   0.02 -1.29 -0.51  2.19]\n",
            " [-0.89 -0.54 -0.45 -0.33 -0.04  0.57  0.78 -0.51 -0.46]\n",
            " [-0.89 -1.01 -0.91 -1.25 -0.54 -0.25 -1.29 -0.51  2.19]\n",
            " [ 1.43  0.58  0.1   0.42 -0.    0.57  0.78 -0.51 -0.46]\n",
            " [ 1.43  2.17  2.33  1.56 -1.97 -1.6   0.78 -0.51 -0.46]\n",
            " [-0.89 -0.54 -0.86 -0.7   1.25 -1.33  0.78 -0.51 -0.46]\n",
            " [ 1.43  1.43  1.74  1.28 -0.9  -0.79  0.78 -0.51 -0.46]\n",
            " [ 0.27 -0.49 -0.23 -0.22 -0.36  0.3  -1.29  1.98 -0.46]\n",
            " [-1.47 -1.2  -0.4  -1.03 -0.72 -0.79 -1.29  1.98 -0.46]\n",
            " [ 0.27  0.26 -0.53  0.54  0.39  1.38  0.78 -0.51 -0.46]\n",
            " [-0.89 -0.94 -0.66 -0.98 -0.18 -1.06  0.78 -0.51 -0.46]\n",
            " [ 1.43  1.43  0.99  1.25 -0.9  -0.79  0.78 -0.51 -0.46]\n",
            " [ 1.43  1.    1.11  0.5  -1.25 -1.6   0.78 -0.51 -0.46]\n",
            " [-0.89 -0.95 -0.45 -1.02 -0.36 -1.6  -1.29  1.98 -0.46]\n",
            " [ 0.27  0.26  0.1   0.72  1.14  0.57  0.78 -0.51 -0.46]\n",
            " [-0.89 -0.54 -0.35 -0.51 -0.22  0.02  0.78 -0.51 -0.46]\n",
            " [ 0.27 -0.25 -0.23 -0.03 -0.36 -0.25  0.78 -0.51 -0.46]\n",
            " [ 1.43  1.13  1.11  1.32 -0.72 -1.06  0.78 -0.51 -0.46]\n",
            " [-0.89 -1.05 -1.06 -1.32  0.32  1.38  0.78 -0.51 -0.46]\n",
            " [ 1.43  1.9   2.12  1.54 -1.18  0.3   0.78 -0.51 -0.46]\n",
            " [-0.89 -1.02 -1.11 -1.35 -0.08  1.11 -1.29 -0.51  2.19]\n",
            " [ 0.27 -0.16  0.1  -0.07  0.32  1.65  0.78 -0.51 -0.46]\n",
            " [ 0.27  0.31  0.23  0.28 -0.04  0.84  0.78 -0.51 -0.46]\n",
            " [ 1.43  0.58  0.1   1.23  1.25  0.3   0.78 -0.51 -0.46]\n",
            " [ 0.27  0.49 -0.15  0.9   0.53 -0.52  0.78 -0.51 -0.46]\n",
            " [-0.89 -0.54 -0.45 -0.13  0.64  0.84  0.78 -0.51 -0.46]\n",
            " [ 0.27 -0.5  -0.76  0.18  1.46  1.38 -1.29 -0.51  2.19]\n",
            " [-0.89 -0.95 -0.98 -1.19  0.32  0.3  -1.29  1.98 -0.46]\n",
            " [-0.89 -0.81 -0.53 -0.5   0.25  1.65  0.78 -0.51 -0.46]\n",
            " [ 0.27  0.31 -0.02  0.62  1.32  0.57  0.78 -0.51 -0.46]\n",
            " [ 0.27 -0.28  0.35  0.95  0.42  0.02 -1.29 -0.51  2.19]\n",
            " [-0.89 -0.72  0.15 -0.08 -0.36 -1.06 -1.29 -0.51  2.19]\n",
            " [ 1.43  1.52  1.62  1.92 -0.9  -0.79  0.78 -0.51 -0.46]\n",
            " [-0.89 -0.6  -0.28 -0.52 -0.47  0.57 -1.29  1.98 -0.46]\n",
            " [ 0.27  0.01 -0.23 -0.27 -0.   -1.6   0.78 -0.51 -0.46]]\n"
          ],
          "name": "stdout"
        }
      ]
    },
    {
      "cell_type": "code",
      "metadata": {
        "id": "ejabwUNZrVmI"
      },
      "source": [
        "# Linear Regression and DNN\n",
        "\n",
        "# SINGLE of NN-> Machine Learning \n",
        "\n",
        "# first alogirthm-> normalize, pass it to NN Layer\n",
        "# second algo-> normalize and pass to 2 NN layers \n",
        "\n",
        "linearmodel = tf.keras.Sequential([normalizer, layers.Dense(units=1)])\n",
        "predictions = linearmodel.predict(xtest[:10])"
      ],
      "execution_count": 23,
      "outputs": []
    },
    {
      "cell_type": "code",
      "metadata": {
        "colab": {
          "base_uri": "https://localhost:8080/"
        },
        "id": "c8IqDmjvwOBw",
        "outputId": "67889752-93a0-4370-ec57-4bfa49e5cc50"
      },
      "source": [
        "predictions"
      ],
      "execution_count": 24,
      "outputs": [
        {
          "output_type": "execute_result",
          "data": {
            "text/plain": [
              "array([[-0.5922657 ],\n",
              "       [-0.7056832 ],\n",
              "       [ 1.5493798 ],\n",
              "       [ 1.4753006 ],\n",
              "       [-0.20223974],\n",
              "       [-0.22818099],\n",
              "       [ 0.5427185 ],\n",
              "       [ 1.258136  ],\n",
              "       [ 1.2547879 ],\n",
              "       [ 0.58697164]], dtype=float32)"
            ]
          },
          "metadata": {
            "tags": []
          },
          "execution_count": 24
        }
      ]
    },
    {
      "cell_type": "code",
      "metadata": {
        "colab": {
          "base_uri": "https://localhost:8080/"
        },
        "id": "n3rwsyBgwO-y",
        "outputId": "a7364238-5d1e-44b1-9ed8-8961180c99e7"
      },
      "source": [
        "# at least some weights will be generated!\n",
        "linearmodel.layers[1].kernel"
      ],
      "execution_count": 25,
      "outputs": [
        {
          "output_type": "execute_result",
          "data": {
            "text/plain": [
              "<tf.Variable 'dense/kernel:0' shape=(9, 1) dtype=float32, numpy=\n",
              "array([[-0.64465725],\n",
              "       [-0.46728656],\n",
              "       [ 0.38765037],\n",
              "       [ 0.3201412 ],\n",
              "       [ 0.0245589 ],\n",
              "       [-0.21596164],\n",
              "       [ 0.05437905],\n",
              "       [ 0.10517853],\n",
              "       [ 0.30126417]], dtype=float32)>"
            ]
          },
          "metadata": {
            "tags": []
          },
          "execution_count": 25
        }
      ]
    },
    {
      "cell_type": "code",
      "metadata": {
        "id": "ppdcNmaOwhQh"
      },
      "source": [
        "HP_LR = 0.1\n",
        "HP_epochs = 100\n",
        "HP_validation_split = 0.2\n",
        "linearmodel.compile(optimizer=tf.optimizers.Adam(learning_rate=HP_LR),\n",
        "                    loss='mean_absolute_error', metrics=['mse','mae'])\n"
      ],
      "execution_count": 27,
      "outputs": []
    },
    {
      "cell_type": "code",
      "metadata": {
        "colab": {
          "base_uri": "https://localhost:8080/"
        },
        "id": "MfCkUxkXxbll",
        "outputId": "53cd5f18-0491-4da9-e67f-652b40f9e9bd"
      },
      "source": [
        "%%time\n",
        "history = linearmodel.fit(xtrain, ytrain, epochs=HP_epochs, validation_split=HP_validation_split)"
      ],
      "execution_count": 28,
      "outputs": [
        {
          "output_type": "stream",
          "text": [
            "Epoch 1/100\n",
            "8/8 [==============================] - 1s 49ms/step - loss: 23.4997 - mse: 607.7293 - mae: 23.4997 - val_loss: 21.7259 - val_mse: 509.7122 - val_mae: 21.7259\n",
            "Epoch 2/100\n",
            "8/8 [==============================] - 0s 12ms/step - loss: 22.3314 - mse: 534.2902 - mae: 22.3314 - val_loss: 21.2711 - val_mse: 477.5839 - val_mae: 21.2711\n",
            "Epoch 3/100\n",
            "8/8 [==============================] - 0s 11ms/step - loss: 21.2032 - mse: 476.2426 - mae: 21.2032 - val_loss: 20.7017 - val_mse: 448.4388 - val_mae: 20.7017\n",
            "Epoch 4/100\n",
            "8/8 [==============================] - 0s 12ms/step - loss: 20.8650 - mse: 458.8436 - mae: 20.8650 - val_loss: 20.2301 - val_mse: 425.6616 - val_mae: 20.2301\n",
            "Epoch 5/100\n",
            "8/8 [==============================] - 0s 12ms/step - loss: 19.9174 - mse: 417.1763 - mae: 19.9174 - val_loss: 19.6750 - val_mse: 404.3546 - val_mae: 19.6750\n",
            "Epoch 6/100\n",
            "8/8 [==============================] - 0s 11ms/step - loss: 19.3125 - mse: 394.0731 - mae: 19.3125 - val_loss: 19.0078 - val_mse: 380.4567 - val_mae: 19.0078\n",
            "Epoch 7/100\n",
            "8/8 [==============================] - 0s 11ms/step - loss: 18.0087 - mse: 350.8744 - mae: 18.0087 - val_loss: 18.5445 - val_mse: 371.1095 - val_mae: 18.5445\n",
            "Epoch 8/100\n",
            "8/8 [==============================] - 0s 11ms/step - loss: 16.6514 - mse: 312.2097 - mae: 16.6514 - val_loss: 18.1095 - val_mse: 369.8158 - val_mae: 18.1095\n",
            "Epoch 9/100\n",
            "8/8 [==============================] - 0s 11ms/step - loss: 15.8233 - mse: 303.1176 - mae: 15.8233 - val_loss: 17.5817 - val_mse: 360.4016 - val_mae: 17.5817\n",
            "Epoch 10/100\n",
            "8/8 [==============================] - 0s 11ms/step - loss: 15.4572 - mse: 300.7203 - mae: 15.4572 - val_loss: 16.8919 - val_mse: 337.0208 - val_mae: 16.8919\n",
            "Epoch 11/100\n",
            "8/8 [==============================] - 0s 12ms/step - loss: 14.5463 - mse: 277.1056 - mae: 14.5463 - val_loss: 16.3196 - val_mse: 324.6763 - val_mae: 16.3196\n",
            "Epoch 12/100\n",
            "8/8 [==============================] - 0s 12ms/step - loss: 13.7217 - mse: 258.7990 - mae: 13.7217 - val_loss: 15.5868 - val_mse: 300.6596 - val_mae: 15.5868\n",
            "Epoch 13/100\n",
            "8/8 [==============================] - 0s 12ms/step - loss: 12.4336 - mse: 230.0271 - mae: 12.4336 - val_loss: 14.8922 - val_mse: 280.8129 - val_mae: 14.8922\n",
            "Epoch 14/100\n",
            "8/8 [==============================] - 0s 12ms/step - loss: 11.5386 - mse: 201.6637 - mae: 11.5386 - val_loss: 13.9914 - val_mse: 246.6653 - val_mae: 13.9914\n",
            "Epoch 15/100\n",
            "8/8 [==============================] - 0s 11ms/step - loss: 11.8501 - mse: 197.4009 - mae: 11.8501 - val_loss: 12.9835 - val_mse: 208.3058 - val_mae: 12.9835\n",
            "Epoch 16/100\n",
            "8/8 [==============================] - 0s 12ms/step - loss: 10.1037 - mse: 151.8674 - mae: 10.1037 - val_loss: 12.1805 - val_mse: 185.3786 - val_mae: 12.1805\n",
            "Epoch 17/100\n",
            "8/8 [==============================] - 0s 11ms/step - loss: 9.6297 - mse: 134.8797 - mae: 9.6297 - val_loss: 11.2800 - val_mse: 159.0137 - val_mae: 11.2800\n",
            "Epoch 18/100\n",
            "8/8 [==============================] - 0s 10ms/step - loss: 9.9661 - mse: 137.3495 - mae: 9.9661 - val_loss: 10.2798 - val_mse: 130.1132 - val_mae: 10.2798\n",
            "Epoch 19/100\n",
            "8/8 [==============================] - 0s 10ms/step - loss: 8.9871 - mse: 110.3881 - mae: 8.9871 - val_loss: 9.3655 - val_mse: 108.0694 - val_mae: 9.3655\n",
            "Epoch 20/100\n",
            "8/8 [==============================] - 0s 12ms/step - loss: 7.8424 - mse: 89.3044 - mae: 7.8424 - val_loss: 8.7328 - val_mse: 99.7226 - val_mae: 8.7328\n",
            "Epoch 21/100\n",
            "8/8 [==============================] - 0s 12ms/step - loss: 7.5772 - mse: 86.8870 - mae: 7.5772 - val_loss: 7.7779 - val_mse: 78.7606 - val_mae: 7.7779\n",
            "Epoch 22/100\n",
            "8/8 [==============================] - 0s 13ms/step - loss: 6.3938 - mse: 62.6013 - mae: 6.3938 - val_loss: 6.7804 - val_mse: 59.3543 - val_mae: 6.7804\n",
            "Epoch 23/100\n",
            "8/8 [==============================] - 0s 11ms/step - loss: 6.1698 - mse: 55.7963 - mae: 6.1698 - val_loss: 5.8983 - val_mse: 45.3288 - val_mae: 5.8983\n",
            "Epoch 24/100\n",
            "8/8 [==============================] - 0s 12ms/step - loss: 5.1833 - mse: 39.5682 - mae: 5.1833 - val_loss: 5.1726 - val_mse: 35.7649 - val_mae: 5.1726\n",
            "Epoch 25/100\n",
            "8/8 [==============================] - 0s 11ms/step - loss: 4.6645 - mse: 31.6375 - mae: 4.6645 - val_loss: 4.4589 - val_mse: 28.4973 - val_mae: 4.4589\n",
            "Epoch 26/100\n",
            "8/8 [==============================] - 0s 12ms/step - loss: 4.0969 - mse: 26.7084 - mae: 4.0969 - val_loss: 3.7409 - val_mse: 22.7689 - val_mae: 3.7409\n",
            "Epoch 27/100\n",
            "8/8 [==============================] - 0s 13ms/step - loss: 3.4505 - mse: 21.1699 - mae: 3.4505 - val_loss: 3.1243 - val_mse: 20.2495 - val_mae: 3.1243\n",
            "Epoch 28/100\n",
            "8/8 [==============================] - 0s 10ms/step - loss: 3.4450 - mse: 23.3027 - mae: 3.4450 - val_loss: 2.9055 - val_mse: 16.2391 - val_mae: 2.9055\n",
            "Epoch 29/100\n",
            "8/8 [==============================] - 0s 11ms/step - loss: 2.7952 - mse: 14.9925 - mae: 2.7952 - val_loss: 2.6835 - val_mse: 14.6609 - val_mae: 2.6835\n",
            "Epoch 30/100\n",
            "8/8 [==============================] - 0s 12ms/step - loss: 2.8686 - mse: 16.6518 - mae: 2.8686 - val_loss: 2.5115 - val_mse: 13.7156 - val_mae: 2.5115\n",
            "Epoch 31/100\n",
            "8/8 [==============================] - 0s 11ms/step - loss: 2.6759 - mse: 15.7220 - mae: 2.6759 - val_loss: 2.4367 - val_mse: 13.1997 - val_mae: 2.4367\n",
            "Epoch 32/100\n",
            "8/8 [==============================] - 0s 12ms/step - loss: 2.3949 - mse: 12.4882 - mae: 2.3949 - val_loss: 2.4030 - val_mse: 12.7434 - val_mae: 2.4030\n",
            "Epoch 33/100\n",
            "8/8 [==============================] - 0s 12ms/step - loss: 2.1595 - mse: 10.7266 - mae: 2.1595 - val_loss: 2.3734 - val_mse: 12.7377 - val_mae: 2.3734\n",
            "Epoch 34/100\n",
            "8/8 [==============================] - 0s 12ms/step - loss: 2.3934 - mse: 12.4372 - mae: 2.3934 - val_loss: 2.3735 - val_mse: 12.6370 - val_mae: 2.3735\n",
            "Epoch 35/100\n",
            "8/8 [==============================] - 0s 11ms/step - loss: 2.5069 - mse: 14.0620 - mae: 2.5069 - val_loss: 2.3642 - val_mse: 12.1354 - val_mae: 2.3642\n",
            "Epoch 36/100\n",
            "8/8 [==============================] - 0s 12ms/step - loss: 2.5110 - mse: 13.4970 - mae: 2.5110 - val_loss: 2.3641 - val_mse: 12.0571 - val_mae: 2.3641\n",
            "Epoch 37/100\n",
            "8/8 [==============================] - 0s 12ms/step - loss: 2.3895 - mse: 11.5985 - mae: 2.3895 - val_loss: 2.3685 - val_mse: 12.2347 - val_mae: 2.3685\n",
            "Epoch 38/100\n",
            "8/8 [==============================] - 0s 12ms/step - loss: 2.3862 - mse: 12.4314 - mae: 2.3862 - val_loss: 2.3587 - val_mse: 12.0095 - val_mae: 2.3587\n",
            "Epoch 39/100\n",
            "8/8 [==============================] - 0s 11ms/step - loss: 2.4602 - mse: 12.2218 - mae: 2.4602 - val_loss: 2.3490 - val_mse: 12.2828 - val_mae: 2.3490\n",
            "Epoch 40/100\n",
            "8/8 [==============================] - 0s 11ms/step - loss: 2.4987 - mse: 13.9637 - mae: 2.4987 - val_loss: 2.3508 - val_mse: 12.1043 - val_mae: 2.3508\n",
            "Epoch 41/100\n",
            "8/8 [==============================] - 0s 13ms/step - loss: 2.3131 - mse: 10.9682 - mae: 2.3131 - val_loss: 2.3504 - val_mse: 11.9421 - val_mae: 2.3504\n",
            "Epoch 42/100\n",
            "8/8 [==============================] - 0s 11ms/step - loss: 2.4753 - mse: 12.5722 - mae: 2.4753 - val_loss: 2.3530 - val_mse: 12.2958 - val_mae: 2.3530\n",
            "Epoch 43/100\n",
            "8/8 [==============================] - 0s 12ms/step - loss: 2.4440 - mse: 12.8895 - mae: 2.4440 - val_loss: 2.3482 - val_mse: 12.0961 - val_mae: 2.3482\n",
            "Epoch 44/100\n",
            "8/8 [==============================] - 0s 11ms/step - loss: 2.4922 - mse: 12.3975 - mae: 2.4922 - val_loss: 2.3590 - val_mse: 11.4676 - val_mae: 2.3590\n",
            "Epoch 45/100\n",
            "8/8 [==============================] - 0s 11ms/step - loss: 2.3316 - mse: 10.6300 - mae: 2.3316 - val_loss: 2.3449 - val_mse: 11.8581 - val_mae: 2.3449\n",
            "Epoch 46/100\n",
            "8/8 [==============================] - 0s 11ms/step - loss: 2.2923 - mse: 11.0132 - mae: 2.2923 - val_loss: 2.4032 - val_mse: 12.5905 - val_mae: 2.4032\n",
            "Epoch 47/100\n",
            "8/8 [==============================] - 0s 12ms/step - loss: 2.4826 - mse: 13.7733 - mae: 2.4826 - val_loss: 2.3861 - val_mse: 11.8283 - val_mae: 2.3861\n",
            "Epoch 48/100\n",
            "8/8 [==============================] - 0s 12ms/step - loss: 2.2974 - mse: 11.2460 - mae: 2.2974 - val_loss: 2.3515 - val_mse: 12.0548 - val_mae: 2.3515\n",
            "Epoch 49/100\n",
            "8/8 [==============================] - 0s 12ms/step - loss: 2.2625 - mse: 11.5398 - mae: 2.2625 - val_loss: 2.3901 - val_mse: 12.4398 - val_mae: 2.3901\n",
            "Epoch 50/100\n",
            "8/8 [==============================] - 0s 12ms/step - loss: 2.5831 - mse: 13.8511 - mae: 2.5831 - val_loss: 2.3878 - val_mse: 11.6240 - val_mae: 2.3878\n",
            "Epoch 51/100\n",
            "8/8 [==============================] - 0s 10ms/step - loss: 2.6428 - mse: 14.1624 - mae: 2.6428 - val_loss: 2.3928 - val_mse: 12.2452 - val_mae: 2.3928\n",
            "Epoch 52/100\n",
            "8/8 [==============================] - 0s 11ms/step - loss: 2.4379 - mse: 11.4954 - mae: 2.4379 - val_loss: 2.3995 - val_mse: 11.7690 - val_mae: 2.3995\n",
            "Epoch 53/100\n",
            "8/8 [==============================] - 0s 10ms/step - loss: 2.6375 - mse: 13.8356 - mae: 2.6375 - val_loss: 2.3658 - val_mse: 12.1003 - val_mae: 2.3658\n",
            "Epoch 54/100\n",
            "8/8 [==============================] - 0s 12ms/step - loss: 2.4324 - mse: 13.1801 - mae: 2.4324 - val_loss: 2.3732 - val_mse: 11.8045 - val_mae: 2.3732\n",
            "Epoch 55/100\n",
            "8/8 [==============================] - 0s 14ms/step - loss: 2.5379 - mse: 13.9704 - mae: 2.5379 - val_loss: 2.3543 - val_mse: 11.6767 - val_mae: 2.3543\n",
            "Epoch 56/100\n",
            "8/8 [==============================] - 0s 12ms/step - loss: 2.6377 - mse: 14.0067 - mae: 2.6377 - val_loss: 2.3698 - val_mse: 11.7717 - val_mae: 2.3698\n",
            "Epoch 57/100\n",
            "8/8 [==============================] - 0s 13ms/step - loss: 2.5725 - mse: 14.7382 - mae: 2.5725 - val_loss: 2.3753 - val_mse: 11.7835 - val_mae: 2.3753\n",
            "Epoch 58/100\n",
            "8/8 [==============================] - 0s 12ms/step - loss: 2.3725 - mse: 11.3256 - mae: 2.3725 - val_loss: 2.3652 - val_mse: 11.7437 - val_mae: 2.3652\n",
            "Epoch 59/100\n",
            "8/8 [==============================] - 0s 11ms/step - loss: 2.5417 - mse: 13.8026 - mae: 2.5417 - val_loss: 2.3814 - val_mse: 11.7634 - val_mae: 2.3814\n",
            "Epoch 60/100\n",
            "8/8 [==============================] - 0s 10ms/step - loss: 2.5082 - mse: 13.4752 - mae: 2.5082 - val_loss: 2.3870 - val_mse: 11.4838 - val_mae: 2.3870\n",
            "Epoch 61/100\n",
            "8/8 [==============================] - 0s 10ms/step - loss: 2.4549 - mse: 12.5276 - mae: 2.4549 - val_loss: 2.3890 - val_mse: 11.4114 - val_mae: 2.3890\n",
            "Epoch 62/100\n",
            "8/8 [==============================] - 0s 10ms/step - loss: 2.4519 - mse: 12.6902 - mae: 2.4519 - val_loss: 2.4321 - val_mse: 12.5270 - val_mae: 2.4321\n",
            "Epoch 63/100\n",
            "8/8 [==============================] - 0s 10ms/step - loss: 2.4818 - mse: 13.6170 - mae: 2.4818 - val_loss: 2.4099 - val_mse: 12.1473 - val_mae: 2.4099\n",
            "Epoch 64/100\n",
            "8/8 [==============================] - 0s 12ms/step - loss: 2.4980 - mse: 11.9742 - mae: 2.4980 - val_loss: 2.3967 - val_mse: 11.8807 - val_mae: 2.3967\n",
            "Epoch 65/100\n",
            "8/8 [==============================] - 0s 12ms/step - loss: 2.3974 - mse: 11.8190 - mae: 2.3974 - val_loss: 2.3951 - val_mse: 11.6734 - val_mae: 2.3951\n",
            "Epoch 66/100\n",
            "8/8 [==============================] - 0s 13ms/step - loss: 2.4510 - mse: 11.3493 - mae: 2.4510 - val_loss: 2.3832 - val_mse: 11.6491 - val_mae: 2.3832\n",
            "Epoch 67/100\n",
            "8/8 [==============================] - 0s 12ms/step - loss: 2.4622 - mse: 11.8383 - mae: 2.4622 - val_loss: 2.3779 - val_mse: 11.6085 - val_mae: 2.3779\n",
            "Epoch 68/100\n",
            "8/8 [==============================] - 0s 11ms/step - loss: 2.4473 - mse: 12.4763 - mae: 2.4473 - val_loss: 2.3912 - val_mse: 11.5510 - val_mae: 2.3912\n",
            "Epoch 69/100\n",
            "8/8 [==============================] - 0s 12ms/step - loss: 2.5658 - mse: 13.6340 - mae: 2.5658 - val_loss: 2.3941 - val_mse: 11.7300 - val_mae: 2.3941\n",
            "Epoch 70/100\n",
            "8/8 [==============================] - 0s 12ms/step - loss: 2.3222 - mse: 11.2509 - mae: 2.3222 - val_loss: 2.4116 - val_mse: 11.8658 - val_mae: 2.4116\n",
            "Epoch 71/100\n",
            "8/8 [==============================] - 0s 11ms/step - loss: 2.3673 - mse: 11.1204 - mae: 2.3673 - val_loss: 2.3907 - val_mse: 11.5237 - val_mae: 2.3907\n",
            "Epoch 72/100\n",
            "8/8 [==============================] - 0s 12ms/step - loss: 2.4001 - mse: 10.6486 - mae: 2.4001 - val_loss: 2.3830 - val_mse: 11.8249 - val_mae: 2.3830\n",
            "Epoch 73/100\n",
            "8/8 [==============================] - 0s 12ms/step - loss: 2.3467 - mse: 11.5471 - mae: 2.3467 - val_loss: 2.3901 - val_mse: 12.0076 - val_mae: 2.3901\n",
            "Epoch 74/100\n",
            "8/8 [==============================] - 0s 12ms/step - loss: 2.3814 - mse: 10.7834 - mae: 2.3814 - val_loss: 2.3979 - val_mse: 11.8985 - val_mae: 2.3979\n",
            "Epoch 75/100\n",
            "8/8 [==============================] - 0s 12ms/step - loss: 2.3818 - mse: 11.4167 - mae: 2.3818 - val_loss: 2.3977 - val_mse: 11.6666 - val_mae: 2.3977\n",
            "Epoch 76/100\n",
            "8/8 [==============================] - 0s 13ms/step - loss: 2.4387 - mse: 11.2449 - mae: 2.4387 - val_loss: 2.3831 - val_mse: 11.6861 - val_mae: 2.3831\n",
            "Epoch 77/100\n",
            "8/8 [==============================] - 0s 13ms/step - loss: 2.4886 - mse: 13.0737 - mae: 2.4886 - val_loss: 2.4032 - val_mse: 11.8464 - val_mae: 2.4032\n",
            "Epoch 78/100\n",
            "8/8 [==============================] - 0s 11ms/step - loss: 2.3745 - mse: 12.0807 - mae: 2.3745 - val_loss: 2.4216 - val_mse: 12.2951 - val_mae: 2.4216\n",
            "Epoch 79/100\n",
            "8/8 [==============================] - 0s 11ms/step - loss: 2.5207 - mse: 13.4680 - mae: 2.5207 - val_loss: 2.4182 - val_mse: 11.6572 - val_mae: 2.4182\n",
            "Epoch 80/100\n",
            "8/8 [==============================] - 0s 13ms/step - loss: 2.4704 - mse: 11.5464 - mae: 2.4704 - val_loss: 2.4044 - val_mse: 11.8288 - val_mae: 2.4044\n",
            "Epoch 81/100\n",
            "8/8 [==============================] - 0s 11ms/step - loss: 2.5799 - mse: 13.9502 - mae: 2.5799 - val_loss: 2.3995 - val_mse: 11.6539 - val_mae: 2.3995\n",
            "Epoch 82/100\n",
            "8/8 [==============================] - 0s 10ms/step - loss: 2.5619 - mse: 12.8529 - mae: 2.5619 - val_loss: 2.4021 - val_mse: 11.9029 - val_mae: 2.4021\n",
            "Epoch 83/100\n",
            "8/8 [==============================] - 0s 10ms/step - loss: 2.2686 - mse: 10.1110 - mae: 2.2686 - val_loss: 2.4151 - val_mse: 11.9374 - val_mae: 2.4151\n",
            "Epoch 84/100\n",
            "8/8 [==============================] - 0s 12ms/step - loss: 2.4652 - mse: 12.3154 - mae: 2.4652 - val_loss: 2.4050 - val_mse: 11.6788 - val_mae: 2.4050\n",
            "Epoch 85/100\n",
            "8/8 [==============================] - 0s 13ms/step - loss: 2.3449 - mse: 12.2310 - mae: 2.3449 - val_loss: 2.4076 - val_mse: 11.8384 - val_mae: 2.4076\n",
            "Epoch 86/100\n",
            "8/8 [==============================] - 0s 11ms/step - loss: 2.3976 - mse: 11.3747 - mae: 2.3976 - val_loss: 2.4019 - val_mse: 11.4789 - val_mae: 2.4019\n",
            "Epoch 87/100\n",
            "8/8 [==============================] - 0s 10ms/step - loss: 2.4076 - mse: 11.9547 - mae: 2.4076 - val_loss: 2.4103 - val_mse: 11.8592 - val_mae: 2.4103\n",
            "Epoch 88/100\n",
            "8/8 [==============================] - 0s 12ms/step - loss: 2.4947 - mse: 13.5463 - mae: 2.4947 - val_loss: 2.4000 - val_mse: 11.9496 - val_mae: 2.4000\n",
            "Epoch 89/100\n",
            "8/8 [==============================] - 0s 11ms/step - loss: 2.3814 - mse: 11.9719 - mae: 2.3814 - val_loss: 2.4323 - val_mse: 11.6967 - val_mae: 2.4323\n",
            "Epoch 90/100\n",
            "8/8 [==============================] - 0s 10ms/step - loss: 2.5533 - mse: 13.1075 - mae: 2.5533 - val_loss: 2.4078 - val_mse: 11.9474 - val_mae: 2.4078\n",
            "Epoch 91/100\n",
            "8/8 [==============================] - 0s 11ms/step - loss: 2.4610 - mse: 12.3383 - mae: 2.4610 - val_loss: 2.4066 - val_mse: 11.6224 - val_mae: 2.4066\n",
            "Epoch 92/100\n",
            "8/8 [==============================] - 0s 11ms/step - loss: 2.7122 - mse: 15.6506 - mae: 2.7122 - val_loss: 2.4084 - val_mse: 11.7841 - val_mae: 2.4084\n",
            "Epoch 93/100\n",
            "8/8 [==============================] - 0s 11ms/step - loss: 2.3809 - mse: 12.0690 - mae: 2.3809 - val_loss: 2.4064 - val_mse: 11.8570 - val_mae: 2.4064\n",
            "Epoch 94/100\n",
            "8/8 [==============================] - 0s 14ms/step - loss: 2.3624 - mse: 11.8170 - mae: 2.3624 - val_loss: 2.4347 - val_mse: 11.4428 - val_mae: 2.4347\n",
            "Epoch 95/100\n",
            "8/8 [==============================] - 0s 12ms/step - loss: 2.5400 - mse: 12.2048 - mae: 2.5400 - val_loss: 2.4339 - val_mse: 12.1252 - val_mae: 2.4339\n",
            "Epoch 96/100\n",
            "8/8 [==============================] - 0s 11ms/step - loss: 2.4317 - mse: 11.7784 - mae: 2.4317 - val_loss: 2.4669 - val_mse: 11.3010 - val_mae: 2.4669\n",
            "Epoch 97/100\n",
            "8/8 [==============================] - 0s 10ms/step - loss: 2.4034 - mse: 11.7003 - mae: 2.4034 - val_loss: 2.4121 - val_mse: 11.5483 - val_mae: 2.4121\n",
            "Epoch 98/100\n",
            "8/8 [==============================] - 0s 11ms/step - loss: 2.5022 - mse: 12.4799 - mae: 2.5022 - val_loss: 2.4146 - val_mse: 11.7907 - val_mae: 2.4146\n",
            "Epoch 99/100\n",
            "8/8 [==============================] - 0s 10ms/step - loss: 2.5239 - mse: 13.0251 - mae: 2.5239 - val_loss: 2.4042 - val_mse: 11.5924 - val_mae: 2.4042\n",
            "Epoch 100/100\n",
            "8/8 [==============================] - 0s 12ms/step - loss: 2.5376 - mse: 13.4328 - mae: 2.5376 - val_loss: 2.4037 - val_mse: 11.6932 - val_mae: 2.4037\n",
            "CPU times: user 9.16 s, sys: 293 ms, total: 9.45 s\n",
            "Wall time: 9.64 s\n"
          ],
          "name": "stdout"
        }
      ]
    },
    {
      "cell_type": "code",
      "metadata": {
        "id": "PwQv3vZRx773"
      },
      "source": [
        "results = {}\n",
        "results['linearmodel'] = linearmodel.evaluate(xtest, ytest, verbose=0)"
      ],
      "execution_count": 30,
      "outputs": []
    },
    {
      "cell_type": "code",
      "metadata": {
        "colab": {
          "base_uri": "https://localhost:8080/"
        },
        "id": "PCRyU7BPySWg",
        "outputId": "6a3782d1-421d-4015-f617-ffda0f9ddda1"
      },
      "source": [
        "results"
      ],
      "execution_count": 31,
      "outputs": [
        {
          "output_type": "execute_result",
          "data": {
            "text/plain": [
              "{'linearmodel': [2.557514190673828, 10.312980651855469, 2.557514190673828]}"
            ]
          },
          "metadata": {
            "tags": []
          },
          "execution_count": 31
        }
      ]
    },
    {
      "cell_type": "code",
      "metadata": {
        "id": "a_xiXYrkyaGB"
      },
      "source": [
        "# DNN-> 2 layers for learning, 1 layer for prediction\n",
        "# Normalization-> 2 Dense (learning) -> Dense (1)\n"
      ],
      "execution_count": 32,
      "outputs": []
    },
    {
      "cell_type": "code",
      "metadata": {
        "id": "9lGxofsnyoEd"
      },
      "source": [
        "nonlinearmodel = tf.keras.Sequential([normalizer, layers.Dense(64, activation='relu'),\n",
        "                                     layers.Dense(64, activation='relu'),\n",
        "                                      layers.Dense(1)\n",
        "                                      ])\n",
        "HP_new_LR = 0.001\n",
        "nonlinearmodel.compile(optimizer=tf.optimizers.Adam(learning_rate=HP_new_LR),\n",
        "                    loss='mean_absolute_error', metrics=['mse','mae'])"
      ],
      "execution_count": 33,
      "outputs": []
    },
    {
      "cell_type": "code",
      "metadata": {
        "colab": {
          "base_uri": "https://localhost:8080/"
        },
        "id": "qQH8-YotzNy1",
        "outputId": "30c9fdc8-6ada-4556-bbaa-92c816428bb3"
      },
      "source": [
        "nonlinearmodel.summary()"
      ],
      "execution_count": 34,
      "outputs": [
        {
          "output_type": "stream",
          "text": [
            "Model: \"sequential_1\"\n",
            "_________________________________________________________________\n",
            "Layer (type)                 Output Shape              Param #   \n",
            "=================================================================\n",
            "normalization (Normalization (None, 9)                 19        \n",
            "_________________________________________________________________\n",
            "dense_1 (Dense)              (None, 64)                640       \n",
            "_________________________________________________________________\n",
            "dense_2 (Dense)              (None, 64)                4160      \n",
            "_________________________________________________________________\n",
            "dense_3 (Dense)              (None, 1)                 65        \n",
            "=================================================================\n",
            "Total params: 4,884\n",
            "Trainable params: 4,865\n",
            "Non-trainable params: 19\n",
            "_________________________________________________________________\n"
          ],
          "name": "stdout"
        }
      ]
    },
    {
      "cell_type": "code",
      "metadata": {
        "colab": {
          "base_uri": "https://localhost:8080/"
        },
        "id": "cxyuylRbzVLG",
        "outputId": "d616be0d-ea95-4fc4-f3d2-bea821d8fa7c"
      },
      "source": [
        "%%time\n",
        "history2 = nonlinearmodel.fit(xtrain, ytrain, validation_split=HP_validation_split, epochs=HP_epochs)"
      ],
      "execution_count": 35,
      "outputs": [
        {
          "output_type": "stream",
          "text": [
            "Epoch 1/100\n",
            "8/8 [==============================] - 1s 34ms/step - loss: 23.1509 - mse: 603.7777 - mae: 23.1509 - val_loss: 21.4937 - val_mse: 525.3564 - val_mae: 21.4937\n",
            "Epoch 2/100\n",
            "8/8 [==============================] - 0s 9ms/step - loss: 22.4245 - mse: 569.5880 - mae: 22.4245 - val_loss: 20.8140 - val_mse: 499.7204 - val_mae: 20.8140\n",
            "Epoch 3/100\n",
            "8/8 [==============================] - 0s 10ms/step - loss: 22.4259 - mse: 570.1370 - mae: 22.4259 - val_loss: 19.9905 - val_mse: 470.0752 - val_mae: 19.9905\n",
            "Epoch 4/100\n",
            "8/8 [==============================] - 0s 10ms/step - loss: 21.8480 - mse: 554.3468 - mae: 21.8480 - val_loss: 18.9295 - val_mse: 434.6164 - val_mae: 18.9295\n",
            "Epoch 5/100\n",
            "8/8 [==============================] - 0s 9ms/step - loss: 21.0586 - mse: 521.5794 - mae: 21.0586 - val_loss: 17.5693 - val_mse: 392.9964 - val_mae: 17.5693\n",
            "Epoch 6/100\n",
            "8/8 [==============================] - 0s 9ms/step - loss: 18.2945 - mse: 416.8416 - mae: 18.2945 - val_loss: 15.9891 - val_mse: 345.9855 - val_mae: 15.9891\n",
            "Epoch 7/100\n",
            "8/8 [==============================] - 0s 11ms/step - loss: 17.1884 - mse: 377.7704 - mae: 17.1884 - val_loss: 14.5300 - val_mse: 296.8448 - val_mae: 14.5300\n",
            "Epoch 8/100\n",
            "8/8 [==============================] - 0s 11ms/step - loss: 15.5811 - mse: 312.1254 - mae: 15.5811 - val_loss: 13.2442 - val_mse: 245.7927 - val_mae: 13.2442\n",
            "Epoch 9/100\n",
            "8/8 [==============================] - 0s 10ms/step - loss: 13.8594 - mse: 255.3186 - mae: 13.8594 - val_loss: 11.7128 - val_mse: 191.4338 - val_mae: 11.7128\n",
            "Epoch 10/100\n",
            "8/8 [==============================] - 0s 10ms/step - loss: 12.1763 - mse: 196.8423 - mae: 12.1763 - val_loss: 9.8348 - val_mse: 136.5219 - val_mae: 9.8348\n",
            "Epoch 11/100\n",
            "8/8 [==============================] - 0s 11ms/step - loss: 9.0869 - mse: 110.3453 - mae: 9.0869 - val_loss: 7.7153 - val_mse: 88.6379 - val_mae: 7.7153\n",
            "Epoch 12/100\n",
            "8/8 [==============================] - 0s 9ms/step - loss: 6.3276 - mse: 60.2305 - mae: 6.3276 - val_loss: 6.0188 - val_mse: 61.4380 - val_mae: 6.0188\n",
            "Epoch 13/100\n",
            "8/8 [==============================] - 0s 9ms/step - loss: 5.4044 - mse: 45.6423 - mae: 5.4044 - val_loss: 5.3200 - val_mse: 48.1170 - val_mae: 5.3200\n",
            "Epoch 14/100\n",
            "8/8 [==============================] - 0s 9ms/step - loss: 4.6448 - mse: 34.1567 - mae: 4.6448 - val_loss: 4.6011 - val_mse: 38.0562 - val_mae: 4.6011\n",
            "Epoch 15/100\n",
            "8/8 [==============================] - 0s 9ms/step - loss: 4.2043 - mse: 28.5361 - mae: 4.2043 - val_loss: 4.1213 - val_mse: 30.4478 - val_mae: 4.1213\n",
            "Epoch 16/100\n",
            "8/8 [==============================] - 0s 9ms/step - loss: 3.6229 - mse: 22.4032 - mae: 3.6229 - val_loss: 3.5720 - val_mse: 23.2359 - val_mae: 3.5720\n",
            "Epoch 17/100\n",
            "8/8 [==============================] - 0s 10ms/step - loss: 3.2539 - mse: 18.3256 - mae: 3.2539 - val_loss: 3.2412 - val_mse: 18.6239 - val_mae: 3.2412\n",
            "Epoch 18/100\n",
            "8/8 [==============================] - 0s 11ms/step - loss: 2.9843 - mse: 15.8299 - mae: 2.9843 - val_loss: 2.9931 - val_mse: 15.6000 - val_mae: 2.9931\n",
            "Epoch 19/100\n",
            "8/8 [==============================] - 0s 10ms/step - loss: 2.9295 - mse: 15.5864 - mae: 2.9295 - val_loss: 2.7808 - val_mse: 13.7328 - val_mae: 2.7808\n",
            "Epoch 20/100\n",
            "8/8 [==============================] - 0s 10ms/step - loss: 2.8421 - mse: 14.1745 - mae: 2.8421 - val_loss: 2.6378 - val_mse: 12.7940 - val_mae: 2.6378\n",
            "Epoch 21/100\n",
            "8/8 [==============================] - 0s 10ms/step - loss: 2.7223 - mse: 13.2940 - mae: 2.7223 - val_loss: 2.5810 - val_mse: 12.1963 - val_mae: 2.5810\n",
            "Epoch 22/100\n",
            "8/8 [==============================] - 0s 9ms/step - loss: 2.5199 - mse: 12.1261 - mae: 2.5199 - val_loss: 2.4794 - val_mse: 11.4689 - val_mae: 2.4794\n",
            "Epoch 23/100\n",
            "8/8 [==============================] - 0s 9ms/step - loss: 2.3860 - mse: 9.9929 - mae: 2.3860 - val_loss: 2.3862 - val_mse: 10.9162 - val_mae: 2.3862\n",
            "Epoch 24/100\n",
            "8/8 [==============================] - 0s 10ms/step - loss: 2.3682 - mse: 10.7638 - mae: 2.3682 - val_loss: 2.3500 - val_mse: 10.7989 - val_mae: 2.3500\n",
            "Epoch 25/100\n",
            "8/8 [==============================] - 0s 9ms/step - loss: 2.1435 - mse: 8.8278 - mae: 2.1435 - val_loss: 2.3101 - val_mse: 10.5715 - val_mae: 2.3101\n",
            "Epoch 26/100\n",
            "8/8 [==============================] - 0s 9ms/step - loss: 2.2486 - mse: 10.0879 - mae: 2.2486 - val_loss: 2.2666 - val_mse: 10.3124 - val_mae: 2.2666\n",
            "Epoch 27/100\n",
            "8/8 [==============================] - 0s 9ms/step - loss: 2.1611 - mse: 9.1936 - mae: 2.1611 - val_loss: 2.2716 - val_mse: 10.3497 - val_mae: 2.2716\n",
            "Epoch 28/100\n",
            "8/8 [==============================] - 0s 9ms/step - loss: 2.3236 - mse: 11.4156 - mae: 2.3236 - val_loss: 2.2135 - val_mse: 9.9734 - val_mae: 2.2135\n",
            "Epoch 29/100\n",
            "8/8 [==============================] - 0s 9ms/step - loss: 2.3326 - mse: 11.2039 - mae: 2.3326 - val_loss: 2.2007 - val_mse: 9.7278 - val_mae: 2.2007\n",
            "Epoch 30/100\n",
            "8/8 [==============================] - 0s 9ms/step - loss: 2.0826 - mse: 9.2920 - mae: 2.0826 - val_loss: 2.1768 - val_mse: 9.5970 - val_mae: 2.1768\n",
            "Epoch 31/100\n",
            "8/8 [==============================] - 0s 10ms/step - loss: 2.0545 - mse: 8.3485 - mae: 2.0545 - val_loss: 2.1478 - val_mse: 9.3506 - val_mae: 2.1478\n",
            "Epoch 32/100\n",
            "8/8 [==============================] - 0s 9ms/step - loss: 2.0840 - mse: 10.2287 - mae: 2.0840 - val_loss: 2.1556 - val_mse: 9.2314 - val_mae: 2.1556\n",
            "Epoch 33/100\n",
            "8/8 [==============================] - 0s 10ms/step - loss: 2.0436 - mse: 9.2852 - mae: 2.0436 - val_loss: 2.1009 - val_mse: 9.1031 - val_mae: 2.1009\n",
            "Epoch 34/100\n",
            "8/8 [==============================] - 0s 9ms/step - loss: 1.8423 - mse: 7.2480 - mae: 1.8423 - val_loss: 2.1535 - val_mse: 9.3379 - val_mae: 2.1535\n",
            "Epoch 35/100\n",
            "8/8 [==============================] - 0s 10ms/step - loss: 1.9834 - mse: 9.0391 - mae: 1.9834 - val_loss: 2.0791 - val_mse: 8.8201 - val_mae: 2.0791\n",
            "Epoch 36/100\n",
            "8/8 [==============================] - 0s 11ms/step - loss: 1.9228 - mse: 7.8293 - mae: 1.9228 - val_loss: 2.0980 - val_mse: 8.6634 - val_mae: 2.0980\n",
            "Epoch 37/100\n",
            "8/8 [==============================] - 0s 11ms/step - loss: 1.9715 - mse: 8.9904 - mae: 1.9715 - val_loss: 2.0915 - val_mse: 8.9732 - val_mae: 2.0915\n",
            "Epoch 38/100\n",
            "8/8 [==============================] - 0s 9ms/step - loss: 2.1820 - mse: 9.5441 - mae: 2.1820 - val_loss: 2.0888 - val_mse: 8.6839 - val_mae: 2.0888\n",
            "Epoch 39/100\n",
            "8/8 [==============================] - 0s 9ms/step - loss: 2.1516 - mse: 10.6900 - mae: 2.1516 - val_loss: 2.0429 - val_mse: 8.3956 - val_mae: 2.0429\n",
            "Epoch 40/100\n",
            "8/8 [==============================] - 0s 9ms/step - loss: 1.9402 - mse: 7.9025 - mae: 1.9402 - val_loss: 2.0624 - val_mse: 8.2966 - val_mae: 2.0624\n",
            "Epoch 41/100\n",
            "8/8 [==============================] - 0s 9ms/step - loss: 1.8335 - mse: 7.7845 - mae: 1.8335 - val_loss: 2.0883 - val_mse: 8.5189 - val_mae: 2.0883\n",
            "Epoch 42/100\n",
            "8/8 [==============================] - 0s 11ms/step - loss: 2.1199 - mse: 10.1677 - mae: 2.1199 - val_loss: 2.0405 - val_mse: 8.0195 - val_mae: 2.0405\n",
            "Epoch 43/100\n",
            "8/8 [==============================] - 0s 9ms/step - loss: 1.7628 - mse: 6.6270 - mae: 1.7628 - val_loss: 2.0379 - val_mse: 8.1335 - val_mae: 2.0379\n",
            "Epoch 44/100\n",
            "8/8 [==============================] - 0s 10ms/step - loss: 1.8524 - mse: 6.9777 - mae: 1.8524 - val_loss: 2.0190 - val_mse: 7.9443 - val_mae: 2.0190\n",
            "Epoch 45/100\n",
            "8/8 [==============================] - 0s 10ms/step - loss: 1.9444 - mse: 9.0740 - mae: 1.9444 - val_loss: 2.0512 - val_mse: 8.2065 - val_mae: 2.0512\n",
            "Epoch 46/100\n",
            "8/8 [==============================] - 0s 10ms/step - loss: 1.8886 - mse: 8.0849 - mae: 1.8886 - val_loss: 2.0524 - val_mse: 7.8980 - val_mae: 2.0524\n",
            "Epoch 47/100\n",
            "8/8 [==============================] - 0s 9ms/step - loss: 1.9933 - mse: 9.5943 - mae: 1.9933 - val_loss: 2.0256 - val_mse: 8.0593 - val_mae: 2.0256\n",
            "Epoch 48/100\n",
            "8/8 [==============================] - 0s 9ms/step - loss: 1.9062 - mse: 8.1971 - mae: 1.9062 - val_loss: 1.9888 - val_mse: 7.7154 - val_mae: 1.9888\n",
            "Epoch 49/100\n",
            "8/8 [==============================] - 0s 9ms/step - loss: 1.9205 - mse: 8.8328 - mae: 1.9205 - val_loss: 2.0457 - val_mse: 7.8606 - val_mae: 2.0457\n",
            "Epoch 50/100\n",
            "8/8 [==============================] - 0s 10ms/step - loss: 1.8827 - mse: 7.7765 - mae: 1.8827 - val_loss: 2.0166 - val_mse: 8.2122 - val_mae: 2.0166\n",
            "Epoch 51/100\n",
            "8/8 [==============================] - 0s 11ms/step - loss: 1.9074 - mse: 9.0657 - mae: 1.9074 - val_loss: 2.0398 - val_mse: 7.7709 - val_mae: 2.0398\n",
            "Epoch 52/100\n",
            "8/8 [==============================] - 0s 10ms/step - loss: 1.8316 - mse: 8.0706 - mae: 1.8316 - val_loss: 1.9818 - val_mse: 7.8095 - val_mae: 1.9818\n",
            "Epoch 53/100\n",
            "8/8 [==============================] - 0s 10ms/step - loss: 1.8901 - mse: 8.7014 - mae: 1.8901 - val_loss: 1.9572 - val_mse: 7.5580 - val_mae: 1.9572\n",
            "Epoch 54/100\n",
            "8/8 [==============================] - 0s 10ms/step - loss: 1.8513 - mse: 7.9645 - mae: 1.8513 - val_loss: 1.9869 - val_mse: 7.5803 - val_mae: 1.9869\n",
            "Epoch 55/100\n",
            "8/8 [==============================] - 0s 10ms/step - loss: 1.8382 - mse: 8.4547 - mae: 1.8382 - val_loss: 1.9998 - val_mse: 7.8232 - val_mae: 1.9998\n",
            "Epoch 56/100\n",
            "8/8 [==============================] - 0s 10ms/step - loss: 1.8358 - mse: 7.3570 - mae: 1.8358 - val_loss: 1.9983 - val_mse: 7.8026 - val_mae: 1.9983\n",
            "Epoch 57/100\n",
            "8/8 [==============================] - 0s 10ms/step - loss: 2.0113 - mse: 9.2178 - mae: 2.0113 - val_loss: 1.9778 - val_mse: 7.5062 - val_mae: 1.9778\n",
            "Epoch 58/100\n",
            "8/8 [==============================] - 0s 10ms/step - loss: 1.8865 - mse: 7.8400 - mae: 1.8865 - val_loss: 1.9884 - val_mse: 7.8502 - val_mae: 1.9884\n",
            "Epoch 59/100\n",
            "8/8 [==============================] - 0s 10ms/step - loss: 1.7841 - mse: 6.9050 - mae: 1.7841 - val_loss: 1.9640 - val_mse: 7.3879 - val_mae: 1.9640\n",
            "Epoch 60/100\n",
            "8/8 [==============================] - 0s 10ms/step - loss: 1.8615 - mse: 8.3944 - mae: 1.8615 - val_loss: 1.9924 - val_mse: 7.7301 - val_mae: 1.9924\n",
            "Epoch 61/100\n",
            "8/8 [==============================] - 0s 9ms/step - loss: 1.8155 - mse: 7.3918 - mae: 1.8155 - val_loss: 1.9504 - val_mse: 7.3887 - val_mae: 1.9504\n",
            "Epoch 62/100\n",
            "8/8 [==============================] - 0s 9ms/step - loss: 1.9073 - mse: 9.0722 - mae: 1.9073 - val_loss: 1.9729 - val_mse: 7.5798 - val_mae: 1.9729\n",
            "Epoch 63/100\n",
            "8/8 [==============================] - 0s 9ms/step - loss: 1.8073 - mse: 7.4079 - mae: 1.8073 - val_loss: 1.9825 - val_mse: 7.5913 - val_mae: 1.9825\n",
            "Epoch 64/100\n",
            "8/8 [==============================] - 0s 10ms/step - loss: 1.9832 - mse: 9.3515 - mae: 1.9832 - val_loss: 1.9397 - val_mse: 7.4149 - val_mae: 1.9397\n",
            "Epoch 65/100\n",
            "8/8 [==============================] - 0s 9ms/step - loss: 1.8692 - mse: 8.3691 - mae: 1.8692 - val_loss: 1.9382 - val_mse: 7.4348 - val_mae: 1.9382\n",
            "Epoch 66/100\n",
            "8/8 [==============================] - 0s 9ms/step - loss: 1.7281 - mse: 6.9222 - mae: 1.7281 - val_loss: 1.9270 - val_mse: 7.2547 - val_mae: 1.9270\n",
            "Epoch 67/100\n",
            "8/8 [==============================] - 0s 10ms/step - loss: 1.8643 - mse: 8.4913 - mae: 1.8643 - val_loss: 1.9439 - val_mse: 7.4956 - val_mae: 1.9439\n",
            "Epoch 68/100\n",
            "8/8 [==============================] - 0s 9ms/step - loss: 1.8193 - mse: 6.9809 - mae: 1.8193 - val_loss: 1.9867 - val_mse: 7.4604 - val_mae: 1.9867\n",
            "Epoch 69/100\n",
            "8/8 [==============================] - 0s 9ms/step - loss: 1.7393 - mse: 7.2854 - mae: 1.7393 - val_loss: 1.9438 - val_mse: 7.7336 - val_mae: 1.9438\n",
            "Epoch 70/100\n",
            "8/8 [==============================] - 0s 9ms/step - loss: 1.7957 - mse: 7.8855 - mae: 1.7957 - val_loss: 1.9257 - val_mse: 7.1871 - val_mae: 1.9257\n",
            "Epoch 71/100\n",
            "8/8 [==============================] - 0s 10ms/step - loss: 1.8697 - mse: 8.4317 - mae: 1.8697 - val_loss: 1.8894 - val_mse: 7.1347 - val_mae: 1.8894\n",
            "Epoch 72/100\n",
            "8/8 [==============================] - 0s 9ms/step - loss: 1.7468 - mse: 7.5194 - mae: 1.7468 - val_loss: 1.8972 - val_mse: 7.1651 - val_mae: 1.8972\n",
            "Epoch 73/100\n",
            "8/8 [==============================] - 0s 9ms/step - loss: 1.6835 - mse: 6.3145 - mae: 1.6835 - val_loss: 1.9226 - val_mse: 7.3515 - val_mae: 1.9226\n",
            "Epoch 74/100\n",
            "8/8 [==============================] - 0s 10ms/step - loss: 1.8435 - mse: 8.2671 - mae: 1.8435 - val_loss: 1.9150 - val_mse: 7.2303 - val_mae: 1.9150\n",
            "Epoch 75/100\n",
            "8/8 [==============================] - 0s 11ms/step - loss: 1.8579 - mse: 8.1027 - mae: 1.8579 - val_loss: 1.8990 - val_mse: 7.1530 - val_mae: 1.8990\n",
            "Epoch 76/100\n",
            "8/8 [==============================] - 0s 10ms/step - loss: 1.6726 - mse: 6.9590 - mae: 1.6726 - val_loss: 1.8848 - val_mse: 7.0866 - val_mae: 1.8848\n",
            "Epoch 77/100\n",
            "8/8 [==============================] - 0s 10ms/step - loss: 1.8633 - mse: 8.2270 - mae: 1.8633 - val_loss: 1.8949 - val_mse: 7.1751 - val_mae: 1.8949\n",
            "Epoch 78/100\n",
            "8/8 [==============================] - 0s 10ms/step - loss: 1.7785 - mse: 8.4242 - mae: 1.7785 - val_loss: 1.8889 - val_mse: 6.9646 - val_mae: 1.8889\n",
            "Epoch 79/100\n",
            "8/8 [==============================] - 0s 10ms/step - loss: 1.7671 - mse: 6.8760 - mae: 1.7671 - val_loss: 1.8667 - val_mse: 6.9175 - val_mae: 1.8667\n",
            "Epoch 80/100\n",
            "8/8 [==============================] - 0s 9ms/step - loss: 1.9195 - mse: 8.4898 - mae: 1.9195 - val_loss: 1.9019 - val_mse: 6.9708 - val_mae: 1.9019\n",
            "Epoch 81/100\n",
            "8/8 [==============================] - 0s 10ms/step - loss: 1.8562 - mse: 8.6792 - mae: 1.8562 - val_loss: 1.8897 - val_mse: 7.3290 - val_mae: 1.8897\n",
            "Epoch 82/100\n",
            "8/8 [==============================] - 0s 10ms/step - loss: 1.8821 - mse: 8.3714 - mae: 1.8821 - val_loss: 1.9112 - val_mse: 7.1257 - val_mae: 1.9112\n",
            "Epoch 83/100\n",
            "8/8 [==============================] - 0s 11ms/step - loss: 1.7474 - mse: 8.5466 - mae: 1.7474 - val_loss: 1.8690 - val_mse: 7.0214 - val_mae: 1.8690\n",
            "Epoch 84/100\n",
            "8/8 [==============================] - 0s 10ms/step - loss: 1.9127 - mse: 9.1217 - mae: 1.9127 - val_loss: 1.8533 - val_mse: 6.8749 - val_mae: 1.8533\n",
            "Epoch 85/100\n",
            "8/8 [==============================] - 0s 10ms/step - loss: 1.6776 - mse: 6.5925 - mae: 1.6776 - val_loss: 1.8772 - val_mse: 6.9372 - val_mae: 1.8772\n",
            "Epoch 86/100\n",
            "8/8 [==============================] - 0s 10ms/step - loss: 1.7375 - mse: 6.7066 - mae: 1.7375 - val_loss: 1.8633 - val_mse: 6.9824 - val_mae: 1.8633\n",
            "Epoch 87/100\n",
            "8/8 [==============================] - 0s 9ms/step - loss: 2.0514 - mse: 9.5203 - mae: 2.0514 - val_loss: 1.8693 - val_mse: 7.0152 - val_mae: 1.8693\n",
            "Epoch 88/100\n",
            "8/8 [==============================] - 0s 9ms/step - loss: 1.6593 - mse: 6.2892 - mae: 1.6593 - val_loss: 1.8577 - val_mse: 6.8185 - val_mae: 1.8577\n",
            "Epoch 89/100\n",
            "8/8 [==============================] - 0s 9ms/step - loss: 1.8177 - mse: 8.0750 - mae: 1.8177 - val_loss: 1.8774 - val_mse: 6.9640 - val_mae: 1.8774\n",
            "Epoch 90/100\n",
            "8/8 [==============================] - 0s 10ms/step - loss: 1.8151 - mse: 8.0285 - mae: 1.8151 - val_loss: 1.8647 - val_mse: 6.9315 - val_mae: 1.8647\n",
            "Epoch 91/100\n",
            "8/8 [==============================] - 0s 10ms/step - loss: 1.7595 - mse: 7.1186 - mae: 1.7595 - val_loss: 1.8457 - val_mse: 6.7712 - val_mae: 1.8457\n",
            "Epoch 92/100\n",
            "8/8 [==============================] - 0s 11ms/step - loss: 1.7395 - mse: 7.9385 - mae: 1.7395 - val_loss: 1.8655 - val_mse: 7.0463 - val_mae: 1.8655\n",
            "Epoch 93/100\n",
            "8/8 [==============================] - 0s 11ms/step - loss: 1.7127 - mse: 7.1585 - mae: 1.7127 - val_loss: 1.8387 - val_mse: 6.6858 - val_mae: 1.8387\n",
            "Epoch 94/100\n",
            "8/8 [==============================] - 0s 10ms/step - loss: 1.8666 - mse: 7.8130 - mae: 1.8666 - val_loss: 1.8220 - val_mse: 6.7356 - val_mae: 1.8220\n",
            "Epoch 95/100\n",
            "8/8 [==============================] - 0s 10ms/step - loss: 1.8101 - mse: 8.4868 - mae: 1.8101 - val_loss: 1.8566 - val_mse: 6.8400 - val_mae: 1.8566\n",
            "Epoch 96/100\n",
            "8/8 [==============================] - 0s 10ms/step - loss: 1.7289 - mse: 7.0283 - mae: 1.7289 - val_loss: 1.8379 - val_mse: 6.5629 - val_mae: 1.8379\n",
            "Epoch 97/100\n",
            "8/8 [==============================] - 0s 10ms/step - loss: 1.7688 - mse: 7.4383 - mae: 1.7688 - val_loss: 1.8520 - val_mse: 6.7943 - val_mae: 1.8520\n",
            "Epoch 98/100\n",
            "8/8 [==============================] - 0s 10ms/step - loss: 1.7433 - mse: 6.9411 - mae: 1.7433 - val_loss: 1.8451 - val_mse: 6.7998 - val_mae: 1.8451\n",
            "Epoch 99/100\n",
            "8/8 [==============================] - 0s 10ms/step - loss: 1.6591 - mse: 7.1038 - mae: 1.6591 - val_loss: 1.8077 - val_mse: 6.2998 - val_mae: 1.8077\n",
            "Epoch 100/100\n",
            "8/8 [==============================] - 0s 11ms/step - loss: 1.9387 - mse: 8.3516 - mae: 1.9387 - val_loss: 1.7938 - val_mse: 6.4399 - val_mae: 1.7938\n",
            "CPU times: user 8.05 s, sys: 321 ms, total: 8.37 s\n",
            "Wall time: 8.3 s\n"
          ],
          "name": "stdout"
        }
      ]
    },
    {
      "cell_type": "code",
      "metadata": {
        "id": "HHEr6Vod0K3P"
      },
      "source": [
        "results['nonlinearmodel'] = nonlinearmodel.evaluate(xtest, ytest, verbose=0)"
      ],
      "execution_count": 36,
      "outputs": []
    },
    {
      "cell_type": "code",
      "metadata": {
        "colab": {
          "base_uri": "https://localhost:8080/"
        },
        "id": "0mP4RSZH0YMp",
        "outputId": "62881cbd-d51b-4366-ead4-d8f060c9bac0"
      },
      "source": [
        "results"
      ],
      "execution_count": 37,
      "outputs": [
        {
          "output_type": "execute_result",
          "data": {
            "text/plain": [
              "{'linearmodel': [2.557514190673828, 10.312980651855469, 2.557514190673828],\n",
              " 'nonlinearmodel': [1.8229622840881348, 6.256921768188477, 1.8229622840881348]}"
            ]
          },
          "metadata": {
            "tags": []
          },
          "execution_count": 37
        }
      ]
    },
    {
      "cell_type": "code",
      "metadata": {
        "id": "OanVm8_E0ZNE"
      },
      "source": [
        "# I want my errors to be minimum\n",
        "# here, DNN is lower in errors than Linear model! \n",
        "allresults = pd.DataFrame(results, index=['loss_mae','mse','mae']).T"
      ],
      "execution_count": 40,
      "outputs": []
    },
    {
      "cell_type": "code",
      "metadata": {
        "colab": {
          "base_uri": "https://localhost:8080/",
          "height": 108
        },
        "id": "7AYCQ-pG12gw",
        "outputId": "c5ab6035-b141-4ac0-855f-2f75ef6e5d72"
      },
      "source": [
        "allresults"
      ],
      "execution_count": 41,
      "outputs": [
        {
          "output_type": "execute_result",
          "data": {
            "text/html": [
              "<div>\n",
              "<style scoped>\n",
              "    .dataframe tbody tr th:only-of-type {\n",
              "        vertical-align: middle;\n",
              "    }\n",
              "\n",
              "    .dataframe tbody tr th {\n",
              "        vertical-align: top;\n",
              "    }\n",
              "\n",
              "    .dataframe thead th {\n",
              "        text-align: right;\n",
              "    }\n",
              "</style>\n",
              "<table border=\"1\" class=\"dataframe\">\n",
              "  <thead>\n",
              "    <tr style=\"text-align: right;\">\n",
              "      <th></th>\n",
              "      <th>loss_mae</th>\n",
              "      <th>mse</th>\n",
              "      <th>mae</th>\n",
              "    </tr>\n",
              "  </thead>\n",
              "  <tbody>\n",
              "    <tr>\n",
              "      <th>linearmodel</th>\n",
              "      <td>2.557514</td>\n",
              "      <td>10.312981</td>\n",
              "      <td>2.557514</td>\n",
              "    </tr>\n",
              "    <tr>\n",
              "      <th>nonlinearmodel</th>\n",
              "      <td>1.822962</td>\n",
              "      <td>6.256922</td>\n",
              "      <td>1.822962</td>\n",
              "    </tr>\n",
              "  </tbody>\n",
              "</table>\n",
              "</div>"
            ],
            "text/plain": [
              "                loss_mae        mse       mae\n",
              "linearmodel     2.557514  10.312981  2.557514\n",
              "nonlinearmodel  1.822962   6.256922  1.822962"
            ]
          },
          "metadata": {
            "tags": []
          },
          "execution_count": 41
        }
      ]
    },
    {
      "cell_type": "code",
      "metadata": {
        "colab": {
          "base_uri": "https://localhost:8080/"
        },
        "id": "5vhM3Kz42B26",
        "outputId": "35f6d37d-f967-4aa1-cf97-c62649788a84"
      },
      "source": [
        "predictions = nonlinearmodel.predict(xtest).flatten()\n",
        "predictions\n"
      ],
      "execution_count": 43,
      "outputs": [
        {
          "output_type": "execute_result",
          "data": {
            "text/plain": [
              "array([14.675225, 14.873026, 20.348843, 21.62721 , 17.485634, 11.931038,\n",
              "       25.096329, 22.929668, 25.033028, 30.134172, 30.520292, 26.113823,\n",
              "       27.19079 , 14.469572, 24.8185  , 14.473379, 14.766802, 13.089619,\n",
              "       18.5615  , 12.268223, 12.341387, 18.904388, 20.161266, 23.126112,\n",
              "       14.734823, 27.824749, 17.11496 , 15.91031 , 16.959288, 22.421053,\n",
              "       23.882053, 18.37856 , 17.00098 , 15.126272, 18.706007, 18.130152,\n",
              "       19.94144 , 30.930147, 21.705841, 16.27383 , 31.137405, 25.974913,\n",
              "       30.59896 , 27.719639, 34.530754, 19.82235 , 21.400059, 20.810822,\n",
              "       18.022057, 17.236206, 30.735023, 21.74478 , 22.596182, 19.46756 ,\n",
              "       31.77855 , 33.362965, 24.559105, 24.88794 , 28.029108, 35.51945 ,\n",
              "       33.4265  , 23.101887, 32.867573, 32.43347 , 33.83761 , 23.920002,\n",
              "       36.42359 , 35.954094, 31.193243, 25.635399, 25.870125, 21.912207,\n",
              "       36.791916, 35.626637, 29.508366, 33.53557 , 35.17952 , 28.579939],\n",
              "      dtype=float32)"
            ]
          },
          "metadata": {
            "tags": []
          },
          "execution_count": 43
        }
      ]
    },
    {
      "cell_type": "code",
      "metadata": {
        "colab": {
          "base_uri": "https://localhost:8080/",
          "height": 300
        },
        "id": "jt4Kp-cK5kuQ",
        "outputId": "73518f8d-7fe8-4a82-8a73-a6c72e5c0e04"
      },
      "source": [
        "# plot of predictions\n",
        "a = plt.axes(aspect='equal')\n",
        "plt.scatter(ytest, predictions)\n",
        "plt.xlabel('real')\n",
        "plt.ylabel('Predictions')\n",
        "lims = [0,50]\n",
        "plt.xlim(lims)\n",
        "plt.ylim(lims)\n",
        "plt.plot(lims, lims)"
      ],
      "execution_count": 44,
      "outputs": [
        {
          "output_type": "execute_result",
          "data": {
            "text/plain": [
              "[<matplotlib.lines.Line2D at 0x7fbb8a57fdd0>]"
            ]
          },
          "metadata": {
            "tags": []
          },
          "execution_count": 44
        },
        {
          "output_type": "display_data",
          "data": {
            "image/png": "[encoded data removed]",
            "text/plain": [
              "<Figure size 432x288 with 1 Axes>"
            ]
          },
          "metadata": {
            "tags": [],
            "needs_background": "light"
          }
        }
      ]
    },
    {
      "cell_type": "code",
      "metadata": {
        "colab": {
          "base_uri": "https://localhost:8080/",
          "height": 296
        },
        "id": "Gkeq5Tis6ImH",
        "outputId": "ddeba8fd-c8e1-4d74-8478-296d4cee89f2"
      },
      "source": [
        "# plot of losses\n",
        "errors = predictions - ytest\n",
        "plt.hist(errors, bins=25) # hist-> frequency distribution, x labels will be continous and related \n",
        "# population of one city and plot age distribution-> histogram\n",
        "# populations of multiple cities with each other-> bar chart! \n",
        "# bar chart-> count distribution, xlabels may not be related\n",
        "plt.xlabel('prediction error')\n",
        "plt.ylabel('Count')"
      ],
      "execution_count": 45,
      "outputs": [
        {
          "output_type": "execute_result",
          "data": {
            "text/plain": [
              "Text(0, 0.5, 'Count')"
            ]
          },
          "metadata": {
            "tags": []
          },
          "execution_count": 45
        },
        {
          "output_type": "display_data",
          "data": {
            "image/png": "[encoded data removed]",
            "text/plain": [
              "<Figure size 432x288 with 1 Axes>"
            ]
          },
          "metadata": {
            "tags": [],
            "needs_background": "light"
          }
        }
      ]
    },
    {
      "cell_type": "code",
      "metadata": {
        "id": "vF30HhvD60eP"
      },
      "source": [
        "# saved -> eported\n",
        "nonlinearmodel.save('myDNNMPGregression.h5')"
      ],
      "execution_count": 46,
      "outputs": []
    },
    {
      "cell_type": "code",
      "metadata": {
        "id": "w4vtOr1g7OFH"
      },
      "source": [
        ""
      ],
      "execution_count": null,
      "outputs": []
    }
  ]
}