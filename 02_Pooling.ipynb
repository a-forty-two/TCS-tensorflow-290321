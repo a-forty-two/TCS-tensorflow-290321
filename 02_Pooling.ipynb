{
  "nbformat": 4,
  "nbformat_minor": 0,
  "metadata": {
    "colab": {
      "name": "TCS 02 Pooling.ipynb",
      "provenance": [],
      "authorship_tag": "ABX9TyOnZUfoHrj/iApyn/JjVcMI"
    },
    "kernelspec": {
      "name": "python3",
      "display_name": "Python 3"
    },
    "language_info": {
      "name": "python"
    }
  },
  "cells": [
    {
      "cell_type": "code",
      "metadata": {
        "id": "Sx3acyan6MOh"
      },
      "source": [
        "import tensorflow as tf"
      ],
      "execution_count": 1,
      "outputs": []
    },
    {
      "cell_type": "code",
      "metadata": {
        "id": "MxvJGbdI6_JC"
      },
      "source": [
        "temp = [0., 0., 1., 0., 0., 2., 1., 0., 1., 0.]\n",
        "values = tf.reshape(temp, [1,1,2,5])"
      ],
      "execution_count": 2,
      "outputs": []
    },
    {
      "cell_type": "code",
      "metadata": {
        "colab": {
          "base_uri": "https://localhost:8080/"
        },
        "id": "O_a3GouV7Uuk",
        "outputId": "c7fc50c3-e18c-4faf-d743-5dcbc2afd4b3"
      },
      "source": [
        "print(\"TF version = \" + tf.__version__)\n",
        "values\n",
        "# eager evaluation"
      ],
      "execution_count": 5,
      "outputs": [
        {
          "output_type": "stream",
          "text": [
            "TF version = 2.4.1\n"
          ],
          "name": "stdout"
        },
        {
          "output_type": "execute_result",
          "data": {
            "text/plain": [
              "<tf.Tensor: shape=(1, 1, 2, 5), dtype=float32, numpy=\n",
              "array([[[[0., 0., 1., 0., 0.],\n",
              "         [2., 1., 0., 1., 0.]]]], dtype=float32)>"
            ]
          },
          "metadata": {
            "tags": []
          },
          "execution_count": 5
        }
      ]
    },
    {
      "cell_type": "code",
      "metadata": {
        "colab": {
          "base_uri": "https://localhost:8080/"
        },
        "id": "yW-UY1DT7Wim",
        "outputId": "dbf43b94-41a8-4bc2-ab5b-64735d3ebf2e"
      },
      "source": [
        "%tensorflow_version 1.x\n",
        "import tensorflow as tf\n",
        "temp = [0., 0., 1., 0., 0., 2., 1., 0., 1., 0.]\n",
        "values = tf.reshape(temp, [1,1,2,5])\n",
        "print(\"TF version = \" + tf.__version__)\n",
        "values\n",
        "# Lazy evaluation-> graph will be waited, and built later"
      ],
      "execution_count": 1,
      "outputs": [
        {
          "output_type": "stream",
          "text": [
            "TensorFlow 1.x selected.\n",
            "TF version = 1.15.2\n"
          ],
          "name": "stdout"
        },
        {
          "output_type": "execute_result",
          "data": {
            "text/plain": [
              "<tf.Tensor 'Reshape:0' shape=(1, 1, 2, 5) dtype=float32>"
            ]
          },
          "metadata": {
            "tags": []
          },
          "execution_count": 1
        }
      ]
    },
    {
      "cell_type": "code",
      "metadata": {
        "id": "QGO9T0k77uUr"
      },
      "source": [
        "%tensorflow_version 2.x\n",
        "import tensorflow as tf\n",
        "temp = [0., 0., 1., 0., 0., 2., 1., 0., 1., 0.]\n",
        "values = tf.reshape(temp, [1,1,2,5])\n"
      ],
      "execution_count": 2,
      "outputs": []
    },
    {
      "cell_type": "code",
      "metadata": {
        "id": "TVKxALk08Eyh"
      },
      "source": [
        "avgpool = tf.nn.pool(input=values, window_shape=(2,2), pooling_type='AVG', padding ='SAME')\n",
        "maxpool=  tf.nn.pool(input=values, window_shape=(2,2), pooling_type='MAX', padding ='SAME')"
      ],
      "execution_count": 3,
      "outputs": []
    },
    {
      "cell_type": "code",
      "metadata": {
        "colab": {
          "base_uri": "https://localhost:8080/"
        },
        "id": "CAdaZLxW8iBD",
        "outputId": "c27f26c8-7a39-40d6-b1e4-bc66cfc0dbe1"
      },
      "source": [
        "avgpool"
      ],
      "execution_count": 4,
      "outputs": [
        {
          "output_type": "execute_result",
          "data": {
            "text/plain": [
              "<tf.Tensor: shape=(1, 1, 2, 5), dtype=float32, numpy=\n",
              "array([[[[1. , 0.5, 0.5, 0.5, 0. ],\n",
              "         [2. , 1. , 0. , 1. , 0. ]]]], dtype=float32)>"
            ]
          },
          "metadata": {
            "tags": []
          },
          "execution_count": 4
        }
      ]
    },
    {
      "cell_type": "code",
      "metadata": {
        "colab": {
          "base_uri": "https://localhost:8080/"
        },
        "id": "MN4EKIw-8kiA",
        "outputId": "4ba29762-4eb5-4f5f-fea3-4d6e4f222cf2"
      },
      "source": [
        "maxpool"
      ],
      "execution_count": 5,
      "outputs": [
        {
          "output_type": "execute_result",
          "data": {
            "text/plain": [
              "<tf.Tensor: shape=(1, 1, 2, 5), dtype=float32, numpy=\n",
              "array([[[[2., 1., 1., 1., 0.],\n",
              "         [2., 1., 0., 1., 0.]]]], dtype=float32)>"
            ]
          },
          "metadata": {
            "tags": []
          },
          "execution_count": 5
        }
      ]
    },
    {
      "cell_type": "code",
      "metadata": {
        "id": "vVbys9c384PB"
      },
      "source": [
        "avgpool = tf.nn.pool(input=values, window_shape=(1,2), pooling_type='AVG', padding ='VALID')\n",
        "maxpool=  tf.nn.pool(input=values, window_shape=(1,2), pooling_type='MAX', padding ='VALID')"
      ],
      "execution_count": 6,
      "outputs": []
    },
    {
      "cell_type": "code",
      "metadata": {
        "colab": {
          "base_uri": "https://localhost:8080/"
        },
        "id": "kYJepL_L9Bzc",
        "outputId": "809fc6c6-6e0f-424f-9602-f5963c310eaa"
      },
      "source": [
        "avgpool"
      ],
      "execution_count": 7,
      "outputs": [
        {
          "output_type": "execute_result",
          "data": {
            "text/plain": [
              "<tf.Tensor: shape=(1, 1, 1, 5), dtype=float32, numpy=array([[[[1. , 0.5, 0.5, 0.5, 0. ]]]], dtype=float32)>"
            ]
          },
          "metadata": {
            "tags": []
          },
          "execution_count": 7
        }
      ]
    },
    {
      "cell_type": "code",
      "metadata": {
        "colab": {
          "base_uri": "https://localhost:8080/"
        },
        "id": "LBuRrq0c9C_N",
        "outputId": "c4eb0a66-35fa-47cb-825a-a5b9447fc785"
      },
      "source": [
        "maxpool"
      ],
      "execution_count": 9,
      "outputs": [
        {
          "output_type": "execute_result",
          "data": {
            "text/plain": [
              "<tf.Tensor: shape=(1, 1, 1, 5), dtype=float32, numpy=array([[[[2., 1., 1., 1., 0.]]]], dtype=float32)>"
            ]
          },
          "metadata": {
            "tags": []
          },
          "execution_count": 9
        }
      ]
    },
    {
      "cell_type": "code",
      "metadata": {
        "id": "pLn37zXU9D_Q"
      },
      "source": [
        ""
      ],
      "execution_count": null,
      "outputs": []
    }
  ]
}