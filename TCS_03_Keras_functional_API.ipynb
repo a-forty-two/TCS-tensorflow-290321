{
  "nbformat": 4,
  "nbformat_minor": 0,
  "metadata": {
    "colab": {
      "name": "TCS 03 Keras functional API.ipynb",
      "provenance": [],
      "collapsed_sections": [],
      "authorship_tag": "ABX9TyMwsAspwmF9Ni4tuCwNxxOW"
    },
    "kernelspec": {
      "name": "python3",
      "display_name": "Python 3"
    },
    "language_info": {
      "name": "python"
    }
  },
  "cells": [
    {
      "cell_type": "code",
      "metadata": {
        "id": "dxEeXuv6e1TW"
      },
      "source": [
        "# tf.keras.Sequential \n",
        "import numpy as np\n",
        "import tensorflow as tf\n",
        "from tensorflow import keras\n",
        "from tensorflow.keras import layers"
      ],
      "execution_count": 1,
      "outputs": []
    },
    {
      "cell_type": "code",
      "metadata": {
        "id": "QJTxs28ZfK2N"
      },
      "source": [
        "# Dense -> Dense -> Dense "
      ],
      "execution_count": 2,
      "outputs": []
    },
    {
      "cell_type": "code",
      "metadata": {
        "id": "_7Nb2H5qfNMX"
      },
      "source": [
        "# input layer is initializer\n",
        "imageinputs = keras.Input(shape=(32,32,3))\n",
        "reginputs = keras.Input(shape=(784,))\n"
      ],
      "execution_count": 3,
      "outputs": []
    },
    {
      "cell_type": "code",
      "metadata": {
        "colab": {
          "base_uri": "https://localhost:8080/"
        },
        "id": "1WgWsE-ufgEn",
        "outputId": "64d1a466-483b-450b-e638-719b311c0075"
      },
      "source": [
        "imageinputs"
      ],
      "execution_count": 4,
      "outputs": [
        {
          "output_type": "execute_result",
          "data": {
            "text/plain": [
              "<KerasTensor: shape=(None, 32, 32, 3) dtype=float32 (created by layer 'input_1')>"
            ]
          },
          "metadata": {
            "tags": []
          },
          "execution_count": 4
        }
      ]
    },
    {
      "cell_type": "code",
      "metadata": {
        "colab": {
          "base_uri": "https://localhost:8080/"
        },
        "id": "lI-txiRdfhgp",
        "outputId": "5f9f2e07-77ad-47bb-c0d7-78b49a9f1491"
      },
      "source": [
        "reginputs"
      ],
      "execution_count": 5,
      "outputs": [
        {
          "output_type": "execute_result",
          "data": {
            "text/plain": [
              "<KerasTensor: shape=(None, 784) dtype=float32 (created by layer 'input_2')>"
            ]
          },
          "metadata": {
            "tags": []
          },
          "execution_count": 5
        }
      ]
    },
    {
      "cell_type": "code",
      "metadata": {
        "id": "BztYHZMefjPr"
      },
      "source": [
        "dense = layers.Dense(64, activation='relu')\n",
        "x = dense(reginputs)"
      ],
      "execution_count": 6,
      "outputs": []
    },
    {
      "cell_type": "code",
      "metadata": {
        "id": "qB3eqdsnfszD"
      },
      "source": [
        "x = layers.Dense(64, activation='relu')(x) # new layer and stack over the previous layers\n",
        "outputs = layers.Dense(10)(x)\n",
        "model = keras.Model(inputs=reginputs, outputs=outputs, name='mnistfashion')\n"
      ],
      "execution_count": 7,
      "outputs": []
    },
    {
      "cell_type": "code",
      "metadata": {
        "colab": {
          "base_uri": "https://localhost:8080/"
        },
        "id": "TNcIfcHXgFak",
        "outputId": "1d7d6106-86cf-48d1-af04-fdecbb911c63"
      },
      "source": [
        "model.summary()"
      ],
      "execution_count": 8,
      "outputs": [
        {
          "output_type": "stream",
          "text": [
            "Model: \"mnistfashion\"\n",
            "_________________________________________________________________\n",
            "Layer (type)                 Output Shape              Param #   \n",
            "=================================================================\n",
            "input_2 (InputLayer)         [(None, 784)]             0         \n",
            "_________________________________________________________________\n",
            "dense (Dense)                (None, 64)                50240     \n",
            "_________________________________________________________________\n",
            "dense_1 (Dense)              (None, 64)                4160      \n",
            "_________________________________________________________________\n",
            "dense_2 (Dense)              (None, 10)                650       \n",
            "=================================================================\n",
            "Total params: 55,050\n",
            "Trainable params: 55,050\n",
            "Non-trainable params: 0\n",
            "_________________________________________________________________\n"
          ],
          "name": "stdout"
        }
      ]
    },
    {
      "cell_type": "code",
      "metadata": {
        "colab": {
          "base_uri": "https://localhost:8080/",
          "height": 369
        },
        "id": "Viabp_XTgH3C",
        "outputId": "197e30c6-c9cd-4be9-ea31-db909736b345"
      },
      "source": [
        "keras.utils.plot_model(model, \"modelgraph.png\")"
      ],
      "execution_count": 10,
      "outputs": [
        {
          "output_type": "execute_result",
          "data": {
            "image/png": "[encoded data removed]",
            "text/plain": [
              "<IPython.core.display.Image object>"
            ]
          },
          "metadata": {
            "tags": []
          },
          "execution_count": 10
        }
      ]
    },
    {
      "cell_type": "code",
      "metadata": {
        "colab": {
          "base_uri": "https://localhost:8080/",
          "height": 422
        },
        "id": "CUQaozwDgT2w",
        "outputId": "23f0f7e3-ef52-40c8-91d9-8779167cf10c"
      },
      "source": [
        "keras.utils.plot_model(model, \"modelgraph.png\", show_layer_names=True, show_shapes=True)"
      ],
      "execution_count": 11,
      "outputs": [
        {
          "output_type": "execute_result",
          "data": {
            "image/png": "[encoded data removed]",
            "text/plain": [
              "<IPython.core.display.Image object>"
            ]
          },
          "metadata": {
            "tags": []
          },
          "execution_count": 11
        }
      ]
    },
    {
      "cell_type": "code",
      "metadata": {
        "id": "_VzAmN39gdRU"
      },
      "source": [
        "model.save('kerasfunctionalapi.h5') # save model"
      ],
      "execution_count": 12,
      "outputs": []
    },
    {
      "cell_type": "code",
      "metadata": {
        "colab": {
          "base_uri": "https://localhost:8080/"
        },
        "id": "Zm2bOHXRgm2C",
        "outputId": "0cf11289-07e5-4a48-e005-c0fe7e91d41d"
      },
      "source": [
        "anothermodel = keras.models.load_model('kerasfunctionalapi.h5') # load model"
      ],
      "execution_count": 13,
      "outputs": [
        {
          "output_type": "stream",
          "text": [
            "WARNING:tensorflow:No training configuration found in the save file, so the model was *not* compiled. Compile it manually.\n"
          ],
          "name": "stdout"
        }
      ]
    },
    {
      "cell_type": "code",
      "metadata": {
        "id": "mgvY8rIggsZs"
      },
      "source": [
        "# CNN-> repeatability-> reuse SAME layers again and again \n",
        "\n"
      ],
      "execution_count": null,
      "outputs": []
    }
  ]
}