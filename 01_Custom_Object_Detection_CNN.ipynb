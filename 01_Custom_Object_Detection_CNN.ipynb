{
  "nbformat": 4,
  "nbformat_minor": 0,
  "metadata": {
    "colab": {
      "name": "TCS 01 CNN.ipynb",
      "provenance": [],
      "collapsed_sections": [],
      "authorship_tag": "ABX9TyOrmF7BGTshC7y6cJOtP0rp"
    },
    "kernelspec": {
      "name": "python3",
      "display_name": "Python 3"
    },
    "language_info": {
      "name": "python"
    }
  },
  "cells": [
    {
      "cell_type": "code",
      "metadata": {
        "id": "KBY7G5eWDHjC"
      },
      "source": [
        "import numpy as np\n",
        "import tensorflow as tf\n",
        "from tensorflow import keras\n",
        "from keras import backend\n",
        "# (3,100,100) -> channels first -> theano\n",
        "# (100,100,3) -> channels last -> tensorflow \n",
        "from keras.layers.core import Dense, Dropout, Flatten, Activation \n",
        "from keras.layers.convolutional import Conv2D, MaxPooling2D\n",
        "from keras.layers.normalization import BatchNormalization \n",
        "from keras.models import Sequential\n"
      ],
      "execution_count": 1,
      "outputs": []
    },
    {
      "cell_type": "code",
      "metadata": {
        "id": "6ch61H0EEknh"
      },
      "source": [
        "# Build a basic filtering block \n",
        "# Repeat filtering with larger/smaller filters \n",
        "#    filter window size-> always odd number\n",
        "#     (1,1), (3,3), (5,5), -> image greater 128X128-> (3,3) or larger, use (1,1) on smaller\n",
        "# you may not see larger than (7,7)\n",
        "# keep compressing image/reducing dimensions "
      ],
      "execution_count": 2,
      "outputs": []
    },
    {
      "cell_type": "code",
      "metadata": {
        "id": "ZD9Ng2lUFSuk"
      },
      "source": [
        "# step to build CNN\n",
        "# 1) build a basic filtering block-> outputs FeatureMaps (basic)\n",
        "# 2) repeat advanced filtering blocks-> outputs more complex FeatureMaps \n",
        "# 3) Apply classification->   Flatten-> Dense(ReLu) -> Dense !!!\n"
      ],
      "execution_count": 3,
      "outputs": []
    },
    {
      "cell_type": "code",
      "metadata": {
        "id": "ZLiOj_NhbMAB"
      },
      "source": [
        "class randomCNN:\n",
        "  @staticmethod\n",
        "  def getModel(width, height, depth, classes, reg, init='he_normal'):\n",
        "    model =Sequential()\n",
        "    input_shape = (height, width, depth)\n",
        "    chanDim = -1\n",
        "    if backend.image_data_format() == \"channels_first\":\n",
        "      input_shape = (depth, height, width)\n",
        "      chanDim = 1\n",
        "    \n",
        "    #block\n",
        "    convLayer1_1 = Conv2D(16, (7,7), strides=(2,2), padding=\"valid\", kernel_initializer=init, kernel_regularizer=reg)\n",
        "    convLayer2_1 = Conv2D(32, (3,3), padding=\"same\", kernel_regularizer=reg, kernel_initializer=init )\n",
        "    actLayer1_1 = Activation(\"relu\")\n",
        "    normLayer1_1 = BatchNormalization(axis=chanDim)\n",
        "    convLayer3_1 = Conv2D(32, (3,3), strides=(2,2), padding=\"same\", kernel_regularizer=reg, kernel_initializer=init )\n",
        "    actLayer2_1 = Activation(\"relu\")\n",
        "    normLayer2_1 = BatchNormalization(axis=chanDim)\n",
        "    regLayer1_1 = Dropout(0.25)\n",
        "    block1 = [convLayer1_1, convLayer2_1, actLayer1_1,normLayer1_1, convLayer3_1, actLayer2_1, normLayer2_1, regLayer1_1]\n",
        "\n",
        "\n",
        "    convLayer1_2 = Conv2D(64, (3,3), padding=\"same\", kernel_regularizer=reg, kernel_initializer=init )\n",
        "    actLayer1_2 = Activation(\"relu\")\n",
        "    normLayer1_2 = BatchNormalization(axis=chanDim)\n",
        "    convLayer2_2 = Conv2D(64, (3,3), strides=(2,2), padding=\"same\", kernel_regularizer=reg, kernel_initializer=init )\n",
        "    actLayer2_2 = Activation(\"relu\")\n",
        "    normLayer2_2 = BatchNormalization(axis=chanDim)\n",
        "    regLayer1_2 = Dropout(0.25)\n",
        "    block2 = [convLayer1_2, actLayer1_2,normLayer1_2, convLayer2_2, actLayer2_2, normLayer2_2, regLayer1_2]\n",
        "    \n",
        "\n",
        "    convLayer1_3 = Conv2D(128, (3,3), padding=\"same\", kernel_regularizer=reg, kernel_initializer=init )\n",
        "    actLayer1_3 = Activation(\"relu\")\n",
        "    normLayer1_3 = BatchNormalization(axis=chanDim)\n",
        "    convLayer2_3 = Conv2D(128, (3,3), strides=(2,2), padding=\"same\", kernel_regularizer=reg, kernel_initializer=init )\n",
        "    actLayer2_3 = Activation(\"relu\")\n",
        "    normLayer2_3 = BatchNormalization(axis=chanDim)\n",
        "    regLayer1_3 = Dropout(0.25)\n",
        "    block3 = [convLayer1_3, actLayer1_3,normLayer1_3, convLayer2_3, actLayer2_3, normLayer2_3, regLayer1_3]\n",
        "\n",
        "    flattenLayer = Flatten()\n",
        "    fullyConnectedLayer1 = Dense(512, kernel_initializer=init)\n",
        "    actLayer1 = Activation(\"relu\")\n",
        "    normLayer1 = BatchNormalization()\n",
        "    regLayer1 = Dropout(0.5)\n",
        "    fullyConnectedLayer2 = Dense(classes)\n",
        "    block_classification = [flattenLayer, fullyConnectedLayer1, actLayer1, normLayer1, regLayer1, fullyConnectedLayer2]\n",
        "    allLayers = []\n",
        "    allLayers.extend(block1)\n",
        "    allLayers.extend(block2)\n",
        "    allLayers.extend(block3)\n",
        "    allLayers.extend(block_classification)\n",
        "    #print(len(allLayers))\n",
        "    model = Sequential(allLayers)\n",
        "    \n",
        "    return model\n",
        "\n"
      ],
      "execution_count": 30,
      "outputs": []
    },
    {
      "cell_type": "code",
      "metadata": {
        "id": "djuO7mTHl3yR"
      },
      "source": [
        ""
      ],
      "execution_count": 30,
      "outputs": []
    },
    {
      "cell_type": "code",
      "metadata": {
        "id": "RrpSxoxFikpy"
      },
      "source": [
        "from tensorflow.keras import regularizers\n",
        "model = randomCNN.getModel(96, 96, 3, 10, reg=regularizers.l2(0.0005))\n"
      ],
      "execution_count": 32,
      "outputs": []
    },
    {
      "cell_type": "code",
      "metadata": {
        "id": "ir92JN8ylOZy"
      },
      "source": [
        "# the final state of optimizer is -> loss = 0\n",
        "# initial_learning rate when == 0, that implies we have arrived at most optimum point\n",
        "\n",
        "# v = u + at \n",
        "# v = u - at \n",
        "\n",
        "# 0  =  1e-4 + decay_rate * epochs \n",
        "# -1e-4 = decay_rate * epochs\n",
        "# -1e-4 / epochs = decay_rate\n",
        "from tensorflow.keras.optimizers import Adam\n",
        "init_lr = 1e-4\n",
        "epochs = 50\n",
        "\n",
        "mycustomOptimizer = Adam(lr= init_lr,decay=init_lr/epochs)\n"
      ],
      "execution_count": 36,
      "outputs": []
    },
    {
      "cell_type": "code",
      "metadata": {
        "id": "1TXJyFChnlvD"
      },
      "source": [
        "import matplotlib\n",
        "import matplotlib.pyplot as plt\n",
        "import cv2\n",
        "import os\n",
        "from sklearn.preprocessing import LabelBinarizer\n",
        "from sklearn.model_selection import train_test_split\n",
        "from sklearn.metrics import classification_report\n",
        "from tensorflow.keras.preprocessing.image import ImageDataGenerator\n",
        "from tensorflow.keras.optimizers import Adam\n",
        "from tensorflow.keras.regularizers import l2\n",
        "from imutils import paths\n",
        "\n",
        "all_labels = set([\"cat\",\"dog\"])\n"
      ],
      "execution_count": 41,
      "outputs": []
    },
    {
      "cell_type": "code",
      "metadata": {
        "colab": {
          "base_uri": "https://localhost:8080/"
        },
        "id": "tTduC-rwwXjI",
        "outputId": "e4cd9ad4-a8cd-4a00-9a54-a43eb0e53029"
      },
      "source": [
        "imagePaths = list(paths.list_images('data'))\n",
        "imagePaths"
      ],
      "execution_count": 42,
      "outputs": [
        {
          "output_type": "execute_result",
          "data": {
            "text/plain": [
              "['data/cat/cat1.jpg',\n",
              " 'data/cat/cat2.jpg',\n",
              " 'data/cat/3.png',\n",
              " 'data/cat/cat3.jpg',\n",
              " 'data/dog/d1.jpg',\n",
              " 'data/dog/1.jpg',\n",
              " 'data/dog/d2.jpg',\n",
              " 'data/dog/d3.jpg']"
            ]
          },
          "metadata": {
            "tags": []
          },
          "execution_count": 42
        }
      ]
    },
    {
      "cell_type": "code",
      "metadata": {
        "id": "0By2yJudwn54"
      },
      "source": [
        "data = []\n",
        "labels= []"
      ],
      "execution_count": 43,
      "outputs": []
    },
    {
      "cell_type": "code",
      "metadata": {
        "id": "MgjZZBb1xaNP"
      },
      "source": [
        "for impath in imagePaths:\n",
        "  label = impath.split(os.path.sep)[-2]\n",
        "  if label not in all_labels:\n",
        "    continue\n",
        "  image = cv2.imread(impath)\n",
        "  image = cv2.resize(image, (96, 96))\n",
        "  data.append(image)\n",
        "  labels.append(label)"
      ],
      "execution_count": 44,
      "outputs": []
    },
    {
      "cell_type": "code",
      "metadata": {
        "colab": {
          "base_uri": "https://localhost:8080/"
        },
        "id": "rQEvpOw2yHag",
        "outputId": "23010e2d-268d-42cf-c7ee-e714580214d5"
      },
      "source": [
        "print(labels[0])\n"
      ],
      "execution_count": 48,
      "outputs": [
        {
          "output_type": "stream",
          "text": [
            "cat\n"
          ],
          "name": "stdout"
        }
      ]
    },
    {
      "cell_type": "code",
      "metadata": {
        "id": "lnhjvL_ryJSg"
      },
      "source": [
        "#normalize images\n",
        "data = np.array(data, dtype=\"float\") / 255.0\n",
        "\n",
        "lb = LabelBinarizer()\n",
        "# outputs-> [0 1] -> [cat dog]-> key-value matrix\n",
        "# 3 outs-> [0 1 0] -> [cat dog platypus]\n",
        "# label encoding for 3 outputs-> 0 1 2 \n",
        "# label encoding-> Animaltype = {cat, dog}-> cat=0, dog=1 -> value only"
      ],
      "execution_count": 49,
      "outputs": []
    },
    {
      "cell_type": "code",
      "metadata": {
        "colab": {
          "base_uri": "https://localhost:8080/"
        },
        "id": "u09Oi7cSy-Ty",
        "outputId": "8e78c5a9-6974-4956-b9bf-3c5de2151921"
      },
      "source": [
        "labels_transformed = lb.fit_transform(labels)\n",
        "labels_transformed"
      ],
      "execution_count": 50,
      "outputs": [
        {
          "output_type": "execute_result",
          "data": {
            "text/plain": [
              "array([[0],\n",
              "       [0],\n",
              "       [0],\n",
              "       [0],\n",
              "       [1],\n",
              "       [1],\n",
              "       [1],\n",
              "       [1]])"
            ]
          },
          "metadata": {
            "tags": []
          },
          "execution_count": 50
        }
      ]
    },
    {
      "cell_type": "code",
      "metadata": {
        "id": "leTd0QJVzIeV"
      },
      "source": [
        "xtrain, xtest, ytrain, ytest = train_test_split(data, labels_transformed, test_size=0.2, \n",
        "                                                stratify=labels_transformed, random_state=42)"
      ],
      "execution_count": 51,
      "outputs": []
    },
    {
      "cell_type": "code",
      "metadata": {
        "id": "hhNZoaQeznPL"
      },
      "source": [
        "# augmentation on data to train the model\n",
        "# to generate sufficient training data\n",
        "\n",
        "aug = ImageDataGenerator(rotation_range=40, shear_range=0.25, zoom_range=0.25, \n",
        "                         height_shift_range=0.2,\n",
        "                         width_shift_range=0.2, fill_mode=\"nearest\",\n",
        "                         horizontal_flip=True, brightness_range=(0.5, 1.5))"
      ],
      "execution_count": 52,
      "outputs": []
    },
    {
      "cell_type": "code",
      "metadata": {
        "colab": {
          "base_uri": "https://localhost:8080/"
        },
        "id": "ux6rxDLO0FUf",
        "outputId": "92fb007a-2bf4-4e4d-b009-a21ea7862a06"
      },
      "source": [
        "batch_size = 1\n",
        "epochs = 10\n",
        "model.compile(loss='binary_crossentropy', optimizer=mycustomOptimizer, metrics=['accuracy'])\n",
        "history = model.fit(x=aug.flow(xtrain, ytrain), \n",
        "                    validation_data=(xtest, ytest),\n",
        "                    epochs= epochs)"
      ],
      "execution_count": 59,
      "outputs": [
        {
          "output_type": "stream",
          "text": [
            "Epoch 1/10\n",
            "1/1 [==============================] - 2s 2s/step - loss: nan - accuracy: 1.0000 - val_loss: nan - val_accuracy: 1.0000\n",
            "Epoch 2/10\n",
            "1/1 [==============================] - 0s 181ms/step - loss: nan - accuracy: 1.0000 - val_loss: nan - val_accuracy: 1.0000\n",
            "Epoch 3/10\n",
            "1/1 [==============================] - 0s 201ms/step - loss: nan - accuracy: 1.0000 - val_loss: nan - val_accuracy: 1.0000\n",
            "Epoch 4/10\n",
            "1/1 [==============================] - 0s 187ms/step - loss: nan - accuracy: 1.0000 - val_loss: nan - val_accuracy: 1.0000\n",
            "Epoch 5/10\n",
            "1/1 [==============================] - 0s 195ms/step - loss: nan - accuracy: 1.0000 - val_loss: nan - val_accuracy: 1.0000\n",
            "Epoch 6/10\n",
            "1/1 [==============================] - 0s 185ms/step - loss: nan - accuracy: 1.0000 - val_loss: nan - val_accuracy: 1.0000\n",
            "Epoch 7/10\n",
            "1/1 [==============================] - 0s 198ms/step - loss: nan - accuracy: 1.0000 - val_loss: nan - val_accuracy: 1.0000\n",
            "Epoch 8/10\n",
            "1/1 [==============================] - 0s 193ms/step - loss: nan - accuracy: 1.0000 - val_loss: nan - val_accuracy: 1.0000\n",
            "Epoch 9/10\n",
            "1/1 [==============================] - 0s 195ms/step - loss: nan - accuracy: 1.0000 - val_loss: nan - val_accuracy: 1.0000\n",
            "Epoch 10/10\n",
            "1/1 [==============================] - 0s 193ms/step - loss: nan - accuracy: 1.0000 - val_loss: nan - val_accuracy: 1.0000\n"
          ],
          "name": "stdout"
        }
      ]
    },
    {
      "cell_type": "code",
      "metadata": {
        "id": "rr9fN8CR0tpJ"
      },
      "source": [
        ""
      ],
      "execution_count": null,
      "outputs": []
    }
  ]
}