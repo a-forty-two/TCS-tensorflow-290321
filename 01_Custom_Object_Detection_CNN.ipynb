{
  "nbformat": 4,
  "nbformat_minor": 0,
  "metadata": {
    "colab": {
      "name": "TCS 01 CNN.ipynb",
      "provenance": [],
      "collapsed_sections": [],
      "authorship_tag": "ABX9TyPpYysJtS71xBF56RE1Fn9j"
    },
    "kernelspec": {
      "name": "python3",
      "display_name": "Python 3"
    },
    "language_info": {
      "name": "python"
    }
  },
  "cells": [
    {
      "cell_type": "code",
      "metadata": {
        "id": "KBY7G5eWDHjC"
      },
      "source": [
        "import numpy as np\n",
        "import tensorflow as tf\n",
        "from tensorflow import keras\n",
        "from keras import backend\n",
        "# (3,100,100) -> channels first -> theano\n",
        "# (100,100,3) -> channels last -> tensorflow \n",
        "from keras.layers.core import Dense, Dropout, Flatten, Activation \n",
        "from keras.layers.convolutional import Conv2D, MaxPooling2D\n",
        "from keras.layers.normalization import BatchNormalization \n",
        "from keras.models import Sequential\n"
      ],
      "execution_count": 1,
      "outputs": []
    },
    {
      "cell_type": "code",
      "metadata": {
        "id": "6ch61H0EEknh"
      },
      "source": [
        "# Build a basic filtering block \n",
        "# Repeat filtering with larger/smaller filters \n",
        "#    filter window size-> always odd number\n",
        "#     (1,1), (3,3), (5,5), -> image greater 128X128-> (3,3) or larger, use (1,1) on smaller\n",
        "# you may not see larger than (7,7)\n",
        "# keep compressing image/reducing dimensions "
      ],
      "execution_count": 2,
      "outputs": []
    },
    {
      "cell_type": "code",
      "metadata": {
        "id": "ZD9Ng2lUFSuk"
      },
      "source": [
        "# step to build CNN\n",
        "# 1) build a basic filtering block-> outputs FeatureMaps (basic)\n",
        "# 2) repeat advanced filtering blocks-> outputs more complex FeatureMaps \n",
        "# 3) Apply classification->   Flatten-> Dense(ReLu) -> Dense !!!\n"
      ],
      "execution_count": 3,
      "outputs": []
    },
    {
      "cell_type": "code",
      "metadata": {
        "id": "ZLiOj_NhbMAB"
      },
      "source": [
        "class randomCNN:\n",
        "  @staticmethod\n",
        "  def getModel(width, height, depth, classes, reg, init='he_normal'):\n",
        "    model =Sequential()\n",
        "    input_shape = (height, width, depth)\n",
        "    chanDim = -1\n",
        "    if backend.image_data_format() == \"channels_first\":\n",
        "      input_shape = (depth, height, width)\n",
        "      chanDim = 1\n",
        "    \n",
        "    #block\n",
        "    convLayer1_1 = Conv2D(16, (7,7), strides=(2,2), padding=\"valid\", kernel_initializer=init, \n",
        "                          kernel_regularizer=reg, input_shape= input_shape)\n",
        "    convLayer2_1 = Conv2D(32, (3,3), padding=\"same\", kernel_regularizer=reg, kernel_initializer=init )\n",
        "    actLayer1_1 = Activation(\"relu\")\n",
        "    normLayer1_1 = BatchNormalization(axis=chanDim)\n",
        "    convLayer3_1 = Conv2D(32, (3,3), strides=(2,2), padding=\"same\", kernel_regularizer=reg, kernel_initializer=init )\n",
        "    actLayer2_1 = Activation(\"relu\")\n",
        "    normLayer2_1 = BatchNormalization(axis=chanDim)\n",
        "    regLayer1_1 = Dropout(0.25)\n",
        "    block1 = [convLayer1_1, convLayer2_1, actLayer1_1,normLayer1_1, convLayer3_1, actLayer2_1, normLayer2_1, regLayer1_1]\n",
        "\n",
        "\n",
        "    convLayer1_2 = Conv2D(64, (3,3), padding=\"same\", kernel_regularizer=reg, kernel_initializer=init )\n",
        "    actLayer1_2 = Activation(\"relu\")\n",
        "    normLayer1_2 = BatchNormalization(axis=chanDim)\n",
        "    convLayer2_2 = Conv2D(64, (3,3), strides=(2,2), padding=\"same\", kernel_regularizer=reg, kernel_initializer=init )\n",
        "    actLayer2_2 = Activation(\"relu\")\n",
        "    normLayer2_2 = BatchNormalization(axis=chanDim)\n",
        "    regLayer1_2 = Dropout(0.25)\n",
        "    block2 = [convLayer1_2, actLayer1_2,normLayer1_2, convLayer2_2, actLayer2_2, normLayer2_2, regLayer1_2]\n",
        "    \n",
        "\n",
        "    convLayer1_3 = Conv2D(128, (3,3), padding=\"same\", kernel_regularizer=reg, kernel_initializer=init )\n",
        "    actLayer1_3 = Activation(\"relu\")\n",
        "    normLayer1_3 = BatchNormalization(axis=chanDim)\n",
        "    convLayer2_3 = Conv2D(128, (3,3), strides=(2,2), padding=\"same\", kernel_regularizer=reg, kernel_initializer=init )\n",
        "    actLayer2_3 = Activation(\"relu\")\n",
        "    normLayer2_3 = BatchNormalization(axis=chanDim)\n",
        "    regLayer1_3 = Dropout(0.25)\n",
        "    block3 = [convLayer1_3, actLayer1_3,normLayer1_3, convLayer2_3, actLayer2_3, normLayer2_3, regLayer1_3]\n",
        "\n",
        "    flattenLayer = Flatten()\n",
        "    fullyConnectedLayer1 = Dense(512, kernel_initializer=init)\n",
        "    actLayer1 = Activation(\"relu\")\n",
        "    normLayer1 = BatchNormalization()\n",
        "    regLayer1 = Dropout(0.5)\n",
        "    fullyConnectedLayer2 = Dense(classes)\n",
        "    block_classification = [flattenLayer, fullyConnectedLayer1, actLayer1, normLayer1, regLayer1, fullyConnectedLayer2]\n",
        "    allLayers = []\n",
        "    allLayers.extend(block1)\n",
        "    allLayers.extend(block2)\n",
        "    allLayers.extend(block3)\n",
        "    allLayers.extend(block_classification)\n",
        "    #print(len(allLayers))\n",
        "    model = Sequential(allLayers)\n",
        "    \n",
        "    return model\n",
        "\n"
      ],
      "execution_count": 63,
      "outputs": []
    },
    {
      "cell_type": "code",
      "metadata": {
        "id": "djuO7mTHl3yR"
      },
      "source": [
        ""
      ],
      "execution_count": 63,
      "outputs": []
    },
    {
      "cell_type": "code",
      "metadata": {
        "id": "RrpSxoxFikpy"
      },
      "source": [
        "from tensorflow.keras import regularizers\n",
        "model = randomCNN.getModel(96, 96, 3, 10, reg=regularizers.l2(0.0005))\n"
      ],
      "execution_count": 64,
      "outputs": []
    },
    {
      "cell_type": "code",
      "metadata": {
        "id": "ir92JN8ylOZy"
      },
      "source": [
        "# the final state of optimizer is -> loss = 0\n",
        "# initial_learning rate when == 0, that implies we have arrived at most optimum point\n",
        "\n",
        "# v = u + at \n",
        "# v = u - at \n",
        "\n",
        "# 0  =  1e-4 + decay_rate * epochs \n",
        "# -1e-4 = decay_rate * epochs\n",
        "# -1e-4 / epochs = decay_rate\n",
        "from tensorflow.keras.optimizers import Adam\n",
        "init_lr = 1e-4\n",
        "epochs = 50\n",
        "\n",
        "mycustomOptimizer = Adam(lr= init_lr,decay=init_lr/epochs)\n"
      ],
      "execution_count": 65,
      "outputs": []
    },
    {
      "cell_type": "code",
      "metadata": {
        "id": "1TXJyFChnlvD"
      },
      "source": [
        "import matplotlib\n",
        "import matplotlib.pyplot as plt\n",
        "import cv2\n",
        "import os\n",
        "from sklearn.preprocessing import LabelBinarizer\n",
        "from sklearn.model_selection import train_test_split\n",
        "from sklearn.metrics import classification_report\n",
        "from tensorflow.keras.preprocessing.image import ImageDataGenerator\n",
        "from tensorflow.keras.optimizers import Adam\n",
        "from tensorflow.keras.regularizers import l2\n",
        "from imutils import paths\n",
        "\n",
        "all_labels = set([\"cat\",\"dog\"])\n"
      ],
      "execution_count": 66,
      "outputs": []
    },
    {
      "cell_type": "code",
      "metadata": {
        "colab": {
          "base_uri": "https://localhost:8080/"
        },
        "id": "tTduC-rwwXjI",
        "outputId": "ee0ff541-3810-4dd1-baf5-205bbadaf535"
      },
      "source": [
        "imagePaths = list(paths.list_images('data'))\n",
        "imagePaths"
      ],
      "execution_count": 67,
      "outputs": [
        {
          "output_type": "execute_result",
          "data": {
            "text/plain": [
              "['data/cat/cat1.jpg',\n",
              " 'data/cat/cat2.jpg',\n",
              " 'data/cat/3.png',\n",
              " 'data/cat/cat3.jpg',\n",
              " 'data/dog/d1.jpg',\n",
              " 'data/dog/1.jpg',\n",
              " 'data/dog/d2.jpg',\n",
              " 'data/dog/d3.jpg']"
            ]
          },
          "metadata": {
            "tags": []
          },
          "execution_count": 67
        }
      ]
    },
    {
      "cell_type": "code",
      "metadata": {
        "id": "0By2yJudwn54"
      },
      "source": [
        "data = []\n",
        "labels= []"
      ],
      "execution_count": 68,
      "outputs": []
    },
    {
      "cell_type": "code",
      "metadata": {
        "id": "MgjZZBb1xaNP"
      },
      "source": [
        "for impath in imagePaths:\n",
        "  label = impath.split(os.path.sep)[-2]\n",
        "  if label not in all_labels:\n",
        "    continue\n",
        "  image = cv2.imread(impath)\n",
        "  image = cv2.resize(image, (96, 96))\n",
        "  data.append(image)\n",
        "  labels.append(label)"
      ],
      "execution_count": 69,
      "outputs": []
    },
    {
      "cell_type": "code",
      "metadata": {
        "colab": {
          "base_uri": "https://localhost:8080/"
        },
        "id": "rQEvpOw2yHag",
        "outputId": "8f8b4092-92a7-40b4-9af9-86849f277769"
      },
      "source": [
        "print(labels[0])\n"
      ],
      "execution_count": 70,
      "outputs": [
        {
          "output_type": "stream",
          "text": [
            "cat\n"
          ],
          "name": "stdout"
        }
      ]
    },
    {
      "cell_type": "code",
      "metadata": {
        "id": "lnhjvL_ryJSg"
      },
      "source": [
        "#normalize images\n",
        "data = np.array(data, dtype=\"float\") / 255.0\n",
        "\n",
        "lb = LabelBinarizer()\n",
        "# outputs-> [0 1] -> [cat dog]-> key-value matrix\n",
        "# 3 outs-> [0 1 0] -> [cat dog platypus]\n",
        "# label encoding for 3 outputs-> 0 1 2 \n",
        "# label encoding-> Animaltype = {cat, dog}-> cat=0, dog=1 -> value only"
      ],
      "execution_count": 71,
      "outputs": []
    },
    {
      "cell_type": "code",
      "metadata": {
        "colab": {
          "base_uri": "https://localhost:8080/"
        },
        "id": "u09Oi7cSy-Ty",
        "outputId": "5c6bf9c6-8398-48c5-ba6b-880b921e5689"
      },
      "source": [
        "labels_transformed = lb.fit_transform(labels)\n",
        "labels_transformed"
      ],
      "execution_count": 72,
      "outputs": [
        {
          "output_type": "execute_result",
          "data": {
            "text/plain": [
              "array([[0],\n",
              "       [0],\n",
              "       [0],\n",
              "       [0],\n",
              "       [1],\n",
              "       [1],\n",
              "       [1],\n",
              "       [1]])"
            ]
          },
          "metadata": {
            "tags": []
          },
          "execution_count": 72
        }
      ]
    },
    {
      "cell_type": "code",
      "metadata": {
        "id": "leTd0QJVzIeV"
      },
      "source": [
        "xtrain, xtest, ytrain, ytest = train_test_split(data, labels_transformed, test_size=0.2, \n",
        "                                                stratify=labels_transformed, random_state=42)"
      ],
      "execution_count": 73,
      "outputs": []
    },
    {
      "cell_type": "code",
      "metadata": {
        "id": "hhNZoaQeznPL"
      },
      "source": [
        "# augmentation on data to train the model\n",
        "# to generate sufficient training data\n",
        "\n",
        "aug = ImageDataGenerator(rotation_range=40, shear_range=0.25, zoom_range=0.25, \n",
        "                         height_shift_range=0.2,\n",
        "                         width_shift_range=0.2, fill_mode=\"nearest\",\n",
        "                         horizontal_flip=True, brightness_range=(0.5, 1.5))"
      ],
      "execution_count": 74,
      "outputs": []
    },
    {
      "cell_type": "code",
      "metadata": {
        "colab": {
          "base_uri": "https://localhost:8080/"
        },
        "id": "ux6rxDLO0FUf",
        "outputId": "36792750-eb86-4350-d285-58e1bfcd5847"
      },
      "source": [
        "batch_size = 1\n",
        "epochs = 50\n",
        "model.compile(loss='binary_crossentropy', optimizer=mycustomOptimizer, metrics=['accuracy'])\n",
        "history = model.fit(x=aug.flow(xtrain, ytrain, batch_size=1), \n",
        "                    validation_data=(xtest, ytest),\n",
        "                    steps_per_epoch = len(xtrain) // 1,\n",
        "                    epochs= epochs)"
      ],
      "execution_count": 76,
      "outputs": [
        {
          "output_type": "stream",
          "text": [
            "Epoch 1/50\n",
            "6/6 [==============================] - 2s 107ms/step - loss: 5.3135 - accuracy: 1.0000 - val_loss: 3.3144 - val_accuracy: 0.0000e+00\n",
            "Epoch 2/50\n",
            "6/6 [==============================] - 0s 43ms/step - loss: 8.0616 - accuracy: 1.0000 - val_loss: 3.2808 - val_accuracy: 0.0000e+00\n",
            "Epoch 3/50\n",
            "6/6 [==============================] - 0s 43ms/step - loss: 8.1287 - accuracy: 1.0000 - val_loss: 3.2343 - val_accuracy: 0.0000e+00\n",
            "Epoch 4/50\n",
            "6/6 [==============================] - 0s 45ms/step - loss: 7.1309 - accuracy: 1.0000 - val_loss: 3.2571 - val_accuracy: 0.0000e+00\n",
            "Epoch 5/50\n",
            "6/6 [==============================] - 0s 43ms/step - loss: 5.2886 - accuracy: 1.0000 - val_loss: 3.2558 - val_accuracy: 0.0000e+00\n",
            "Epoch 6/50\n",
            "6/6 [==============================] - 0s 44ms/step - loss: 11.4159 - accuracy: 1.0000 - val_loss: 3.2901 - val_accuracy: 0.0000e+00\n",
            "Epoch 7/50\n",
            "6/6 [==============================] - 0s 45ms/step - loss: 5.2768 - accuracy: 1.0000 - val_loss: 3.4210 - val_accuracy: 0.0000e+00\n",
            "Epoch 8/50\n",
            "6/6 [==============================] - 0s 47ms/step - loss: 9.0171 - accuracy: 1.0000 - val_loss: 3.8988 - val_accuracy: 0.0000e+00\n",
            "Epoch 9/50\n",
            "6/6 [==============================] - 0s 44ms/step - loss: 5.7061 - accuracy: 1.0000 - val_loss: 3.8916 - val_accuracy: 0.0000e+00\n",
            "Epoch 10/50\n",
            "6/6 [==============================] - 0s 42ms/step - loss: 8.0877 - accuracy: 1.0000 - val_loss: 3.8723 - val_accuracy: 0.0000e+00\n",
            "Epoch 11/50\n",
            "6/6 [==============================] - 0s 43ms/step - loss: 9.2942 - accuracy: 1.0000 - val_loss: 3.8653 - val_accuracy: 0.0000e+00\n",
            "Epoch 12/50\n",
            "6/6 [==============================] - 0s 44ms/step - loss: 8.0035 - accuracy: 1.0000 - val_loss: 3.8716 - val_accuracy: 0.0000e+00\n",
            "Epoch 13/50\n",
            "6/6 [==============================] - 0s 46ms/step - loss: 12.1115 - accuracy: 1.0000 - val_loss: 3.8850 - val_accuracy: 0.0000e+00\n",
            "Epoch 14/50\n",
            "6/6 [==============================] - 0s 45ms/step - loss: 8.9846 - accuracy: 1.0000 - val_loss: 3.8671 - val_accuracy: 0.0000e+00\n",
            "Epoch 15/50\n",
            "6/6 [==============================] - 0s 45ms/step - loss: 5.2335 - accuracy: 1.0000 - val_loss: 3.9244 - val_accuracy: 0.0000e+00\n",
            "Epoch 16/50\n",
            "6/6 [==============================] - 0s 47ms/step - loss: 7.9830 - accuracy: 1.0000 - val_loss: 4.5896 - val_accuracy: 0.0000e+00\n",
            "Epoch 17/50\n",
            "6/6 [==============================] - 0s 44ms/step - loss: 9.7042 - accuracy: 1.0000 - val_loss: 5.3162 - val_accuracy: 0.0000e+00\n",
            "Epoch 18/50\n",
            "6/6 [==============================] - 0s 46ms/step - loss: 8.0467 - accuracy: 1.0000 - val_loss: 5.3423 - val_accuracy: 0.0000e+00\n",
            "Epoch 19/50\n",
            "6/6 [==============================] - 0s 43ms/step - loss: 6.3158 - accuracy: 1.0000 - val_loss: 4.6989 - val_accuracy: 0.0000e+00\n",
            "Epoch 20/50\n",
            "6/6 [==============================] - 0s 43ms/step - loss: 10.3510 - accuracy: 1.0000 - val_loss: 5.3305 - val_accuracy: 0.0000e+00\n",
            "Epoch 21/50\n",
            "6/6 [==============================] - 0s 44ms/step - loss: 10.3465 - accuracy: 1.0000 - val_loss: 6.0384 - val_accuracy: 0.0000e+00\n",
            "Epoch 22/50\n",
            "6/6 [==============================] - 0s 48ms/step - loss: 7.0366 - accuracy: 1.0000 - val_loss: 6.6454 - val_accuracy: 0.0000e+00\n",
            "Epoch 23/50\n",
            "6/6 [==============================] - 0s 46ms/step - loss: 3.9105 - accuracy: 1.0000 - val_loss: 6.7083 - val_accuracy: 0.0000e+00\n",
            "Epoch 24/50\n",
            "6/6 [==============================] - 0s 47ms/step - loss: 12.0593 - accuracy: 1.0000 - val_loss: 7.2555 - val_accuracy: 0.0000e+00\n",
            "Epoch 25/50\n",
            "6/6 [==============================] - 0s 43ms/step - loss: 5.6280 - accuracy: 1.0000 - val_loss: 6.0933 - val_accuracy: 0.0000e+00\n",
            "Epoch 26/50\n",
            "6/6 [==============================] - 0s 43ms/step - loss: 10.2146 - accuracy: 1.0000 - val_loss: 6.6693 - val_accuracy: 0.0000e+00\n",
            "Epoch 27/50\n",
            "6/6 [==============================] - 0s 43ms/step - loss: 9.2188 - accuracy: 1.0000 - val_loss: 6.6616 - val_accuracy: 0.0000e+00\n",
            "Epoch 28/50\n",
            "6/6 [==============================] - 0s 43ms/step - loss: 7.9294 - accuracy: 1.0000 - val_loss: 6.6288 - val_accuracy: 0.0000e+00\n",
            "Epoch 29/50\n",
            "6/6 [==============================] - 0s 46ms/step - loss: 7.0072 - accuracy: 1.0000 - val_loss: 6.6488 - val_accuracy: 0.0000e+00\n",
            "Epoch 30/50\n",
            "6/6 [==============================] - 0s 43ms/step - loss: 7.9214 - accuracy: 1.0000 - val_loss: 6.6560 - val_accuracy: 0.0000e+00\n",
            "Epoch 31/50\n",
            "6/6 [==============================] - 0s 44ms/step - loss: 10.7455 - accuracy: 1.0000 - val_loss: 7.2976 - val_accuracy: 0.0000e+00\n",
            "Epoch 32/50\n",
            "6/6 [==============================] - 0s 47ms/step - loss: 9.1992 - accuracy: 1.0000 - val_loss: 7.3539 - val_accuracy: 0.0000e+00\n",
            "Epoch 33/50\n",
            "6/6 [==============================] - 0s 43ms/step - loss: 10.1871 - accuracy: 1.0000 - val_loss: 7.9001 - val_accuracy: 0.0000e+00\n",
            "Epoch 34/50\n",
            "6/6 [==============================] - 0s 43ms/step - loss: 4.6011 - accuracy: 1.0000 - val_loss: 7.8964 - val_accuracy: 0.0000e+00\n",
            "Epoch 35/50\n",
            "6/6 [==============================] - 0s 43ms/step - loss: 9.1882 - accuracy: 1.0000 - val_loss: 7.8929 - val_accuracy: 0.0000e+00\n",
            "Epoch 36/50\n",
            "6/6 [==============================] - 0s 47ms/step - loss: 7.8993 - accuracy: 1.0000 - val_loss: 7.8894 - val_accuracy: 0.0000e+00\n",
            "Epoch 37/50\n",
            "6/6 [==============================] - 0s 44ms/step - loss: 7.4183 - accuracy: 1.0000 - val_loss: 7.8859 - val_accuracy: 0.0000e+00\n",
            "Epoch 38/50\n",
            "6/6 [==============================] - 0s 46ms/step - loss: 5.5786 - accuracy: 1.0000 - val_loss: 7.8826 - val_accuracy: 0.0000e+00\n",
            "Epoch 39/50\n",
            "6/6 [==============================] - 0s 44ms/step - loss: 10.7169 - accuracy: 1.0000 - val_loss: 7.8792 - val_accuracy: 0.0000e+00\n",
            "Epoch 40/50\n",
            "6/6 [==============================] - 0s 47ms/step - loss: 10.7136 - accuracy: 1.0000 - val_loss: 7.8760 - val_accuracy: 0.0000e+00\n",
            "Epoch 41/50\n",
            "6/6 [==============================] - 0s 44ms/step - loss: 7.9558 - accuracy: 1.0000 - val_loss: 7.8727 - val_accuracy: 0.0000e+00\n",
            "Epoch 42/50\n",
            "6/6 [==============================] - 0s 42ms/step - loss: 5.6756 - accuracy: 1.0000 - val_loss: 7.8696 - val_accuracy: 0.0000e+00\n",
            "Epoch 43/50\n",
            "6/6 [==============================] - 0s 46ms/step - loss: 5.5623 - accuracy: 1.0000 - val_loss: 7.8665 - val_accuracy: 0.0000e+00\n",
            "Epoch 44/50\n",
            "6/6 [==============================] - 0s 44ms/step - loss: 5.5592 - accuracy: 1.0000 - val_loss: 7.8634 - val_accuracy: 0.0000e+00\n",
            "Epoch 45/50\n",
            "6/6 [==============================] - 0s 45ms/step - loss: 7.9433 - accuracy: 1.0000 - val_loss: 7.2000 - val_accuracy: 0.0000e+00\n",
            "Epoch 46/50\n",
            "6/6 [==============================] - 0s 44ms/step - loss: 4.5615 - accuracy: 1.0000 - val_loss: 7.2211 - val_accuracy: 0.0000e+00\n",
            "Epoch 47/50\n",
            "6/6 [==============================] - 0s 43ms/step - loss: 7.9374 - accuracy: 1.0000 - val_loss: 7.1764 - val_accuracy: 0.0000e+00\n",
            "Epoch 48/50\n",
            "6/6 [==============================] - 0s 46ms/step - loss: 11.9743 - accuracy: 1.0000 - val_loss: 7.1477 - val_accuracy: 0.0000e+00\n",
            "Epoch 49/50\n",
            "6/6 [==============================] - 0s 44ms/step - loss: 7.3807 - accuracy: 1.0000 - val_loss: 7.1442 - val_accuracy: 0.0000e+00\n",
            "Epoch 50/50\n",
            "6/6 [==============================] - 0s 47ms/step - loss: 11.9687 - accuracy: 1.0000 - val_loss: 7.1515 - val_accuracy: 0.0000e+00\n"
          ],
          "name": "stdout"
        }
      ]
    },
    {
      "cell_type": "code",
      "metadata": {
        "id": "rr9fN8CR0tpJ"
      },
      "source": [
        ""
      ],
      "execution_count": null,
      "outputs": []
    }
  ]
}